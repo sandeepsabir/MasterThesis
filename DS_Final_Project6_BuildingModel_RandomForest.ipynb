{
 "cells": [
  {
   "cell_type": "code",
   "execution_count": 3,
   "id": "14b18bf6",
   "metadata": {},
   "outputs": [
    {
     "ename": "ModuleNotFoundError",
     "evalue": "No module named 'pandas'",
     "output_type": "error",
     "traceback": [
      "\u001b[1;31m---------------------------------------------------------------------------\u001b[0m",
      "\u001b[1;31mModuleNotFoundError\u001b[0m                       Traceback (most recent call last)",
      "Cell \u001b[1;32mIn[3], line 1\u001b[0m\n\u001b[1;32m----> 1\u001b[0m \u001b[38;5;28;01mimport\u001b[39;00m \u001b[38;5;21;01mpandas\u001b[39;00m \u001b[38;5;28;01mas\u001b[39;00m \u001b[38;5;21;01mpd\u001b[39;00m\n\u001b[0;32m      2\u001b[0m \u001b[38;5;28;01mimport\u001b[39;00m \u001b[38;5;21;01mmatplotlib\u001b[39;00m\u001b[38;5;21;01m.\u001b[39;00m\u001b[38;5;21;01mpyplot\u001b[39;00m \u001b[38;5;28;01mas\u001b[39;00m \u001b[38;5;21;01mplt\u001b[39;00m\n\u001b[0;32m      3\u001b[0m \u001b[38;5;28;01mimport\u001b[39;00m \u001b[38;5;21;01mcv2\u001b[39;00m\n",
      "\u001b[1;31mModuleNotFoundError\u001b[0m: No module named 'pandas'"
     ]
    }
   ],
   "source": [
    "import pandas as pd\n",
    "import matplotlib.pyplot as plt\n",
    "import cv2\n",
    "from matplotlib.colors import LinearSegmentedColormap\n",
    "from sklearn.model_selection import train_test_split\n",
    "from sklearn.ensemble import RandomForestClassifier\n",
    "from sklearn import metrics\n",
    "from sklearn.metrics import classification_report, confusion_matrix, roc_auc_score\n",
    "import joblib"
   ]
  },
  {
   "cell_type": "markdown",
   "id": "41d42e31",
   "metadata": {},
   "source": [
    "# Import and Preprocess Original Image"
   ]
  },
  {
   "cell_type": "code",
   "execution_count": null,
   "id": "4a5222e9",
   "metadata": {},
   "outputs": [
    {
     "data": {
      "text/html": [
       "<div>\n",
       "<style scoped>\n",
       "    .dataframe tbody tr th:only-of-type {\n",
       "        vertical-align: middle;\n",
       "    }\n",
       "\n",
       "    .dataframe tbody tr th {\n",
       "        vertical-align: top;\n",
       "    }\n",
       "\n",
       "    .dataframe thead th {\n",
       "        text-align: right;\n",
       "    }\n",
       "</style>\n",
       "<table border=\"1\" class=\"dataframe\">\n",
       "  <thead>\n",
       "    <tr style=\"text-align: right;\">\n",
       "      <th></th>\n",
       "      <th>Unnamed: 0</th>\n",
       "      <th>File_Name</th>\n",
       "      <th>SSIM</th>\n",
       "      <th>Expanded</th>\n",
       "      <th>ExpandedStr</th>\n",
       "    </tr>\n",
       "  </thead>\n",
       "  <tbody>\n",
       "    <tr>\n",
       "      <th>0</th>\n",
       "      <td>0</td>\n",
       "      <td>WIN_20240307_14_59_52_Pro_272_000001</td>\n",
       "      <td>0.751425</td>\n",
       "      <td>Unexpanded</td>\n",
       "      <td>Unexpanded</td>\n",
       "    </tr>\n",
       "    <tr>\n",
       "      <th>1</th>\n",
       "      <td>1</td>\n",
       "      <td>WIN_20240307_14_59_52_Pro_273_000002</td>\n",
       "      <td>0.746898</td>\n",
       "      <td>Unexpanded</td>\n",
       "      <td>Unexpanded</td>\n",
       "    </tr>\n",
       "    <tr>\n",
       "      <th>2</th>\n",
       "      <td>2</td>\n",
       "      <td>WIN_20240307_14_59_52_Pro_274_000003</td>\n",
       "      <td>0.747401</td>\n",
       "      <td>Unexpanded</td>\n",
       "      <td>Unexpanded</td>\n",
       "    </tr>\n",
       "    <tr>\n",
       "      <th>3</th>\n",
       "      <td>3</td>\n",
       "      <td>WIN_20240307_14_59_52_Pro_275_000004</td>\n",
       "      <td>0.747409</td>\n",
       "      <td>Unexpanded</td>\n",
       "      <td>Unexpanded</td>\n",
       "    </tr>\n",
       "    <tr>\n",
       "      <th>4</th>\n",
       "      <td>4</td>\n",
       "      <td>WIN_20240307_14_59_52_Pro_276_000005</td>\n",
       "      <td>0.745905</td>\n",
       "      <td>Unexpanded</td>\n",
       "      <td>Unexpanded</td>\n",
       "    </tr>\n",
       "    <tr>\n",
       "      <th>...</th>\n",
       "      <td>...</td>\n",
       "      <td>...</td>\n",
       "      <td>...</td>\n",
       "      <td>...</td>\n",
       "      <td>...</td>\n",
       "    </tr>\n",
       "    <tr>\n",
       "      <th>19530</th>\n",
       "      <td>19530</td>\n",
       "      <td>WIN_20240307_19_43_34_Pro_56_019531</td>\n",
       "      <td>0.884496</td>\n",
       "      <td>Expanded</td>\n",
       "      <td>Expanded</td>\n",
       "    </tr>\n",
       "    <tr>\n",
       "      <th>19531</th>\n",
       "      <td>19531</td>\n",
       "      <td>WIN_20240307_19_43_34_Pro_57_019532</td>\n",
       "      <td>0.881914</td>\n",
       "      <td>Expanded</td>\n",
       "      <td>Expanded</td>\n",
       "    </tr>\n",
       "    <tr>\n",
       "      <th>19532</th>\n",
       "      <td>19532</td>\n",
       "      <td>WIN_20240307_19_43_34_Pro_58_019533</td>\n",
       "      <td>0.883714</td>\n",
       "      <td>Expanded</td>\n",
       "      <td>Expanded</td>\n",
       "    </tr>\n",
       "    <tr>\n",
       "      <th>19533</th>\n",
       "      <td>19533</td>\n",
       "      <td>WIN_20240307_19_43_34_Pro_59_019534</td>\n",
       "      <td>0.881472</td>\n",
       "      <td>Expanded</td>\n",
       "      <td>Expanded</td>\n",
       "    </tr>\n",
       "    <tr>\n",
       "      <th>19534</th>\n",
       "      <td>19534</td>\n",
       "      <td>WIN_20240307_19_43_34_Pro_60_019535</td>\n",
       "      <td>0.882817</td>\n",
       "      <td>Expanded</td>\n",
       "      <td>Expanded</td>\n",
       "    </tr>\n",
       "  </tbody>\n",
       "</table>\n",
       "<p>19535 rows × 5 columns</p>\n",
       "</div>"
      ],
      "text/plain": [
       "       Unnamed: 0                             File_Name      SSIM    Expanded  \\\n",
       "0               0  WIN_20240307_14_59_52_Pro_272_000001  0.751425  Unexpanded   \n",
       "1               1  WIN_20240307_14_59_52_Pro_273_000002  0.746898  Unexpanded   \n",
       "2               2  WIN_20240307_14_59_52_Pro_274_000003  0.747401  Unexpanded   \n",
       "3               3  WIN_20240307_14_59_52_Pro_275_000004  0.747409  Unexpanded   \n",
       "4               4  WIN_20240307_14_59_52_Pro_276_000005  0.745905  Unexpanded   \n",
       "...           ...                                   ...       ...         ...   \n",
       "19530       19530   WIN_20240307_19_43_34_Pro_56_019531  0.884496    Expanded   \n",
       "19531       19531   WIN_20240307_19_43_34_Pro_57_019532  0.881914    Expanded   \n",
       "19532       19532   WIN_20240307_19_43_34_Pro_58_019533  0.883714    Expanded   \n",
       "19533       19533   WIN_20240307_19_43_34_Pro_59_019534  0.881472    Expanded   \n",
       "19534       19534   WIN_20240307_19_43_34_Pro_60_019535  0.882817    Expanded   \n",
       "\n",
       "      ExpandedStr  \n",
       "0      Unexpanded  \n",
       "1      Unexpanded  \n",
       "2      Unexpanded  \n",
       "3      Unexpanded  \n",
       "4      Unexpanded  \n",
       "...           ...  \n",
       "19530    Expanded  \n",
       "19531    Expanded  \n",
       "19532    Expanded  \n",
       "19533    Expanded  \n",
       "19534    Expanded  \n",
       "\n",
       "[19535 rows x 5 columns]"
      ]
     },
     "execution_count": 2,
     "metadata": {},
     "output_type": "execute_result"
    }
   ],
   "source": [
    "df_batteryLidImages = pd.read_csv('D:\\\\Volvo\\\\BatteryLidImages.csv')\n",
    "df_batteryLidImages['ExpandedStr'] = df_batteryLidImages['Expanded']\n",
    "df_batteryLidImages"
   ]
  },
  {
   "cell_type": "code",
   "execution_count": null,
   "id": "59bc36a7",
   "metadata": {},
   "outputs": [
    {
     "data": {
      "text/html": [
       "<div>\n",
       "<style scoped>\n",
       "    .dataframe tbody tr th:only-of-type {\n",
       "        vertical-align: middle;\n",
       "    }\n",
       "\n",
       "    .dataframe tbody tr th {\n",
       "        vertical-align: top;\n",
       "    }\n",
       "\n",
       "    .dataframe thead th {\n",
       "        text-align: right;\n",
       "    }\n",
       "</style>\n",
       "<table border=\"1\" class=\"dataframe\">\n",
       "  <thead>\n",
       "    <tr style=\"text-align: right;\">\n",
       "      <th></th>\n",
       "      <th>Unnamed: 0</th>\n",
       "      <th>File_Name</th>\n",
       "      <th>SSIM</th>\n",
       "      <th>Expanded</th>\n",
       "      <th>ExpandedStr</th>\n",
       "    </tr>\n",
       "  </thead>\n",
       "  <tbody>\n",
       "    <tr>\n",
       "      <th>0</th>\n",
       "      <td>0</td>\n",
       "      <td>WIN_20240307_14_59_52_Pro_272_000001</td>\n",
       "      <td>0.751425</td>\n",
       "      <td>0</td>\n",
       "      <td>Unexpanded</td>\n",
       "    </tr>\n",
       "    <tr>\n",
       "      <th>1</th>\n",
       "      <td>1</td>\n",
       "      <td>WIN_20240307_14_59_52_Pro_273_000002</td>\n",
       "      <td>0.746898</td>\n",
       "      <td>0</td>\n",
       "      <td>Unexpanded</td>\n",
       "    </tr>\n",
       "    <tr>\n",
       "      <th>2</th>\n",
       "      <td>2</td>\n",
       "      <td>WIN_20240307_14_59_52_Pro_274_000003</td>\n",
       "      <td>0.747401</td>\n",
       "      <td>0</td>\n",
       "      <td>Unexpanded</td>\n",
       "    </tr>\n",
       "    <tr>\n",
       "      <th>3</th>\n",
       "      <td>3</td>\n",
       "      <td>WIN_20240307_14_59_52_Pro_275_000004</td>\n",
       "      <td>0.747409</td>\n",
       "      <td>0</td>\n",
       "      <td>Unexpanded</td>\n",
       "    </tr>\n",
       "    <tr>\n",
       "      <th>4</th>\n",
       "      <td>4</td>\n",
       "      <td>WIN_20240307_14_59_52_Pro_276_000005</td>\n",
       "      <td>0.745905</td>\n",
       "      <td>0</td>\n",
       "      <td>Unexpanded</td>\n",
       "    </tr>\n",
       "    <tr>\n",
       "      <th>...</th>\n",
       "      <td>...</td>\n",
       "      <td>...</td>\n",
       "      <td>...</td>\n",
       "      <td>...</td>\n",
       "      <td>...</td>\n",
       "    </tr>\n",
       "    <tr>\n",
       "      <th>19530</th>\n",
       "      <td>19530</td>\n",
       "      <td>WIN_20240307_19_43_34_Pro_56_019531</td>\n",
       "      <td>0.884496</td>\n",
       "      <td>1</td>\n",
       "      <td>Expanded</td>\n",
       "    </tr>\n",
       "    <tr>\n",
       "      <th>19531</th>\n",
       "      <td>19531</td>\n",
       "      <td>WIN_20240307_19_43_34_Pro_57_019532</td>\n",
       "      <td>0.881914</td>\n",
       "      <td>1</td>\n",
       "      <td>Expanded</td>\n",
       "    </tr>\n",
       "    <tr>\n",
       "      <th>19532</th>\n",
       "      <td>19532</td>\n",
       "      <td>WIN_20240307_19_43_34_Pro_58_019533</td>\n",
       "      <td>0.883714</td>\n",
       "      <td>1</td>\n",
       "      <td>Expanded</td>\n",
       "    </tr>\n",
       "    <tr>\n",
       "      <th>19533</th>\n",
       "      <td>19533</td>\n",
       "      <td>WIN_20240307_19_43_34_Pro_59_019534</td>\n",
       "      <td>0.881472</td>\n",
       "      <td>1</td>\n",
       "      <td>Expanded</td>\n",
       "    </tr>\n",
       "    <tr>\n",
       "      <th>19534</th>\n",
       "      <td>19534</td>\n",
       "      <td>WIN_20240307_19_43_34_Pro_60_019535</td>\n",
       "      <td>0.882817</td>\n",
       "      <td>1</td>\n",
       "      <td>Expanded</td>\n",
       "    </tr>\n",
       "  </tbody>\n",
       "</table>\n",
       "<p>19535 rows × 5 columns</p>\n",
       "</div>"
      ],
      "text/plain": [
       "       Unnamed: 0                             File_Name      SSIM Expanded  \\\n",
       "0               0  WIN_20240307_14_59_52_Pro_272_000001  0.751425        0   \n",
       "1               1  WIN_20240307_14_59_52_Pro_273_000002  0.746898        0   \n",
       "2               2  WIN_20240307_14_59_52_Pro_274_000003  0.747401        0   \n",
       "3               3  WIN_20240307_14_59_52_Pro_275_000004  0.747409        0   \n",
       "4               4  WIN_20240307_14_59_52_Pro_276_000005  0.745905        0   \n",
       "...           ...                                   ...       ...      ...   \n",
       "19530       19530   WIN_20240307_19_43_34_Pro_56_019531  0.884496        1   \n",
       "19531       19531   WIN_20240307_19_43_34_Pro_57_019532  0.881914        1   \n",
       "19532       19532   WIN_20240307_19_43_34_Pro_58_019533  0.883714        1   \n",
       "19533       19533   WIN_20240307_19_43_34_Pro_59_019534  0.881472        1   \n",
       "19534       19534   WIN_20240307_19_43_34_Pro_60_019535  0.882817        1   \n",
       "\n",
       "      ExpandedStr  \n",
       "0      Unexpanded  \n",
       "1      Unexpanded  \n",
       "2      Unexpanded  \n",
       "3      Unexpanded  \n",
       "4      Unexpanded  \n",
       "...           ...  \n",
       "19530    Expanded  \n",
       "19531    Expanded  \n",
       "19532    Expanded  \n",
       "19533    Expanded  \n",
       "19534    Expanded  \n",
       "\n",
       "[19535 rows x 5 columns]"
      ]
     },
     "execution_count": 3,
     "metadata": {},
     "output_type": "execute_result"
    }
   ],
   "source": [
    "class_names = ['Unexpanded', 'Expanded']\n",
    "\n",
    "# Define the predefined class variable names\n",
    "# Convert the categorical variable to Categorical datatype and specify the class variable names\n",
    "df_batteryLidImages['Expanded'] = pd.Categorical(df_batteryLidImages['Expanded'], categories=class_names)\n",
    "\n",
    "df_batteryLidImages['Expanded'] = df_batteryLidImages['Expanded'].cat.codes.astype(str)\n",
    "df_batteryLidImages"
   ]
  },
  {
   "cell_type": "code",
   "execution_count": null,
   "id": "594a7ed0",
   "metadata": {},
   "outputs": [
    {
     "data": {
      "text/html": [
       "<div>\n",
       "<style scoped>\n",
       "    .dataframe tbody tr th:only-of-type {\n",
       "        vertical-align: middle;\n",
       "    }\n",
       "\n",
       "    .dataframe tbody tr th {\n",
       "        vertical-align: top;\n",
       "    }\n",
       "\n",
       "    .dataframe thead th {\n",
       "        text-align: right;\n",
       "    }\n",
       "</style>\n",
       "<table border=\"1\" class=\"dataframe\">\n",
       "  <thead>\n",
       "    <tr style=\"text-align: right;\">\n",
       "      <th></th>\n",
       "      <th>File_Name</th>\n",
       "      <th>Expanded</th>\n",
       "    </tr>\n",
       "  </thead>\n",
       "  <tbody>\n",
       "    <tr>\n",
       "      <th>0</th>\n",
       "      <td>D:\\Volvo\\BatteryLid Images Sealing\\Unexpanded\\...</td>\n",
       "      <td>0</td>\n",
       "    </tr>\n",
       "    <tr>\n",
       "      <th>1</th>\n",
       "      <td>D:\\Volvo\\BatteryLid Images Sealing\\Unexpanded\\...</td>\n",
       "      <td>0</td>\n",
       "    </tr>\n",
       "    <tr>\n",
       "      <th>2</th>\n",
       "      <td>D:\\Volvo\\BatteryLid Images Sealing\\Unexpanded\\...</td>\n",
       "      <td>0</td>\n",
       "    </tr>\n",
       "    <tr>\n",
       "      <th>3</th>\n",
       "      <td>D:\\Volvo\\BatteryLid Images Sealing\\Unexpanded\\...</td>\n",
       "      <td>0</td>\n",
       "    </tr>\n",
       "    <tr>\n",
       "      <th>4</th>\n",
       "      <td>D:\\Volvo\\BatteryLid Images Sealing\\Unexpanded\\...</td>\n",
       "      <td>0</td>\n",
       "    </tr>\n",
       "  </tbody>\n",
       "</table>\n",
       "</div>"
      ],
      "text/plain": [
       "                                           File_Name Expanded\n",
       "0  D:\\Volvo\\BatteryLid Images Sealing\\Unexpanded\\...        0\n",
       "1  D:\\Volvo\\BatteryLid Images Sealing\\Unexpanded\\...        0\n",
       "2  D:\\Volvo\\BatteryLid Images Sealing\\Unexpanded\\...        0\n",
       "3  D:\\Volvo\\BatteryLid Images Sealing\\Unexpanded\\...        0\n",
       "4  D:\\Volvo\\BatteryLid Images Sealing\\Unexpanded\\...        0"
      ]
     },
     "execution_count": 4,
     "metadata": {},
     "output_type": "execute_result"
    }
   ],
   "source": [
    "df_batteryLidImages_original = df_batteryLidImages\n",
    "df_batteryLidImages_original['File_Name'] = \"D:\\\\Volvo\\\\BatteryLid Images Sealing\\\\\" + df_batteryLidImages_original['ExpandedStr'] + \"\\\\\" + df_batteryLidImages_original['File_Name'] + \".jpg\"\n",
    "df_batteryLidImages_original = df_batteryLidImages[['File_Name', 'Expanded']]\n",
    "df_batteryLidImages_original.head()"
   ]
  },
  {
   "cell_type": "code",
   "execution_count": null,
   "id": "a23429cd",
   "metadata": {},
   "outputs": [],
   "source": [
    "# Function to load and preprocess images\n",
    "def preprocess_image(file_path, target_size=(150, 150)):\n",
    "    img = cv2.imread(file_path)  # Read image\n",
    "    img = cv2.resize(img, target_size)  # Resize image to a uniform size\n",
    "    img = cv2.cvtColor(img, cv2.COLOR_BGR2GRAY)  # Convert to grayscale\n",
    "    img = img.flatten()  # Flatten image into a 1D array\n",
    "    return img"
   ]
  },
  {
   "cell_type": "code",
   "execution_count": null,
   "id": "4aacb51d",
   "metadata": {},
   "outputs": [],
   "source": [
    "image_files_original = df_batteryLidImages_original['File_Name']\n",
    "X_original = np.array([preprocess_image(file) for file in image_files_original])\n",
    "y_original = df_batteryLidImages_original['Expanded']"
   ]
  },
  {
   "cell_type": "code",
   "execution_count": null,
   "id": "2cc9c948",
   "metadata": {},
   "outputs": [],
   "source": [
    "# Creating the common function for splitting the dataset into test, training and validation samples\n",
    "def CreateSplitTestAndTrainData(X, y):\n",
    "    # Creating test, validation and training samples from the dataset with 15% test, 15% validation and 70% train samples\n",
    "    # Holding out 15% of all data to be used for testing purposes.\n",
    "    X1, X_test, y1, y_test = train_test_split(X, y, test_size = 0.15, random_state = 15)\n",
    "    \n",
    "    #Split again into training and validation samples\n",
    "    X_train, X_valid, y_train, y_valid = train_test_split(X1, y1, test_size = 0.17647, random_state = 15)\n",
    "    \n",
    "    return X_train, X_test, X_valid, y_train, y_test, y_valid"
   ]
  },
  {
   "cell_type": "code",
   "execution_count": null,
   "id": "0b35f668",
   "metadata": {},
   "outputs": [],
   "source": [
    "# Creating test, training and validation samples from the dataset by calling the function created\n",
    "X_train_original, X_test_original, X_valid_original, y_train_original, y_test_original, y_valid_original = CreateSplitTestAndTrainData(X_original, y_original)"
   ]
  },
  {
   "cell_type": "code",
   "execution_count": null,
   "id": "73507196",
   "metadata": {},
   "outputs": [
    {
     "name": "stdout",
     "output_type": "stream",
     "text": [
      "The size of training dataset is:  (13673, 22500)\n",
      "The size of validation dataset is:  (2931, 22500)\n",
      "The size of testing dataset is:  (2931, 22500)\n",
      "The size of training dataset y is:  (13673,)\n",
      "The size of validation dataset y is:  (2931,)\n",
      "The size of testing dataset y is:  (2931,)\n"
     ]
    }
   ],
   "source": [
    "print(\"The size of training dataset is: \", X_train_original.shape)\n",
    "print(\"The size of validation dataset is: \", X_valid_original.shape)\n",
    "print(\"The size of testing dataset is: \", X_test_original.shape)\n",
    "print(\"The size of training dataset y is: \", y_train_original.shape)\n",
    "print(\"The size of validation dataset y is: \", y_valid_original.shape)\n",
    "print(\"The size of testing dataset y is: \", y_test_original.shape)"
   ]
  },
  {
   "cell_type": "markdown",
   "id": "9ba7ee4c",
   "metadata": {},
   "source": [
    "# Preprocess Image After Adaptive Gaussian Thresholding"
   ]
  },
  {
   "cell_type": "code",
   "execution_count": null,
   "id": "f27cbe2f",
   "metadata": {},
   "outputs": [
    {
     "data": {
      "text/html": [
       "<div>\n",
       "<style scoped>\n",
       "    .dataframe tbody tr th:only-of-type {\n",
       "        vertical-align: middle;\n",
       "    }\n",
       "\n",
       "    .dataframe tbody tr th {\n",
       "        vertical-align: top;\n",
       "    }\n",
       "\n",
       "    .dataframe thead th {\n",
       "        text-align: right;\n",
       "    }\n",
       "</style>\n",
       "<table border=\"1\" class=\"dataframe\">\n",
       "  <thead>\n",
       "    <tr style=\"text-align: right;\">\n",
       "      <th></th>\n",
       "      <th>File_Name</th>\n",
       "      <th>Expanded</th>\n",
       "    </tr>\n",
       "  </thead>\n",
       "  <tbody>\n",
       "    <tr>\n",
       "      <th>0</th>\n",
       "      <td>D:\\Volvo\\BatteryLid Images Threshold Gaussian\\...</td>\n",
       "      <td>0</td>\n",
       "    </tr>\n",
       "    <tr>\n",
       "      <th>1</th>\n",
       "      <td>D:\\Volvo\\BatteryLid Images Threshold Gaussian\\...</td>\n",
       "      <td>0</td>\n",
       "    </tr>\n",
       "    <tr>\n",
       "      <th>2</th>\n",
       "      <td>D:\\Volvo\\BatteryLid Images Threshold Gaussian\\...</td>\n",
       "      <td>0</td>\n",
       "    </tr>\n",
       "    <tr>\n",
       "      <th>3</th>\n",
       "      <td>D:\\Volvo\\BatteryLid Images Threshold Gaussian\\...</td>\n",
       "      <td>0</td>\n",
       "    </tr>\n",
       "    <tr>\n",
       "      <th>4</th>\n",
       "      <td>D:\\Volvo\\BatteryLid Images Threshold Gaussian\\...</td>\n",
       "      <td>0</td>\n",
       "    </tr>\n",
       "  </tbody>\n",
       "</table>\n",
       "</div>"
      ],
      "text/plain": [
       "                                           File_Name Expanded\n",
       "0  D:\\Volvo\\BatteryLid Images Threshold Gaussian\\...        0\n",
       "1  D:\\Volvo\\BatteryLid Images Threshold Gaussian\\...        0\n",
       "2  D:\\Volvo\\BatteryLid Images Threshold Gaussian\\...        0\n",
       "3  D:\\Volvo\\BatteryLid Images Threshold Gaussian\\...        0\n",
       "4  D:\\Volvo\\BatteryLid Images Threshold Gaussian\\...        0"
      ]
     },
     "execution_count": 10,
     "metadata": {},
     "output_type": "execute_result"
    }
   ],
   "source": [
    "df_batteryLidImages_thresh_gauss = df_batteryLidImages\n",
    "df_batteryLidImages_thresh_gauss['File_Name'] = df_batteryLidImages_thresh_gauss['File_Name'].str.replace('BatteryLid Images Sealing', 'BatteryLid Images Threshold Gaussian')\n",
    "df_batteryLidImages_thresh_gauss = df_batteryLidImages[['File_Name', 'Expanded']]\n",
    "df_batteryLidImages_thresh_gauss.head()"
   ]
  },
  {
   "cell_type": "code",
   "execution_count": null,
   "id": "433c14b5",
   "metadata": {},
   "outputs": [],
   "source": [
    "image_files_thresh_gauss = df_batteryLidImages_thresh_gauss['File_Name']\n",
    "X_thresh_gauss = np.array([preprocess_image(file) for file in image_files_thresh_gauss])\n",
    "y_thresh_gauss = df_batteryLidImages_thresh_gauss['Expanded']"
   ]
  },
  {
   "cell_type": "code",
   "execution_count": null,
   "id": "ca006476",
   "metadata": {},
   "outputs": [],
   "source": [
    "# Creating test, training and validation samples from the dataset by calling the function created\n",
    "X_train_thresh_gauss, X_test_thresh_gauss, X_valid_thresh_gauss, y_train_thresh_gauss, y_test_thresh_gauss, y_valid_thresh_gauss = CreateSplitTestAndTrainData(X_thresh_gauss, y_thresh_gauss)"
   ]
  },
  {
   "cell_type": "code",
   "execution_count": null,
   "id": "44098b07",
   "metadata": {},
   "outputs": [
    {
     "name": "stdout",
     "output_type": "stream",
     "text": [
      "The size of training dataset is:  (13673, 22500)\n",
      "The size of validation dataset is:  (2931, 22500)\n",
      "The size of testing dataset is:  (2931, 22500)\n",
      "The size of training dataset y is:  (13673,)\n",
      "The size of validation dataset y is:  (2931,)\n",
      "The size of testing dataset y is:  (2931,)\n"
     ]
    }
   ],
   "source": [
    "print(\"The size of training dataset is: \", X_train_thresh_gauss.shape)\n",
    "print(\"The size of validation dataset is: \", X_valid_thresh_gauss.shape)\n",
    "print(\"The size of testing dataset is: \", X_test_thresh_gauss.shape)\n",
    "print(\"The size of training dataset y is: \", y_train_thresh_gauss.shape)\n",
    "print(\"The size of validation dataset y is: \", y_valid_thresh_gauss.shape)\n",
    "print(\"The size of testing dataset y is: \", y_test_thresh_gauss.shape)"
   ]
  },
  {
   "cell_type": "markdown",
   "id": "7ba32e84",
   "metadata": {},
   "source": [
    "# Preprocess Image After Adaptive Mean Thresholding"
   ]
  },
  {
   "cell_type": "code",
   "execution_count": null,
   "id": "9e1ee6c3",
   "metadata": {},
   "outputs": [
    {
     "data": {
      "text/html": [
       "<div>\n",
       "<style scoped>\n",
       "    .dataframe tbody tr th:only-of-type {\n",
       "        vertical-align: middle;\n",
       "    }\n",
       "\n",
       "    .dataframe tbody tr th {\n",
       "        vertical-align: top;\n",
       "    }\n",
       "\n",
       "    .dataframe thead th {\n",
       "        text-align: right;\n",
       "    }\n",
       "</style>\n",
       "<table border=\"1\" class=\"dataframe\">\n",
       "  <thead>\n",
       "    <tr style=\"text-align: right;\">\n",
       "      <th></th>\n",
       "      <th>File_Name</th>\n",
       "      <th>Expanded</th>\n",
       "    </tr>\n",
       "  </thead>\n",
       "  <tbody>\n",
       "    <tr>\n",
       "      <th>0</th>\n",
       "      <td>D:\\Volvo\\BatteryLid Images Threshold Mean\\Unex...</td>\n",
       "      <td>0</td>\n",
       "    </tr>\n",
       "    <tr>\n",
       "      <th>1</th>\n",
       "      <td>D:\\Volvo\\BatteryLid Images Threshold Mean\\Unex...</td>\n",
       "      <td>0</td>\n",
       "    </tr>\n",
       "    <tr>\n",
       "      <th>2</th>\n",
       "      <td>D:\\Volvo\\BatteryLid Images Threshold Mean\\Unex...</td>\n",
       "      <td>0</td>\n",
       "    </tr>\n",
       "    <tr>\n",
       "      <th>3</th>\n",
       "      <td>D:\\Volvo\\BatteryLid Images Threshold Mean\\Unex...</td>\n",
       "      <td>0</td>\n",
       "    </tr>\n",
       "    <tr>\n",
       "      <th>4</th>\n",
       "      <td>D:\\Volvo\\BatteryLid Images Threshold Mean\\Unex...</td>\n",
       "      <td>0</td>\n",
       "    </tr>\n",
       "  </tbody>\n",
       "</table>\n",
       "</div>"
      ],
      "text/plain": [
       "                                           File_Name Expanded\n",
       "0  D:\\Volvo\\BatteryLid Images Threshold Mean\\Unex...        0\n",
       "1  D:\\Volvo\\BatteryLid Images Threshold Mean\\Unex...        0\n",
       "2  D:\\Volvo\\BatteryLid Images Threshold Mean\\Unex...        0\n",
       "3  D:\\Volvo\\BatteryLid Images Threshold Mean\\Unex...        0\n",
       "4  D:\\Volvo\\BatteryLid Images Threshold Mean\\Unex...        0"
      ]
     },
     "execution_count": 14,
     "metadata": {},
     "output_type": "execute_result"
    }
   ],
   "source": [
    "df_batteryLidImages_thresh_mean = df_batteryLidImages\n",
    "df_batteryLidImages_thresh_mean['File_Name'] = df_batteryLidImages_thresh_mean['File_Name'].str.replace('BatteryLid Images Threshold Gaussian', 'BatteryLid Images Threshold Mean')\n",
    "df_batteryLidImages_thresh_mean = df_batteryLidImages[['File_Name', 'Expanded']]\n",
    "df_batteryLidImages_thresh_mean.head()"
   ]
  },
  {
   "cell_type": "code",
   "execution_count": null,
   "id": "fd3ac308",
   "metadata": {},
   "outputs": [],
   "source": [
    "image_files_thresh_mean = df_batteryLidImages_thresh_mean['File_Name']\n",
    "X_thresh_mean = np.array([preprocess_image(file) for file in image_files_thresh_mean])\n",
    "y_thresh_mean = df_batteryLidImages_thresh_mean['Expanded']"
   ]
  },
  {
   "cell_type": "code",
   "execution_count": null,
   "id": "6c341620",
   "metadata": {},
   "outputs": [],
   "source": [
    "# Creating test, training and validation samples from the dataset by calling the function created\n",
    "X_train_thresh_mean, X_test_thresh_mean, X_valid_thresh_mean, y_train_thresh_mean, y_test_thresh_mean, y_valid_thresh_mean = CreateSplitTestAndTrainData(X_thresh_mean, y_thresh_mean)"
   ]
  },
  {
   "cell_type": "code",
   "execution_count": null,
   "id": "195a3fcd",
   "metadata": {},
   "outputs": [
    {
     "name": "stdout",
     "output_type": "stream",
     "text": [
      "The size of training dataset is:  (13673, 22500)\n",
      "The size of validation dataset is:  (2931, 22500)\n",
      "The size of testing dataset is:  (2931, 22500)\n",
      "The size of training dataset y is:  (13673,)\n",
      "The size of validation dataset y is:  (2931,)\n",
      "The size of testing dataset y is:  (2931,)\n"
     ]
    }
   ],
   "source": [
    "print(\"The size of training dataset is: \", X_train_thresh_mean.shape)\n",
    "print(\"The size of validation dataset is: \", X_valid_thresh_mean.shape)\n",
    "print(\"The size of testing dataset is: \", X_test_thresh_mean.shape)\n",
    "print(\"The size of training dataset y is: \", y_train_thresh_mean.shape)\n",
    "print(\"The size of validation dataset y is: \", y_valid_thresh_mean.shape)\n",
    "print(\"The size of testing dataset y is: \", y_test_thresh_mean.shape)"
   ]
  },
  {
   "cell_type": "markdown",
   "id": "3ec337b5",
   "metadata": {},
   "source": [
    "# Preprocess Image After Gabor Filter"
   ]
  },
  {
   "cell_type": "code",
   "execution_count": null,
   "id": "c13d907c",
   "metadata": {},
   "outputs": [
    {
     "data": {
      "text/html": [
       "<div>\n",
       "<style scoped>\n",
       "    .dataframe tbody tr th:only-of-type {\n",
       "        vertical-align: middle;\n",
       "    }\n",
       "\n",
       "    .dataframe tbody tr th {\n",
       "        vertical-align: top;\n",
       "    }\n",
       "\n",
       "    .dataframe thead th {\n",
       "        text-align: right;\n",
       "    }\n",
       "</style>\n",
       "<table border=\"1\" class=\"dataframe\">\n",
       "  <thead>\n",
       "    <tr style=\"text-align: right;\">\n",
       "      <th></th>\n",
       "      <th>File_Name</th>\n",
       "      <th>Expanded</th>\n",
       "    </tr>\n",
       "  </thead>\n",
       "  <tbody>\n",
       "    <tr>\n",
       "      <th>0</th>\n",
       "      <td>D:\\Volvo\\BatteryLid Images Gabor\\Unexpanded\\WI...</td>\n",
       "      <td>0</td>\n",
       "    </tr>\n",
       "    <tr>\n",
       "      <th>1</th>\n",
       "      <td>D:\\Volvo\\BatteryLid Images Gabor\\Unexpanded\\WI...</td>\n",
       "      <td>0</td>\n",
       "    </tr>\n",
       "    <tr>\n",
       "      <th>2</th>\n",
       "      <td>D:\\Volvo\\BatteryLid Images Gabor\\Unexpanded\\WI...</td>\n",
       "      <td>0</td>\n",
       "    </tr>\n",
       "    <tr>\n",
       "      <th>3</th>\n",
       "      <td>D:\\Volvo\\BatteryLid Images Gabor\\Unexpanded\\WI...</td>\n",
       "      <td>0</td>\n",
       "    </tr>\n",
       "    <tr>\n",
       "      <th>4</th>\n",
       "      <td>D:\\Volvo\\BatteryLid Images Gabor\\Unexpanded\\WI...</td>\n",
       "      <td>0</td>\n",
       "    </tr>\n",
       "  </tbody>\n",
       "</table>\n",
       "</div>"
      ],
      "text/plain": [
       "                                           File_Name Expanded\n",
       "0  D:\\Volvo\\BatteryLid Images Gabor\\Unexpanded\\WI...        0\n",
       "1  D:\\Volvo\\BatteryLid Images Gabor\\Unexpanded\\WI...        0\n",
       "2  D:\\Volvo\\BatteryLid Images Gabor\\Unexpanded\\WI...        0\n",
       "3  D:\\Volvo\\BatteryLid Images Gabor\\Unexpanded\\WI...        0\n",
       "4  D:\\Volvo\\BatteryLid Images Gabor\\Unexpanded\\WI...        0"
      ]
     },
     "execution_count": 18,
     "metadata": {},
     "output_type": "execute_result"
    }
   ],
   "source": [
    "df_batteryLidImages_gabor = df_batteryLidImages\n",
    "df_batteryLidImages_gabor['File_Name'] = df_batteryLidImages_gabor['File_Name'].str.replace('BatteryLid Images Threshold Mean', 'BatteryLid Images Gabor')\n",
    "df_batteryLidImages_gabor = df_batteryLidImages[['File_Name', 'Expanded']]\n",
    "df_batteryLidImages_gabor.head()"
   ]
  },
  {
   "cell_type": "code",
   "execution_count": null,
   "id": "98859686",
   "metadata": {},
   "outputs": [],
   "source": [
    "image_files_gabor = df_batteryLidImages_gabor['File_Name']\n",
    "X_gabor = np.array([preprocess_image(file) for file in image_files_gabor])\n",
    "y_gabor = df_batteryLidImages_gabor['Expanded']"
   ]
  },
  {
   "cell_type": "code",
   "execution_count": null,
   "id": "9a2019b0",
   "metadata": {},
   "outputs": [],
   "source": [
    "# Creating test, training and validation samples from the dataset by calling the function created\n",
    "X_train_gabor, X_test_gabor, X_valid_gabor, y_train_gabor, y_test_gabor, y_valid_gabor = CreateSplitTestAndTrainData(X_gabor, y_gabor)"
   ]
  },
  {
   "cell_type": "code",
   "execution_count": null,
   "id": "a001c893",
   "metadata": {},
   "outputs": [
    {
     "name": "stdout",
     "output_type": "stream",
     "text": [
      "The size of training dataset is:  (13673, 22500)\n",
      "The size of validation dataset is:  (2931, 22500)\n",
      "The size of testing dataset is:  (2931, 22500)\n",
      "The size of training dataset y is:  (13673,)\n",
      "The size of validation dataset y is:  (2931,)\n",
      "The size of testing dataset y is:  (2931,)\n"
     ]
    }
   ],
   "source": [
    "print(\"The size of training dataset is: \", X_train_gabor.shape)\n",
    "print(\"The size of validation dataset is: \", X_valid_gabor.shape)\n",
    "print(\"The size of testing dataset is: \", X_test_gabor.shape)\n",
    "print(\"The size of training dataset y is: \", y_train_gabor.shape)\n",
    "print(\"The size of validation dataset y is: \", y_valid_gabor.shape)\n",
    "print(\"The size of testing dataset y is: \", y_test_gabor.shape)"
   ]
  },
  {
   "cell_type": "markdown",
   "id": "bd7da1cc",
   "metadata": {},
   "source": [
    "# Preprocess Image After Gabor Filter And Adaptive Gaussian Threshold"
   ]
  },
  {
   "cell_type": "code",
   "execution_count": null,
   "id": "ae740e76",
   "metadata": {},
   "outputs": [
    {
     "data": {
      "text/html": [
       "<div>\n",
       "<style scoped>\n",
       "    .dataframe tbody tr th:only-of-type {\n",
       "        vertical-align: middle;\n",
       "    }\n",
       "\n",
       "    .dataframe tbody tr th {\n",
       "        vertical-align: top;\n",
       "    }\n",
       "\n",
       "    .dataframe thead th {\n",
       "        text-align: right;\n",
       "    }\n",
       "</style>\n",
       "<table border=\"1\" class=\"dataframe\">\n",
       "  <thead>\n",
       "    <tr style=\"text-align: right;\">\n",
       "      <th></th>\n",
       "      <th>File_Name</th>\n",
       "      <th>Expanded</th>\n",
       "    </tr>\n",
       "  </thead>\n",
       "  <tbody>\n",
       "    <tr>\n",
       "      <th>0</th>\n",
       "      <td>D:\\Volvo\\BatteryLid Images Gabor Threshold Gau...</td>\n",
       "      <td>0</td>\n",
       "    </tr>\n",
       "    <tr>\n",
       "      <th>1</th>\n",
       "      <td>D:\\Volvo\\BatteryLid Images Gabor Threshold Gau...</td>\n",
       "      <td>0</td>\n",
       "    </tr>\n",
       "    <tr>\n",
       "      <th>2</th>\n",
       "      <td>D:\\Volvo\\BatteryLid Images Gabor Threshold Gau...</td>\n",
       "      <td>0</td>\n",
       "    </tr>\n",
       "    <tr>\n",
       "      <th>3</th>\n",
       "      <td>D:\\Volvo\\BatteryLid Images Gabor Threshold Gau...</td>\n",
       "      <td>0</td>\n",
       "    </tr>\n",
       "    <tr>\n",
       "      <th>4</th>\n",
       "      <td>D:\\Volvo\\BatteryLid Images Gabor Threshold Gau...</td>\n",
       "      <td>0</td>\n",
       "    </tr>\n",
       "  </tbody>\n",
       "</table>\n",
       "</div>"
      ],
      "text/plain": [
       "                                           File_Name Expanded\n",
       "0  D:\\Volvo\\BatteryLid Images Gabor Threshold Gau...        0\n",
       "1  D:\\Volvo\\BatteryLid Images Gabor Threshold Gau...        0\n",
       "2  D:\\Volvo\\BatteryLid Images Gabor Threshold Gau...        0\n",
       "3  D:\\Volvo\\BatteryLid Images Gabor Threshold Gau...        0\n",
       "4  D:\\Volvo\\BatteryLid Images Gabor Threshold Gau...        0"
      ]
     },
     "execution_count": 22,
     "metadata": {},
     "output_type": "execute_result"
    }
   ],
   "source": [
    "df_batteryLidImages_gabor_thresh_gauss = df_batteryLidImages\n",
    "df_batteryLidImages_gabor_thresh_gauss['File_Name'] = df_batteryLidImages_gabor_thresh_gauss['File_Name'].str.replace('BatteryLid Images Gabor', 'BatteryLid Images Gabor Threshold Gaussian')\n",
    "df_batteryLidImages_gabor_thresh_gauss = df_batteryLidImages[['File_Name', 'Expanded']]\n",
    "df_batteryLidImages_gabor_thresh_gauss.head()"
   ]
  },
  {
   "cell_type": "code",
   "execution_count": null,
   "id": "2ec10964",
   "metadata": {},
   "outputs": [],
   "source": [
    "image_files_gabor_thresh_gauss = df_batteryLidImages_gabor_thresh_gauss['File_Name']\n",
    "X_gabor_thresh_gauss = np.array([preprocess_image(file) for file in image_files_gabor_thresh_gauss])\n",
    "y_gabor_thresh_gauss = df_batteryLidImages_gabor_thresh_gauss['Expanded']"
   ]
  },
  {
   "cell_type": "code",
   "execution_count": null,
   "id": "fd91c675",
   "metadata": {},
   "outputs": [],
   "source": [
    "# Creating test, training and validation samples from the dataset by calling the function created\n",
    "X_train_gabor_thresh_gauss, X_test_gabor_thresh_gauss, X_valid_gabor_thresh_gauss, y_train_gabor_thresh_gauss, y_test_gabor_thresh_gauss, y_valid_gabor_thresh_gauss = CreateSplitTestAndTrainData(X_gabor_thresh_gauss, y_gabor_thresh_gauss)"
   ]
  },
  {
   "cell_type": "code",
   "execution_count": null,
   "id": "6bdea5c3",
   "metadata": {},
   "outputs": [
    {
     "name": "stdout",
     "output_type": "stream",
     "text": [
      "The size of training dataset is:  (13673, 22500)\n",
      "The size of validation dataset is:  (2931, 22500)\n",
      "The size of testing dataset is:  (2931, 22500)\n",
      "The size of training dataset y is:  (13673,)\n",
      "The size of validation dataset y is:  (2931,)\n",
      "The size of testing dataset y is:  (2931,)\n"
     ]
    }
   ],
   "source": [
    "print(\"The size of training dataset is: \", X_train_gabor_thresh_gauss.shape)\n",
    "print(\"The size of validation dataset is: \", X_valid_gabor_thresh_gauss.shape)\n",
    "print(\"The size of testing dataset is: \", X_test_gabor_thresh_gauss.shape)\n",
    "print(\"The size of training dataset y is: \", y_train_gabor_thresh_gauss.shape)\n",
    "print(\"The size of validation dataset y is: \", y_valid_gabor_thresh_gauss.shape)\n",
    "print(\"The size of testing dataset y is: \", y_test_gabor_thresh_gauss.shape)"
   ]
  },
  {
   "cell_type": "markdown",
   "id": "75756989",
   "metadata": {},
   "source": [
    "# Preprocess Image After Gabor Filter And Adaptive Mean Threshold"
   ]
  },
  {
   "cell_type": "code",
   "execution_count": null,
   "id": "5459ea66",
   "metadata": {},
   "outputs": [
    {
     "data": {
      "text/html": [
       "<div>\n",
       "<style scoped>\n",
       "    .dataframe tbody tr th:only-of-type {\n",
       "        vertical-align: middle;\n",
       "    }\n",
       "\n",
       "    .dataframe tbody tr th {\n",
       "        vertical-align: top;\n",
       "    }\n",
       "\n",
       "    .dataframe thead th {\n",
       "        text-align: right;\n",
       "    }\n",
       "</style>\n",
       "<table border=\"1\" class=\"dataframe\">\n",
       "  <thead>\n",
       "    <tr style=\"text-align: right;\">\n",
       "      <th></th>\n",
       "      <th>File_Name</th>\n",
       "      <th>Expanded</th>\n",
       "    </tr>\n",
       "  </thead>\n",
       "  <tbody>\n",
       "    <tr>\n",
       "      <th>0</th>\n",
       "      <td>D:\\Volvo\\BatteryLid Images Gabor Threshold Mea...</td>\n",
       "      <td>0</td>\n",
       "    </tr>\n",
       "    <tr>\n",
       "      <th>1</th>\n",
       "      <td>D:\\Volvo\\BatteryLid Images Gabor Threshold Mea...</td>\n",
       "      <td>0</td>\n",
       "    </tr>\n",
       "    <tr>\n",
       "      <th>2</th>\n",
       "      <td>D:\\Volvo\\BatteryLid Images Gabor Threshold Mea...</td>\n",
       "      <td>0</td>\n",
       "    </tr>\n",
       "    <tr>\n",
       "      <th>3</th>\n",
       "      <td>D:\\Volvo\\BatteryLid Images Gabor Threshold Mea...</td>\n",
       "      <td>0</td>\n",
       "    </tr>\n",
       "    <tr>\n",
       "      <th>4</th>\n",
       "      <td>D:\\Volvo\\BatteryLid Images Gabor Threshold Mea...</td>\n",
       "      <td>0</td>\n",
       "    </tr>\n",
       "  </tbody>\n",
       "</table>\n",
       "</div>"
      ],
      "text/plain": [
       "                                           File_Name Expanded\n",
       "0  D:\\Volvo\\BatteryLid Images Gabor Threshold Mea...        0\n",
       "1  D:\\Volvo\\BatteryLid Images Gabor Threshold Mea...        0\n",
       "2  D:\\Volvo\\BatteryLid Images Gabor Threshold Mea...        0\n",
       "3  D:\\Volvo\\BatteryLid Images Gabor Threshold Mea...        0\n",
       "4  D:\\Volvo\\BatteryLid Images Gabor Threshold Mea...        0"
      ]
     },
     "execution_count": 26,
     "metadata": {},
     "output_type": "execute_result"
    }
   ],
   "source": [
    "df_batteryLidImages_gabor_thresh_mean = df_batteryLidImages\n",
    "df_batteryLidImages_gabor_thresh_mean['File_Name'] = df_batteryLidImages_gabor_thresh_mean['File_Name'].str.replace('BatteryLid Images Gabor Threshold Gaussian', 'BatteryLid Images Gabor Threshold Mean')\n",
    "df_batteryLidImages_gabor_thresh_mean = df_batteryLidImages[['File_Name', 'Expanded']]\n",
    "df_batteryLidImages_gabor_thresh_mean.head()"
   ]
  },
  {
   "cell_type": "code",
   "execution_count": null,
   "id": "147903f5",
   "metadata": {},
   "outputs": [],
   "source": [
    "image_files_gabor_thresh_mean = df_batteryLidImages_gabor_thresh_mean['File_Name']\n",
    "X_gabor_thresh_mean = np.array([preprocess_image(file) for file in image_files_gabor_thresh_mean])\n",
    "y_gabor_thresh_mean = df_batteryLidImages_gabor_thresh_mean['Expanded']"
   ]
  },
  {
   "cell_type": "code",
   "execution_count": null,
   "id": "091af4a6",
   "metadata": {},
   "outputs": [],
   "source": [
    "# Creating test, training and validation samples from the dataset by calling the function created\n",
    "X_train_gabor_thresh_mean, X_test_gabor_thresh_mean, X_valid_gabor_thresh_mean, y_train_gabor_thresh_mean, y_test_gabor_thresh_mean, y_valid_gabor_thresh_mean = CreateSplitTestAndTrainData(X_gabor_thresh_mean, y_gabor_thresh_mean)"
   ]
  },
  {
   "cell_type": "code",
   "execution_count": null,
   "id": "b7cc6e86",
   "metadata": {},
   "outputs": [
    {
     "name": "stdout",
     "output_type": "stream",
     "text": [
      "The size of training dataset is:  (13673, 22500)\n",
      "The size of validation dataset is:  (2931, 22500)\n",
      "The size of testing dataset is:  (2931, 22500)\n",
      "The size of training dataset y is:  (13673,)\n",
      "The size of validation dataset y is:  (2931,)\n",
      "The size of testing dataset y is:  (2931,)\n"
     ]
    }
   ],
   "source": [
    "print(\"The size of training dataset is: \", X_train_gabor_thresh_mean.shape)\n",
    "print(\"The size of validation dataset is: \", X_valid_gabor_thresh_mean.shape)\n",
    "print(\"The size of testing dataset is: \", X_test_gabor_thresh_mean.shape)\n",
    "print(\"The size of training dataset y is: \", y_train_gabor_thresh_mean.shape)\n",
    "print(\"The size of validation dataset y is: \", y_valid_gabor_thresh_mean.shape)\n",
    "print(\"The size of testing dataset y is: \", y_test_gabor_thresh_mean.shape)"
   ]
  },
  {
   "cell_type": "markdown",
   "id": "c07bb0db",
   "metadata": {},
   "source": [
    "# Build Random Forest Models"
   ]
  },
  {
   "cell_type": "markdown",
   "id": "0aea32c3",
   "metadata": {},
   "source": [
    "# Build RF Model with Original Image"
   ]
  },
  {
   "cell_type": "code",
   "execution_count": null,
   "id": "457324fa",
   "metadata": {},
   "outputs": [
    {
     "data": {
      "text/html": [
       "<div>\n",
       "<style scoped>\n",
       "    .dataframe tbody tr th:only-of-type {\n",
       "        vertical-align: middle;\n",
       "    }\n",
       "\n",
       "    .dataframe tbody tr th {\n",
       "        vertical-align: top;\n",
       "    }\n",
       "\n",
       "    .dataframe thead th {\n",
       "        text-align: right;\n",
       "    }\n",
       "</style>\n",
       "<table border=\"1\" class=\"dataframe\">\n",
       "  <thead>\n",
       "    <tr style=\"text-align: right;\">\n",
       "      <th></th>\n",
       "      <th>Model</th>\n",
       "      <th>Accuracy</th>\n",
       "      <th>Precision</th>\n",
       "      <th>TPR</th>\n",
       "      <th>TNR</th>\n",
       "      <th>F_Score</th>\n",
       "      <th>ROC_Value</th>\n",
       "      <th>MCC</th>\n",
       "      <th>Threshold</th>\n",
       "    </tr>\n",
       "  </thead>\n",
       "  <tbody>\n",
       "    <tr>\n",
       "      <th>0</th>\n",
       "      <td>CNN with Original image</td>\n",
       "      <td>0.988400</td>\n",
       "      <td>0.982603</td>\n",
       "      <td>0.993666</td>\n",
       "      <td>0.983444</td>\n",
       "      <td>0.988104</td>\n",
       "      <td>0.999601</td>\n",
       "      <td>0.976844</td>\n",
       "      <td>0.673184</td>\n",
       "    </tr>\n",
       "    <tr>\n",
       "      <th>1</th>\n",
       "      <td>CNN with Image After Adaptive Gaussian Thresho...</td>\n",
       "      <td>0.988400</td>\n",
       "      <td>0.982603</td>\n",
       "      <td>0.993666</td>\n",
       "      <td>0.983444</td>\n",
       "      <td>0.988104</td>\n",
       "      <td>0.999222</td>\n",
       "      <td>0.976844</td>\n",
       "      <td>0.530475</td>\n",
       "    </tr>\n",
       "    <tr>\n",
       "      <th>2</th>\n",
       "      <td>CNN with Image After Adaptive Mean Thresholding</td>\n",
       "      <td>0.990106</td>\n",
       "      <td>0.984680</td>\n",
       "      <td>0.995074</td>\n",
       "      <td>0.985430</td>\n",
       "      <td>0.989849</td>\n",
       "      <td>0.999611</td>\n",
       "      <td>0.980251</td>\n",
       "      <td>0.724586</td>\n",
       "    </tr>\n",
       "    <tr>\n",
       "      <th>3</th>\n",
       "      <td>CNN with Image After Gabor Filter</td>\n",
       "      <td>0.990447</td>\n",
       "      <td>0.990148</td>\n",
       "      <td>0.990148</td>\n",
       "      <td>0.990728</td>\n",
       "      <td>0.990148</td>\n",
       "      <td>0.999688</td>\n",
       "      <td>0.980876</td>\n",
       "      <td>0.435529</td>\n",
       "    </tr>\n",
       "    <tr>\n",
       "      <th>4</th>\n",
       "      <td>CNN with Image After Gabor Filter and Adaptive...</td>\n",
       "      <td>0.989082</td>\n",
       "      <td>0.987368</td>\n",
       "      <td>0.990148</td>\n",
       "      <td>0.988079</td>\n",
       "      <td>0.988756</td>\n",
       "      <td>0.999671</td>\n",
       "      <td>0.978150</td>\n",
       "      <td>0.579517</td>\n",
       "    </tr>\n",
       "    <tr>\n",
       "      <th>5</th>\n",
       "      <td>CNN with Image After Gabor Filter and Adaptive...</td>\n",
       "      <td>0.988741</td>\n",
       "      <td>0.990806</td>\n",
       "      <td>0.985925</td>\n",
       "      <td>0.991391</td>\n",
       "      <td>0.988360</td>\n",
       "      <td>0.999424</td>\n",
       "      <td>0.977469</td>\n",
       "      <td>0.362923</td>\n",
       "    </tr>\n",
       "  </tbody>\n",
       "</table>\n",
       "</div>"
      ],
      "text/plain": [
       "                                               Model  Accuracy  Precision  \\\n",
       "0                            CNN with Original image  0.988400   0.982603   \n",
       "1  CNN with Image After Adaptive Gaussian Thresho...  0.988400   0.982603   \n",
       "2    CNN with Image After Adaptive Mean Thresholding  0.990106   0.984680   \n",
       "3                  CNN with Image After Gabor Filter  0.990447   0.990148   \n",
       "4  CNN with Image After Gabor Filter and Adaptive...  0.989082   0.987368   \n",
       "5  CNN with Image After Gabor Filter and Adaptive...  0.988741   0.990806   \n",
       "\n",
       "        TPR       TNR   F_Score  ROC_Value       MCC  Threshold  \n",
       "0  0.993666  0.983444  0.988104   0.999601  0.976844   0.673184  \n",
       "1  0.993666  0.983444  0.988104   0.999222  0.976844   0.530475  \n",
       "2  0.995074  0.985430  0.989849   0.999611  0.980251   0.724586  \n",
       "3  0.990148  0.990728  0.990148   0.999688  0.980876   0.435529  \n",
       "4  0.990148  0.988079  0.988756   0.999671  0.978150   0.579517  \n",
       "5  0.985925  0.991391  0.988360   0.999424  0.977469   0.362923  "
      ]
     },
     "execution_count": 30,
     "metadata": {},
     "output_type": "execute_result"
    }
   ],
   "source": [
    "# Load the CNN evaluation results\n",
    "evaluation_results = pd.read_csv('D:\\\\Volvo\\\\EvaluationResults.csv')\n",
    "evaluation_results = evaluation_results.drop(columns = evaluation_results.columns[0])\n",
    "evaluation_results"
   ]
  },
  {
   "cell_type": "code",
   "execution_count": null,
   "id": "dc7a1ab3",
   "metadata": {},
   "outputs": [
    {
     "data": {
      "text/plain": [
       "RandomForestClassifier()"
      ]
     },
     "execution_count": 31,
     "metadata": {},
     "output_type": "execute_result"
    }
   ],
   "source": [
    "# Initialize and train Random Forest classifier\n",
    "clf_original = RandomForestClassifier(n_estimators = 100)\n",
    "clf_original.fit(X_train_original, y_train_original)"
   ]
  },
  {
   "cell_type": "code",
   "execution_count": null,
   "id": "dc7f7743",
   "metadata": {},
   "outputs": [
    {
     "name": "stdout",
     "output_type": "stream",
     "text": [
      "Validation Accuracy of Random Forest Model with the Original Image: 0.9931763903104742\n"
     ]
    }
   ],
   "source": [
    "# Evaluate model on validation set\n",
    "valid_accuracy_original = clf_original.score(X_valid_original, y_valid_original)\n",
    "print(\"Validation Accuracy of Random Forest Model with the Original Image:\", valid_accuracy_original)"
   ]
  },
  {
   "cell_type": "code",
   "execution_count": null,
   "id": "c2b0e183",
   "metadata": {},
   "outputs": [
    {
     "name": "stdout",
     "output_type": "stream",
     "text": [
      "Test Accuracy of Random Forest Model with the Original Image: 0.9969293756397134\n"
     ]
    }
   ],
   "source": [
    "# Evaluate model on test set\n",
    "test_accuracy_original = clf_original.score(X_test_original, y_test_original)\n",
    "print(\"Test Accuracy of Random Forest Model with the Original Image:\", test_accuracy_original)"
   ]
  },
  {
   "cell_type": "code",
   "execution_count": null,
   "id": "95320994",
   "metadata": {},
   "outputs": [],
   "source": [
    "y_pred_original = clf_original.predict(X_test_original)\n",
    "y_pred_prob_original = clf_original.predict_proba(X_test_original)\n",
    "y_pred_prob_original = np.argmax(y_pred_prob_original, axis=1)"
   ]
  },
  {
   "cell_type": "code",
   "execution_count": null,
   "id": "aed7543c",
   "metadata": {},
   "outputs": [],
   "source": [
    "def Calculate_Errors(model, y_test, y_pred, y_pred_probs):\n",
    "    \n",
    " global evaluation_results\n",
    "    \n",
    " # Calculate Accuracy of the model\n",
    " Accuracy = metrics.accuracy_score(y_true=y_test, y_pred=y_pred)\n",
    "  \n",
    " # Calculate Precision of the model\n",
    " Precision = metrics.precision_score(y_true=y_test, y_pred=y_pred, pos_label='1')\n",
    "  \n",
    " # Calculate True Positive Rate (Recall) of the model\n",
    " TPR = metrics.recall_score(y_true=y_test, y_pred=y_pred, pos_label='1')\n",
    "  \n",
    " # Calculate F Score of of the model\n",
    " F_Score = metrics.f1_score(y_true=y_test, y_pred=y_pred, pos_label='1')\n",
    "    \n",
    " # Calculate MCC of the model\n",
    " MCC = metrics.matthews_corrcoef(y_true=y_test, y_pred=y_pred)\n",
    "\n",
    " # Calculate TNR(Specificity) of the model\n",
    " tn, fp, fn, tp = confusion_matrix(y_true=y_test, y_pred=y_pred).ravel()\n",
    " TNR = tn / (tn+fp)\n",
    "\n",
    " # Calculate the ROC\n",
    " roc_value = roc_auc_score(y_test, y_pred_probs)\n",
    "\n",
    " fpr, tpr, thresholds = metrics.roc_curve(y_test, y_pred_probs, pos_label='1')\n",
    " threshold = thresholds[np.argmax(tpr-fpr)]\n",
    "\n",
    " # Plot the ROC for the model\n",
    " roc_auc = metrics.auc(fpr, tpr)\n",
    " print(\"ROC for the test dataset\",'{:.1%}'.format(roc_auc))\n",
    " plt.plot(fpr,tpr,label=\"Test, auc=\"+str(roc_auc))\n",
    " plt.legend(loc=4)\n",
    " plt.show()\n",
    "\n",
    " # Append the model results to the result dataframe \n",
    " evaluation_results = evaluation_results.append(pd.DataFrame({'Model': model, 'Accuracy': Accuracy, 'Precision': Precision, 'TPR': TPR, 'TNR': TNR, 'F_Score': F_Score, 'ROC_Value': roc_value, 'MCC': MCC, 'Threshold': threshold}, index=[0]), ignore_index=True) "
   ]
  },
  {
   "cell_type": "code",
   "execution_count": null,
   "id": "391eb653",
   "metadata": {},
   "outputs": [
    {
     "name": "stdout",
     "output_type": "stream",
     "text": [
      "ROC for the test dataset 99.7%\n"
     ]
    },
    {
     "data": {
      "image/png": "[encoded data removed]",
      "text/plain": [
       "<Figure size 432x288 with 1 Axes>"
      ]
     },
     "metadata": {
      "needs_background": "light"
     },
     "output_type": "display_data"
    },
    {
     "name": "stderr",
     "output_type": "stream",
     "text": [
      "C:\\Users\\Sandeep\\AppData\\Local\\Temp\\ipykernel_4888\\3547552962.py:38: FutureWarning: The frame.append method is deprecated and will be removed from pandas in a future version. Use pandas.concat instead.\n",
      "  evaluation_results = evaluation_results.append(pd.DataFrame({'Model': model, 'Accuracy': Accuracy, 'Precision': Precision, 'TPR': TPR, 'TNR': TNR, 'F_Score': F_Score, 'ROC_Value': roc_value, 'MCC': MCC, 'Threshold': threshold}, index=[0]), ignore_index=True)\n"
     ]
    },
    {
     "data": {
      "text/html": [
       "<div>\n",
       "<style scoped>\n",
       "    .dataframe tbody tr th:only-of-type {\n",
       "        vertical-align: middle;\n",
       "    }\n",
       "\n",
       "    .dataframe tbody tr th {\n",
       "        vertical-align: top;\n",
       "    }\n",
       "\n",
       "    .dataframe thead th {\n",
       "        text-align: right;\n",
       "    }\n",
       "</style>\n",
       "<table border=\"1\" class=\"dataframe\">\n",
       "  <thead>\n",
       "    <tr style=\"text-align: right;\">\n",
       "      <th></th>\n",
       "      <th>Model</th>\n",
       "      <th>Accuracy</th>\n",
       "      <th>Precision</th>\n",
       "      <th>TPR</th>\n",
       "      <th>TNR</th>\n",
       "      <th>F_Score</th>\n",
       "      <th>ROC_Value</th>\n",
       "      <th>MCC</th>\n",
       "      <th>Threshold</th>\n",
       "    </tr>\n",
       "  </thead>\n",
       "  <tbody>\n",
       "    <tr>\n",
       "      <th>0</th>\n",
       "      <td>CNN with Original image</td>\n",
       "      <td>0.988400</td>\n",
       "      <td>0.982603</td>\n",
       "      <td>0.993666</td>\n",
       "      <td>0.983444</td>\n",
       "      <td>0.988104</td>\n",
       "      <td>0.999601</td>\n",
       "      <td>0.976844</td>\n",
       "      <td>0.673184</td>\n",
       "    </tr>\n",
       "    <tr>\n",
       "      <th>1</th>\n",
       "      <td>CNN with Image After Adaptive Gaussian Thresho...</td>\n",
       "      <td>0.988400</td>\n",
       "      <td>0.982603</td>\n",
       "      <td>0.993666</td>\n",
       "      <td>0.983444</td>\n",
       "      <td>0.988104</td>\n",
       "      <td>0.999222</td>\n",
       "      <td>0.976844</td>\n",
       "      <td>0.530475</td>\n",
       "    </tr>\n",
       "    <tr>\n",
       "      <th>2</th>\n",
       "      <td>CNN with Image After Adaptive Mean Thresholding</td>\n",
       "      <td>0.990106</td>\n",
       "      <td>0.984680</td>\n",
       "      <td>0.995074</td>\n",
       "      <td>0.985430</td>\n",
       "      <td>0.989849</td>\n",
       "      <td>0.999611</td>\n",
       "      <td>0.980251</td>\n",
       "      <td>0.724586</td>\n",
       "    </tr>\n",
       "    <tr>\n",
       "      <th>3</th>\n",
       "      <td>CNN with Image After Gabor Filter</td>\n",
       "      <td>0.990447</td>\n",
       "      <td>0.990148</td>\n",
       "      <td>0.990148</td>\n",
       "      <td>0.990728</td>\n",
       "      <td>0.990148</td>\n",
       "      <td>0.999688</td>\n",
       "      <td>0.980876</td>\n",
       "      <td>0.435529</td>\n",
       "    </tr>\n",
       "    <tr>\n",
       "      <th>4</th>\n",
       "      <td>CNN with Image After Gabor Filter and Adaptive...</td>\n",
       "      <td>0.989082</td>\n",
       "      <td>0.987368</td>\n",
       "      <td>0.990148</td>\n",
       "      <td>0.988079</td>\n",
       "      <td>0.988756</td>\n",
       "      <td>0.999671</td>\n",
       "      <td>0.978150</td>\n",
       "      <td>0.579517</td>\n",
       "    </tr>\n",
       "    <tr>\n",
       "      <th>5</th>\n",
       "      <td>CNN with Image After Gabor Filter and Adaptive...</td>\n",
       "      <td>0.988741</td>\n",
       "      <td>0.990806</td>\n",
       "      <td>0.985925</td>\n",
       "      <td>0.991391</td>\n",
       "      <td>0.988360</td>\n",
       "      <td>0.999424</td>\n",
       "      <td>0.977469</td>\n",
       "      <td>0.362923</td>\n",
       "    </tr>\n",
       "    <tr>\n",
       "      <th>6</th>\n",
       "      <td>Random Forest with Original image</td>\n",
       "      <td>0.996929</td>\n",
       "      <td>0.995787</td>\n",
       "      <td>0.997889</td>\n",
       "      <td>0.996026</td>\n",
       "      <td>0.996837</td>\n",
       "      <td>0.996958</td>\n",
       "      <td>0.993856</td>\n",
       "      <td>1.000000</td>\n",
       "    </tr>\n",
       "  </tbody>\n",
       "</table>\n",
       "</div>"
      ],
      "text/plain": [
       "                                               Model  Accuracy  Precision  \\\n",
       "0                            CNN with Original image  0.988400   0.982603   \n",
       "1  CNN with Image After Adaptive Gaussian Thresho...  0.988400   0.982603   \n",
       "2    CNN with Image After Adaptive Mean Thresholding  0.990106   0.984680   \n",
       "3                  CNN with Image After Gabor Filter  0.990447   0.990148   \n",
       "4  CNN with Image After Gabor Filter and Adaptive...  0.989082   0.987368   \n",
       "5  CNN with Image After Gabor Filter and Adaptive...  0.988741   0.990806   \n",
       "6                  Random Forest with Original image  0.996929   0.995787   \n",
       "\n",
       "        TPR       TNR   F_Score  ROC_Value       MCC  Threshold  \n",
       "0  0.993666  0.983444  0.988104   0.999601  0.976844   0.673184  \n",
       "1  0.993666  0.983444  0.988104   0.999222  0.976844   0.530475  \n",
       "2  0.995074  0.985430  0.989849   0.999611  0.980251   0.724586  \n",
       "3  0.990148  0.990728  0.990148   0.999688  0.980876   0.435529  \n",
       "4  0.990148  0.988079  0.988756   0.999671  0.978150   0.579517  \n",
       "5  0.985925  0.991391  0.988360   0.999424  0.977469   0.362923  \n",
       "6  0.997889  0.996026  0.996837   0.996958  0.993856   1.000000  "
      ]
     },
     "execution_count": 36,
     "metadata": {},
     "output_type": "execute_result"
    }
   ],
   "source": [
    "Calculate_Errors('Random Forest with Original image', y_test_original, y_pred_original, y_pred_prob_original)\n",
    "evaluation_results"
   ]
  },
  {
   "cell_type": "code",
   "execution_count": null,
   "id": "d3298cd9",
   "metadata": {},
   "outputs": [],
   "source": [
    "def Create_RedAndGreen_ColorMap():\n",
    " # Define red and green colors\n",
    " red = [1, 0, 0]   # Full red\n",
    " green = [0, 1, 0] # Full green\n",
    "\n",
    " # Create custom colormap with only two colors (red and green)\n",
    " cmap_colors = [red, green]\n",
    " custom_cmap = LinearSegmentedColormap.from_list('custom_cmap', cmap_colors, N=2)\n",
    "    \n",
    " return custom_cmap"
   ]
  },
  {
   "cell_type": "code",
   "execution_count": null,
   "id": "56d47576",
   "metadata": {},
   "outputs": [],
   "source": [
    "# Created a common function to plot confusion matrix\n",
    "def Plot_Confusion_Matrix(y_test, pred_test):\n",
    "  cm = confusion_matrix(y_test, pred_test)\n",
    "  plt.clf()\n",
    "  plt.imshow(cm, interpolation='nearest', cmap = Create_RedAndGreen_ColorMap()) #plt.cm.Set1)\n",
    "  categoryNames = ['Unexpanded','Expanded']\n",
    "  plt.title('Confusion Matrix')\n",
    "  plt.ylabel('True label')\n",
    "  plt.xlabel('Predicted label')\n",
    "  ticks = np.arange(len(categoryNames))\n",
    "  plt.xticks(ticks, categoryNames)\n",
    "  plt.yticks(ticks, categoryNames)\n",
    "  s = [['TN','FP'], ['FN', 'TP']]\n",
    "  \n",
    "  for i in range(2):\n",
    "      for j in range(2):\n",
    "          plt.text(j, i, str(s[i][j]) + \" = \" + str(cm[i][j]), fontsize=12, ha = 'center')\n",
    "  plt.show()"
   ]
  },
  {
   "cell_type": "code",
   "execution_count": null,
   "id": "118984de",
   "metadata": {},
   "outputs": [
    {
     "name": "stdout",
     "output_type": "stream",
     "text": [
      "Classification Report for Random Forest with Original image\n",
      "              precision    recall  f1-score   support\n",
      "\n",
      "           0       1.00      1.00      1.00      1510\n",
      "           1       1.00      1.00      1.00      1421\n",
      "\n",
      "    accuracy                           1.00      2931\n",
      "   macro avg       1.00      1.00      1.00      2931\n",
      "weighted avg       1.00      1.00      1.00      2931\n",
      "\n"
     ]
    }
   ],
   "source": [
    "# Print Classification Report\n",
    "print(\"Classification Report for Random Forest with Original image\")\n",
    "print(classification_report(y_test_original, y_pred_original))"
   ]
  },
  {
   "cell_type": "code",
   "execution_count": null,
   "id": "4b146c2f",
   "metadata": {},
   "outputs": [
    {
     "name": "stdout",
     "output_type": "stream",
     "text": [
      "Confusion Matrix for Random Forest with Original image\n"
     ]
    },
    {
     "data": {
      "image/png": "[encoded data removed]",
      "text/plain": [
       "<Figure size 432x288 with 1 Axes>"
      ]
     },
     "metadata": {
      "needs_background": "light"
     },
     "output_type": "display_data"
    }
   ],
   "source": [
    "# Plot Confusion Matrix\n",
    "print(\"Confusion Matrix for Random Forest with Original image\")\n",
    "Plot_Confusion_Matrix(y_test_original, y_pred_original)"
   ]
  },
  {
   "cell_type": "markdown",
   "id": "f2a2483c",
   "metadata": {},
   "source": [
    "# Build Random Forest Model with Image After Adaptive Gaussian Thresholding"
   ]
  },
  {
   "cell_type": "code",
   "execution_count": null,
   "id": "ebcdfd55",
   "metadata": {},
   "outputs": [
    {
     "data": {
      "text/plain": [
       "RandomForestClassifier()"
      ]
     },
     "execution_count": 41,
     "metadata": {},
     "output_type": "execute_result"
    }
   ],
   "source": [
    "# Initialize and train Random Forest classifier\n",
    "clf_thresh_gauss = RandomForestClassifier(n_estimators = 100)\n",
    "clf_thresh_gauss.fit(X_train_thresh_gauss, y_train_thresh_gauss)"
   ]
  },
  {
   "cell_type": "code",
   "execution_count": null,
   "id": "157a649f",
   "metadata": {},
   "outputs": [
    {
     "name": "stdout",
     "output_type": "stream",
     "text": [
      "Validation Accuracy of Random Forest Model with Image After Adaptive Gaussian Thresholding: 0.989423404981235\n"
     ]
    }
   ],
   "source": [
    "# Evaluate model on validation set\n",
    "valid_accuracy_thresh_gauss = clf_thresh_gauss.score(X_valid_thresh_gauss, y_valid_thresh_gauss)\n",
    "print(\"Validation Accuracy of Random Forest Model with Image After Adaptive Gaussian Thresholding:\", valid_accuracy_thresh_gauss)"
   ]
  },
  {
   "cell_type": "code",
   "execution_count": null,
   "id": "89ef9cbc",
   "metadata": {},
   "outputs": [
    {
     "name": "stdout",
     "output_type": "stream",
     "text": [
      "Test Accuracy of Random Forest Model with Image After Adaptive Gaussian Thresholding: 0.9883998635278062\n"
     ]
    }
   ],
   "source": [
    "# Evaluate model on test set\n",
    "test_accuracy_thresh_gauss = clf_thresh_gauss.score(X_test_thresh_gauss, y_test_thresh_gauss)\n",
    "print(\"Test Accuracy of Random Forest Model with Image After Adaptive Gaussian Thresholding:\", test_accuracy_thresh_gauss)"
   ]
  },
  {
   "cell_type": "code",
   "execution_count": null,
   "id": "2c58e0ab",
   "metadata": {},
   "outputs": [],
   "source": [
    "y_pred_thresh_gauss = clf_thresh_gauss.predict(X_test_thresh_gauss)\n",
    "y_pred_prob_thresh_gauss = clf_thresh_gauss.predict_proba(X_test_thresh_gauss)\n",
    "y_pred_prob_thresh_gauss = np.argmax(y_pred_prob_thresh_gauss, axis=1)"
   ]
  },
  {
   "cell_type": "code",
   "execution_count": null,
   "id": "a8cbbac8",
   "metadata": {},
   "outputs": [
    {
     "name": "stdout",
     "output_type": "stream",
     "text": [
      "ROC for the test dataset 98.8%\n"
     ]
    },
    {
     "data": {
      "image/png": "[encoded data removed]",
      "text/plain": [
       "<Figure size 432x288 with 1 Axes>"
      ]
     },
     "metadata": {
      "needs_background": "light"
     },
     "output_type": "display_data"
    },
    {
     "name": "stderr",
     "output_type": "stream",
     "text": [
      "C:\\Users\\Sandeep\\AppData\\Local\\Temp\\ipykernel_4888\\3547552962.py:38: FutureWarning: The frame.append method is deprecated and will be removed from pandas in a future version. Use pandas.concat instead.\n",
      "  evaluation_results = evaluation_results.append(pd.DataFrame({'Model': model, 'Accuracy': Accuracy, 'Precision': Precision, 'TPR': TPR, 'TNR': TNR, 'F_Score': F_Score, 'ROC_Value': roc_value, 'MCC': MCC, 'Threshold': threshold}, index=[0]), ignore_index=True)\n"
     ]
    },
    {
     "data": {
      "text/html": [
       "<div>\n",
       "<style scoped>\n",
       "    .dataframe tbody tr th:only-of-type {\n",
       "        vertical-align: middle;\n",
       "    }\n",
       "\n",
       "    .dataframe tbody tr th {\n",
       "        vertical-align: top;\n",
       "    }\n",
       "\n",
       "    .dataframe thead th {\n",
       "        text-align: right;\n",
       "    }\n",
       "</style>\n",
       "<table border=\"1\" class=\"dataframe\">\n",
       "  <thead>\n",
       "    <tr style=\"text-align: right;\">\n",
       "      <th></th>\n",
       "      <th>Model</th>\n",
       "      <th>Accuracy</th>\n",
       "      <th>Precision</th>\n",
       "      <th>TPR</th>\n",
       "      <th>TNR</th>\n",
       "      <th>F_Score</th>\n",
       "      <th>ROC_Value</th>\n",
       "      <th>MCC</th>\n",
       "      <th>Threshold</th>\n",
       "    </tr>\n",
       "  </thead>\n",
       "  <tbody>\n",
       "    <tr>\n",
       "      <th>0</th>\n",
       "      <td>CNN with Original image</td>\n",
       "      <td>0.988400</td>\n",
       "      <td>0.982603</td>\n",
       "      <td>0.993666</td>\n",
       "      <td>0.983444</td>\n",
       "      <td>0.988104</td>\n",
       "      <td>0.999601</td>\n",
       "      <td>0.976844</td>\n",
       "      <td>0.673184</td>\n",
       "    </tr>\n",
       "    <tr>\n",
       "      <th>1</th>\n",
       "      <td>CNN with Image After Adaptive Gaussian Thresho...</td>\n",
       "      <td>0.988400</td>\n",
       "      <td>0.982603</td>\n",
       "      <td>0.993666</td>\n",
       "      <td>0.983444</td>\n",
       "      <td>0.988104</td>\n",
       "      <td>0.999222</td>\n",
       "      <td>0.976844</td>\n",
       "      <td>0.530475</td>\n",
       "    </tr>\n",
       "    <tr>\n",
       "      <th>2</th>\n",
       "      <td>CNN with Image After Adaptive Mean Thresholding</td>\n",
       "      <td>0.990106</td>\n",
       "      <td>0.984680</td>\n",
       "      <td>0.995074</td>\n",
       "      <td>0.985430</td>\n",
       "      <td>0.989849</td>\n",
       "      <td>0.999611</td>\n",
       "      <td>0.980251</td>\n",
       "      <td>0.724586</td>\n",
       "    </tr>\n",
       "    <tr>\n",
       "      <th>3</th>\n",
       "      <td>CNN with Image After Gabor Filter</td>\n",
       "      <td>0.990447</td>\n",
       "      <td>0.990148</td>\n",
       "      <td>0.990148</td>\n",
       "      <td>0.990728</td>\n",
       "      <td>0.990148</td>\n",
       "      <td>0.999688</td>\n",
       "      <td>0.980876</td>\n",
       "      <td>0.435529</td>\n",
       "    </tr>\n",
       "    <tr>\n",
       "      <th>4</th>\n",
       "      <td>CNN with Image After Gabor Filter and Adaptive...</td>\n",
       "      <td>0.989082</td>\n",
       "      <td>0.987368</td>\n",
       "      <td>0.990148</td>\n",
       "      <td>0.988079</td>\n",
       "      <td>0.988756</td>\n",
       "      <td>0.999671</td>\n",
       "      <td>0.978150</td>\n",
       "      <td>0.579517</td>\n",
       "    </tr>\n",
       "    <tr>\n",
       "      <th>5</th>\n",
       "      <td>CNN with Image After Gabor Filter and Adaptive...</td>\n",
       "      <td>0.988741</td>\n",
       "      <td>0.990806</td>\n",
       "      <td>0.985925</td>\n",
       "      <td>0.991391</td>\n",
       "      <td>0.988360</td>\n",
       "      <td>0.999424</td>\n",
       "      <td>0.977469</td>\n",
       "      <td>0.362923</td>\n",
       "    </tr>\n",
       "    <tr>\n",
       "      <th>6</th>\n",
       "      <td>Random Forest with Original image</td>\n",
       "      <td>0.996929</td>\n",
       "      <td>0.995787</td>\n",
       "      <td>0.997889</td>\n",
       "      <td>0.996026</td>\n",
       "      <td>0.996837</td>\n",
       "      <td>0.996958</td>\n",
       "      <td>0.993856</td>\n",
       "      <td>1.000000</td>\n",
       "    </tr>\n",
       "    <tr>\n",
       "      <th>7</th>\n",
       "      <td>Random Forest with Image After Adaptive Gaussi...</td>\n",
       "      <td>0.988400</td>\n",
       "      <td>0.986667</td>\n",
       "      <td>0.989444</td>\n",
       "      <td>0.987417</td>\n",
       "      <td>0.988053</td>\n",
       "      <td>0.988431</td>\n",
       "      <td>0.976784</td>\n",
       "      <td>1.000000</td>\n",
       "    </tr>\n",
       "  </tbody>\n",
       "</table>\n",
       "</div>"
      ],
      "text/plain": [
       "                                               Model  Accuracy  Precision  \\\n",
       "0                            CNN with Original image  0.988400   0.982603   \n",
       "1  CNN with Image After Adaptive Gaussian Thresho...  0.988400   0.982603   \n",
       "2    CNN with Image After Adaptive Mean Thresholding  0.990106   0.984680   \n",
       "3                  CNN with Image After Gabor Filter  0.990447   0.990148   \n",
       "4  CNN with Image After Gabor Filter and Adaptive...  0.989082   0.987368   \n",
       "5  CNN with Image After Gabor Filter and Adaptive...  0.988741   0.990806   \n",
       "6                  Random Forest with Original image  0.996929   0.995787   \n",
       "7  Random Forest with Image After Adaptive Gaussi...  0.988400   0.986667   \n",
       "\n",
       "        TPR       TNR   F_Score  ROC_Value       MCC  Threshold  \n",
       "0  0.993666  0.983444  0.988104   0.999601  0.976844   0.673184  \n",
       "1  0.993666  0.983444  0.988104   0.999222  0.976844   0.530475  \n",
       "2  0.995074  0.985430  0.989849   0.999611  0.980251   0.724586  \n",
       "3  0.990148  0.990728  0.990148   0.999688  0.980876   0.435529  \n",
       "4  0.990148  0.988079  0.988756   0.999671  0.978150   0.579517  \n",
       "5  0.985925  0.991391  0.988360   0.999424  0.977469   0.362923  \n",
       "6  0.997889  0.996026  0.996837   0.996958  0.993856   1.000000  \n",
       "7  0.989444  0.987417  0.988053   0.988431  0.976784   1.000000  "
      ]
     },
     "execution_count": 45,
     "metadata": {},
     "output_type": "execute_result"
    }
   ],
   "source": [
    "Calculate_Errors('Random Forest with Image After Adaptive Gaussian Thresholding', y_test_thresh_gauss, y_pred_thresh_gauss, y_pred_prob_thresh_gauss)\n",
    "evaluation_results"
   ]
  },
  {
   "cell_type": "code",
   "execution_count": null,
   "id": "29eeed0c",
   "metadata": {},
   "outputs": [
    {
     "name": "stdout",
     "output_type": "stream",
     "text": [
      "Classification Report for Random Forest with Image After Adaptive Gaussian Thresholding\n",
      "              precision    recall  f1-score   support\n",
      "\n",
      "           0       0.99      0.99      0.99      1510\n",
      "           1       0.99      0.99      0.99      1421\n",
      "\n",
      "    accuracy                           0.99      2931\n",
      "   macro avg       0.99      0.99      0.99      2931\n",
      "weighted avg       0.99      0.99      0.99      2931\n",
      "\n"
     ]
    }
   ],
   "source": [
    "# Print Classification Report\n",
    "print(\"Classification Report for Random Forest with Image After Adaptive Gaussian Thresholding\")\n",
    "print(classification_report(y_test_thresh_gauss, y_pred_thresh_gauss))"
   ]
  },
  {
   "cell_type": "code",
   "execution_count": null,
   "id": "8a055716",
   "metadata": {},
   "outputs": [
    {
     "name": "stdout",
     "output_type": "stream",
     "text": [
      "Confusion Matrix for Random Forest with Image After Adaptive Gaussian Thresholding\n"
     ]
    },
    {
     "data": {
      "image/png": "[encoded data removed]",
      "text/plain": [
       "<Figure size 432x288 with 1 Axes>"
      ]
     },
     "metadata": {
      "needs_background": "light"
     },
     "output_type": "display_data"
    }
   ],
   "source": [
    "# Plot Confusion Matrix\n",
    "print(\"Confusion Matrix for Random Forest with Image After Adaptive Gaussian Thresholding\")\n",
    "Plot_Confusion_Matrix(y_test_thresh_gauss, y_pred_thresh_gauss)"
   ]
  },
  {
   "cell_type": "markdown",
   "id": "a235ee4c",
   "metadata": {},
   "source": [
    "# Build Random Forest Model with Image After Adaptive Mean Thresholding"
   ]
  },
  {
   "cell_type": "code",
   "execution_count": null,
   "id": "e170d891",
   "metadata": {},
   "outputs": [
    {
     "data": {
      "text/plain": [
       "RandomForestClassifier()"
      ]
     },
     "execution_count": 48,
     "metadata": {},
     "output_type": "execute_result"
    }
   ],
   "source": [
    "# Initialize and train Random Forest classifier\n",
    "clf_thresh_mean = RandomForestClassifier(n_estimators = 100)\n",
    "clf_thresh_mean.fit(X_train_thresh_mean, y_train_thresh_mean)"
   ]
  },
  {
   "cell_type": "code",
   "execution_count": null,
   "id": "911f21eb",
   "metadata": {},
   "outputs": [
    {
     "name": "stdout",
     "output_type": "stream",
     "text": [
      "Validation Accuracy of Random Forest Model with Image After Adaptive Mean Thresholding: 0.9931763903104742\n"
     ]
    }
   ],
   "source": [
    "# Evaluate model on validation set\n",
    "valid_accuracy_thresh_mean = clf_thresh_mean.score(X_valid_thresh_mean, y_valid_thresh_mean)\n",
    "print(\"Validation Accuracy of Random Forest Model with Image After Adaptive Mean Thresholding:\", valid_accuracy_thresh_mean)"
   ]
  },
  {
   "cell_type": "code",
   "execution_count": null,
   "id": "cd685fbc",
   "metadata": {},
   "outputs": [
    {
     "name": "stdout",
     "output_type": "stream",
     "text": [
      "Test Accuracy of Random Forest Model with Image After Adaptive Mean Thresholding: 0.9931763903104742\n"
     ]
    }
   ],
   "source": [
    "# Evaluate model on test set\n",
    "test_accuracy_thresh_mean = clf_thresh_mean.score(X_test_thresh_mean, y_test_thresh_mean)\n",
    "print(\"Test Accuracy of Random Forest Model with Image After Adaptive Mean Thresholding:\", test_accuracy_thresh_mean)"
   ]
  },
  {
   "cell_type": "code",
   "execution_count": null,
   "id": "391ca7d4",
   "metadata": {},
   "outputs": [],
   "source": [
    "y_pred_thresh_mean = clf_thresh_mean.predict(X_test_thresh_mean)\n",
    "y_pred_prob_thresh_mean = clf_thresh_mean.predict_proba(X_test_thresh_mean)\n",
    "y_pred_prob_thresh_mean = np.argmax(y_pred_prob_thresh_mean, axis=1)"
   ]
  },
  {
   "cell_type": "code",
   "execution_count": null,
   "id": "1a461839",
   "metadata": {},
   "outputs": [
    {
     "name": "stdout",
     "output_type": "stream",
     "text": [
      "ROC for the test dataset 99.3%\n"
     ]
    },
    {
     "data": {
      "image/png": "[encoded data removed]",
      "text/plain": [
       "<Figure size 432x288 with 1 Axes>"
      ]
     },
     "metadata": {
      "needs_background": "light"
     },
     "output_type": "display_data"
    },
    {
     "name": "stderr",
     "output_type": "stream",
     "text": [
      "C:\\Users\\Sandeep\\AppData\\Local\\Temp\\ipykernel_4888\\3547552962.py:38: FutureWarning: The frame.append method is deprecated and will be removed from pandas in a future version. Use pandas.concat instead.\n",
      "  evaluation_results = evaluation_results.append(pd.DataFrame({'Model': model, 'Accuracy': Accuracy, 'Precision': Precision, 'TPR': TPR, 'TNR': TNR, 'F_Score': F_Score, 'ROC_Value': roc_value, 'MCC': MCC, 'Threshold': threshold}, index=[0]), ignore_index=True)\n"
     ]
    },
    {
     "data": {
      "text/html": [
       "<div>\n",
       "<style scoped>\n",
       "    .dataframe tbody tr th:only-of-type {\n",
       "        vertical-align: middle;\n",
       "    }\n",
       "\n",
       "    .dataframe tbody tr th {\n",
       "        vertical-align: top;\n",
       "    }\n",
       "\n",
       "    .dataframe thead th {\n",
       "        text-align: right;\n",
       "    }\n",
       "</style>\n",
       "<table border=\"1\" class=\"dataframe\">\n",
       "  <thead>\n",
       "    <tr style=\"text-align: right;\">\n",
       "      <th></th>\n",
       "      <th>Model</th>\n",
       "      <th>Accuracy</th>\n",
       "      <th>Precision</th>\n",
       "      <th>TPR</th>\n",
       "      <th>TNR</th>\n",
       "      <th>F_Score</th>\n",
       "      <th>ROC_Value</th>\n",
       "      <th>MCC</th>\n",
       "      <th>Threshold</th>\n",
       "    </tr>\n",
       "  </thead>\n",
       "  <tbody>\n",
       "    <tr>\n",
       "      <th>0</th>\n",
       "      <td>CNN with Original image</td>\n",
       "      <td>0.988400</td>\n",
       "      <td>0.982603</td>\n",
       "      <td>0.993666</td>\n",
       "      <td>0.983444</td>\n",
       "      <td>0.988104</td>\n",
       "      <td>0.999601</td>\n",
       "      <td>0.976844</td>\n",
       "      <td>0.673184</td>\n",
       "    </tr>\n",
       "    <tr>\n",
       "      <th>1</th>\n",
       "      <td>CNN with Image After Adaptive Gaussian Thresho...</td>\n",
       "      <td>0.988400</td>\n",
       "      <td>0.982603</td>\n",
       "      <td>0.993666</td>\n",
       "      <td>0.983444</td>\n",
       "      <td>0.988104</td>\n",
       "      <td>0.999222</td>\n",
       "      <td>0.976844</td>\n",
       "      <td>0.530475</td>\n",
       "    </tr>\n",
       "    <tr>\n",
       "      <th>2</th>\n",
       "      <td>CNN with Image After Adaptive Mean Thresholding</td>\n",
       "      <td>0.990106</td>\n",
       "      <td>0.984680</td>\n",
       "      <td>0.995074</td>\n",
       "      <td>0.985430</td>\n",
       "      <td>0.989849</td>\n",
       "      <td>0.999611</td>\n",
       "      <td>0.980251</td>\n",
       "      <td>0.724586</td>\n",
       "    </tr>\n",
       "    <tr>\n",
       "      <th>3</th>\n",
       "      <td>CNN with Image After Gabor Filter</td>\n",
       "      <td>0.990447</td>\n",
       "      <td>0.990148</td>\n",
       "      <td>0.990148</td>\n",
       "      <td>0.990728</td>\n",
       "      <td>0.990148</td>\n",
       "      <td>0.999688</td>\n",
       "      <td>0.980876</td>\n",
       "      <td>0.435529</td>\n",
       "    </tr>\n",
       "    <tr>\n",
       "      <th>4</th>\n",
       "      <td>CNN with Image After Gabor Filter and Adaptive...</td>\n",
       "      <td>0.989082</td>\n",
       "      <td>0.987368</td>\n",
       "      <td>0.990148</td>\n",
       "      <td>0.988079</td>\n",
       "      <td>0.988756</td>\n",
       "      <td>0.999671</td>\n",
       "      <td>0.978150</td>\n",
       "      <td>0.579517</td>\n",
       "    </tr>\n",
       "    <tr>\n",
       "      <th>5</th>\n",
       "      <td>CNN with Image After Gabor Filter and Adaptive...</td>\n",
       "      <td>0.988741</td>\n",
       "      <td>0.990806</td>\n",
       "      <td>0.985925</td>\n",
       "      <td>0.991391</td>\n",
       "      <td>0.988360</td>\n",
       "      <td>0.999424</td>\n",
       "      <td>0.977469</td>\n",
       "      <td>0.362923</td>\n",
       "    </tr>\n",
       "    <tr>\n",
       "      <th>6</th>\n",
       "      <td>Random Forest with Original image</td>\n",
       "      <td>0.996929</td>\n",
       "      <td>0.995787</td>\n",
       "      <td>0.997889</td>\n",
       "      <td>0.996026</td>\n",
       "      <td>0.996837</td>\n",
       "      <td>0.996958</td>\n",
       "      <td>0.993856</td>\n",
       "      <td>1.000000</td>\n",
       "    </tr>\n",
       "    <tr>\n",
       "      <th>7</th>\n",
       "      <td>Random Forest with Image After Adaptive Gaussi...</td>\n",
       "      <td>0.988400</td>\n",
       "      <td>0.986667</td>\n",
       "      <td>0.989444</td>\n",
       "      <td>0.987417</td>\n",
       "      <td>0.988053</td>\n",
       "      <td>0.988431</td>\n",
       "      <td>0.976784</td>\n",
       "      <td>1.000000</td>\n",
       "    </tr>\n",
       "    <tr>\n",
       "      <th>8</th>\n",
       "      <td>Random Forest with Image After Adaptive Mean T...</td>\n",
       "      <td>0.993176</td>\n",
       "      <td>0.992963</td>\n",
       "      <td>0.992963</td>\n",
       "      <td>0.993377</td>\n",
       "      <td>0.992963</td>\n",
       "      <td>0.993170</td>\n",
       "      <td>0.986340</td>\n",
       "      <td>1.000000</td>\n",
       "    </tr>\n",
       "  </tbody>\n",
       "</table>\n",
       "</div>"
      ],
      "text/plain": [
       "                                               Model  Accuracy  Precision  \\\n",
       "0                            CNN with Original image  0.988400   0.982603   \n",
       "1  CNN with Image After Adaptive Gaussian Thresho...  0.988400   0.982603   \n",
       "2    CNN with Image After Adaptive Mean Thresholding  0.990106   0.984680   \n",
       "3                  CNN with Image After Gabor Filter  0.990447   0.990148   \n",
       "4  CNN with Image After Gabor Filter and Adaptive...  0.989082   0.987368   \n",
       "5  CNN with Image After Gabor Filter and Adaptive...  0.988741   0.990806   \n",
       "6                  Random Forest with Original image  0.996929   0.995787   \n",
       "7  Random Forest with Image After Adaptive Gaussi...  0.988400   0.986667   \n",
       "8  Random Forest with Image After Adaptive Mean T...  0.993176   0.992963   \n",
       "\n",
       "        TPR       TNR   F_Score  ROC_Value       MCC  Threshold  \n",
       "0  0.993666  0.983444  0.988104   0.999601  0.976844   0.673184  \n",
       "1  0.993666  0.983444  0.988104   0.999222  0.976844   0.530475  \n",
       "2  0.995074  0.985430  0.989849   0.999611  0.980251   0.724586  \n",
       "3  0.990148  0.990728  0.990148   0.999688  0.980876   0.435529  \n",
       "4  0.990148  0.988079  0.988756   0.999671  0.978150   0.579517  \n",
       "5  0.985925  0.991391  0.988360   0.999424  0.977469   0.362923  \n",
       "6  0.997889  0.996026  0.996837   0.996958  0.993856   1.000000  \n",
       "7  0.989444  0.987417  0.988053   0.988431  0.976784   1.000000  \n",
       "8  0.992963  0.993377  0.992963   0.993170  0.986340   1.000000  "
      ]
     },
     "execution_count": 52,
     "metadata": {},
     "output_type": "execute_result"
    }
   ],
   "source": [
    "Calculate_Errors('Random Forest with Image After Adaptive Mean Thresholding', y_test_thresh_mean, y_pred_thresh_mean, y_pred_prob_thresh_mean)\n",
    "evaluation_results"
   ]
  },
  {
   "cell_type": "code",
   "execution_count": null,
   "id": "03883b7e",
   "metadata": {},
   "outputs": [
    {
     "name": "stdout",
     "output_type": "stream",
     "text": [
      "Classification Report for Random Forest with Image After Adaptive Mean Thresholding\n",
      "              precision    recall  f1-score   support\n",
      "\n",
      "           0       0.99      0.99      0.99      1510\n",
      "           1       0.99      0.99      0.99      1421\n",
      "\n",
      "    accuracy                           0.99      2931\n",
      "   macro avg       0.99      0.99      0.99      2931\n",
      "weighted avg       0.99      0.99      0.99      2931\n",
      "\n"
     ]
    }
   ],
   "source": [
    "# Print Classification Report\n",
    "print(\"Classification Report for Random Forest with Image After Adaptive Mean Thresholding\")\n",
    "print(classification_report(y_test_thresh_mean, y_pred_thresh_mean))"
   ]
  },
  {
   "cell_type": "code",
   "execution_count": null,
   "id": "c91fe8f0",
   "metadata": {},
   "outputs": [
    {
     "name": "stdout",
     "output_type": "stream",
     "text": [
      "Confusion Matrix for Random Forest with Image After Adaptive Mean Thresholding\n"
     ]
    },
    {
     "data": {
      "image/png": "[encoded data removed]",
      "text/plain": [
       "<Figure size 432x288 with 1 Axes>"
      ]
     },
     "metadata": {
      "needs_background": "light"
     },
     "output_type": "display_data"
    }
   ],
   "source": [
    "# Plot Confusion Matrix\n",
    "print(\"Confusion Matrix for Random Forest with Image After Adaptive Mean Thresholding\")\n",
    "Plot_Confusion_Matrix(y_test_thresh_mean, y_pred_thresh_mean)"
   ]
  },
  {
   "cell_type": "markdown",
   "id": "ff15fbf0",
   "metadata": {},
   "source": [
    "# Build Random Forest Model with Image After Gabor Filter"
   ]
  },
  {
   "cell_type": "code",
   "execution_count": null,
   "id": "170474a0",
   "metadata": {},
   "outputs": [
    {
     "data": {
      "text/plain": [
       "RandomForestClassifier()"
      ]
     },
     "execution_count": 55,
     "metadata": {},
     "output_type": "execute_result"
    }
   ],
   "source": [
    "# Initialize and train Random Forest classifier\n",
    "clf_gabor = RandomForestClassifier(n_estimators = 100)\n",
    "clf_gabor.fit(X_train_gabor, y_train_gabor)"
   ]
  },
  {
   "cell_type": "code",
   "execution_count": null,
   "id": "7a3b964f",
   "metadata": {},
   "outputs": [
    {
     "name": "stdout",
     "output_type": "stream",
     "text": [
      "Validation Accuracy of Random Forest Model with Image After Gabor Filter: 0.9935175707949505\n"
     ]
    }
   ],
   "source": [
    "# Evaluate model on validation set\n",
    "valid_accuracy_gabor = clf_gabor.score(X_valid_gabor, y_valid_gabor)\n",
    "print(\"Validation Accuracy of Random Forest Model with Image After Gabor Filter:\", valid_accuracy_gabor)"
   ]
  },
  {
   "cell_type": "code",
   "execution_count": null,
   "id": "b8660f54",
   "metadata": {},
   "outputs": [
    {
     "name": "stdout",
     "output_type": "stream",
     "text": [
      "Test Accuracy of Random Forest Model with Image After Gabor Filter: 0.9959058341862845\n"
     ]
    }
   ],
   "source": [
    "# Evaluate model on test set\n",
    "test_accuracy_gabor = clf_gabor.score(X_test_gabor, y_test_gabor)\n",
    "print(\"Test Accuracy of Random Forest Model with Image After Gabor Filter:\", test_accuracy_gabor)"
   ]
  },
  {
   "cell_type": "code",
   "execution_count": null,
   "id": "acf9e531",
   "metadata": {},
   "outputs": [],
   "source": [
    "y_pred_gabor = clf_gabor.predict(X_test_gabor)\n",
    "y_pred_prob_gabor = clf_gabor.predict_proba(X_test_gabor)\n",
    "y_pred_prob_gabor = np.argmax(y_pred_prob_gabor, axis=1)"
   ]
  },
  {
   "cell_type": "code",
   "execution_count": null,
   "id": "8e788ac3",
   "metadata": {},
   "outputs": [
    {
     "name": "stdout",
     "output_type": "stream",
     "text": [
      "ROC for the test dataset 99.6%\n"
     ]
    },
    {
     "data": {
      "image/png": "[encoded data removed]",
      "text/plain": [
       "<Figure size 432x288 with 1 Axes>"
      ]
     },
     "metadata": {
      "needs_background": "light"
     },
     "output_type": "display_data"
    },
    {
     "name": "stderr",
     "output_type": "stream",
     "text": [
      "C:\\Users\\Sandeep\\AppData\\Local\\Temp\\ipykernel_4888\\3547552962.py:38: FutureWarning: The frame.append method is deprecated and will be removed from pandas in a future version. Use pandas.concat instead.\n",
      "  evaluation_results = evaluation_results.append(pd.DataFrame({'Model': model, 'Accuracy': Accuracy, 'Precision': Precision, 'TPR': TPR, 'TNR': TNR, 'F_Score': F_Score, 'ROC_Value': roc_value, 'MCC': MCC, 'Threshold': threshold}, index=[0]), ignore_index=True)\n"
     ]
    },
    {
     "data": {
      "text/html": [
       "<div>\n",
       "<style scoped>\n",
       "    .dataframe tbody tr th:only-of-type {\n",
       "        vertical-align: middle;\n",
       "    }\n",
       "\n",
       "    .dataframe tbody tr th {\n",
       "        vertical-align: top;\n",
       "    }\n",
       "\n",
       "    .dataframe thead th {\n",
       "        text-align: right;\n",
       "    }\n",
       "</style>\n",
       "<table border=\"1\" class=\"dataframe\">\n",
       "  <thead>\n",
       "    <tr style=\"text-align: right;\">\n",
       "      <th></th>\n",
       "      <th>Model</th>\n",
       "      <th>Accuracy</th>\n",
       "      <th>Precision</th>\n",
       "      <th>TPR</th>\n",
       "      <th>TNR</th>\n",
       "      <th>F_Score</th>\n",
       "      <th>ROC_Value</th>\n",
       "      <th>MCC</th>\n",
       "      <th>Threshold</th>\n",
       "    </tr>\n",
       "  </thead>\n",
       "  <tbody>\n",
       "    <tr>\n",
       "      <th>0</th>\n",
       "      <td>CNN with Original image</td>\n",
       "      <td>0.988400</td>\n",
       "      <td>0.982603</td>\n",
       "      <td>0.993666</td>\n",
       "      <td>0.983444</td>\n",
       "      <td>0.988104</td>\n",
       "      <td>0.999601</td>\n",
       "      <td>0.976844</td>\n",
       "      <td>0.673184</td>\n",
       "    </tr>\n",
       "    <tr>\n",
       "      <th>1</th>\n",
       "      <td>CNN with Image After Adaptive Gaussian Thresho...</td>\n",
       "      <td>0.988400</td>\n",
       "      <td>0.982603</td>\n",
       "      <td>0.993666</td>\n",
       "      <td>0.983444</td>\n",
       "      <td>0.988104</td>\n",
       "      <td>0.999222</td>\n",
       "      <td>0.976844</td>\n",
       "      <td>0.530475</td>\n",
       "    </tr>\n",
       "    <tr>\n",
       "      <th>2</th>\n",
       "      <td>CNN with Image After Adaptive Mean Thresholding</td>\n",
       "      <td>0.990106</td>\n",
       "      <td>0.984680</td>\n",
       "      <td>0.995074</td>\n",
       "      <td>0.985430</td>\n",
       "      <td>0.989849</td>\n",
       "      <td>0.999611</td>\n",
       "      <td>0.980251</td>\n",
       "      <td>0.724586</td>\n",
       "    </tr>\n",
       "    <tr>\n",
       "      <th>3</th>\n",
       "      <td>CNN with Image After Gabor Filter</td>\n",
       "      <td>0.990447</td>\n",
       "      <td>0.990148</td>\n",
       "      <td>0.990148</td>\n",
       "      <td>0.990728</td>\n",
       "      <td>0.990148</td>\n",
       "      <td>0.999688</td>\n",
       "      <td>0.980876</td>\n",
       "      <td>0.435529</td>\n",
       "    </tr>\n",
       "    <tr>\n",
       "      <th>4</th>\n",
       "      <td>CNN with Image After Gabor Filter and Adaptive...</td>\n",
       "      <td>0.989082</td>\n",
       "      <td>0.987368</td>\n",
       "      <td>0.990148</td>\n",
       "      <td>0.988079</td>\n",
       "      <td>0.988756</td>\n",
       "      <td>0.999671</td>\n",
       "      <td>0.978150</td>\n",
       "      <td>0.579517</td>\n",
       "    </tr>\n",
       "    <tr>\n",
       "      <th>5</th>\n",
       "      <td>CNN with Image After Gabor Filter and Adaptive...</td>\n",
       "      <td>0.988741</td>\n",
       "      <td>0.990806</td>\n",
       "      <td>0.985925</td>\n",
       "      <td>0.991391</td>\n",
       "      <td>0.988360</td>\n",
       "      <td>0.999424</td>\n",
       "      <td>0.977469</td>\n",
       "      <td>0.362923</td>\n",
       "    </tr>\n",
       "    <tr>\n",
       "      <th>6</th>\n",
       "      <td>Random Forest with Original image</td>\n",
       "      <td>0.996929</td>\n",
       "      <td>0.995787</td>\n",
       "      <td>0.997889</td>\n",
       "      <td>0.996026</td>\n",
       "      <td>0.996837</td>\n",
       "      <td>0.996958</td>\n",
       "      <td>0.993856</td>\n",
       "      <td>1.000000</td>\n",
       "    </tr>\n",
       "    <tr>\n",
       "      <th>7</th>\n",
       "      <td>Random Forest with Image After Adaptive Gaussi...</td>\n",
       "      <td>0.988400</td>\n",
       "      <td>0.986667</td>\n",
       "      <td>0.989444</td>\n",
       "      <td>0.987417</td>\n",
       "      <td>0.988053</td>\n",
       "      <td>0.988431</td>\n",
       "      <td>0.976784</td>\n",
       "      <td>1.000000</td>\n",
       "    </tr>\n",
       "    <tr>\n",
       "      <th>8</th>\n",
       "      <td>Random Forest with Image After Adaptive Mean T...</td>\n",
       "      <td>0.993176</td>\n",
       "      <td>0.992963</td>\n",
       "      <td>0.992963</td>\n",
       "      <td>0.993377</td>\n",
       "      <td>0.992963</td>\n",
       "      <td>0.993170</td>\n",
       "      <td>0.986340</td>\n",
       "      <td>1.000000</td>\n",
       "    </tr>\n",
       "    <tr>\n",
       "      <th>9</th>\n",
       "      <td>Random Forest with Image After Gabor Filter</td>\n",
       "      <td>0.995906</td>\n",
       "      <td>0.994386</td>\n",
       "      <td>0.997185</td>\n",
       "      <td>0.994702</td>\n",
       "      <td>0.995784</td>\n",
       "      <td>0.995944</td>\n",
       "      <td>0.991808</td>\n",
       "      <td>1.000000</td>\n",
       "    </tr>\n",
       "  </tbody>\n",
       "</table>\n",
       "</div>"
      ],
      "text/plain": [
       "                                               Model  Accuracy  Precision  \\\n",
       "0                            CNN with Original image  0.988400   0.982603   \n",
       "1  CNN with Image After Adaptive Gaussian Thresho...  0.988400   0.982603   \n",
       "2    CNN with Image After Adaptive Mean Thresholding  0.990106   0.984680   \n",
       "3                  CNN with Image After Gabor Filter  0.990447   0.990148   \n",
       "4  CNN with Image After Gabor Filter and Adaptive...  0.989082   0.987368   \n",
       "5  CNN with Image After Gabor Filter and Adaptive...  0.988741   0.990806   \n",
       "6                  Random Forest with Original image  0.996929   0.995787   \n",
       "7  Random Forest with Image After Adaptive Gaussi...  0.988400   0.986667   \n",
       "8  Random Forest with Image After Adaptive Mean T...  0.993176   0.992963   \n",
       "9        Random Forest with Image After Gabor Filter  0.995906   0.994386   \n",
       "\n",
       "        TPR       TNR   F_Score  ROC_Value       MCC  Threshold  \n",
       "0  0.993666  0.983444  0.988104   0.999601  0.976844   0.673184  \n",
       "1  0.993666  0.983444  0.988104   0.999222  0.976844   0.530475  \n",
       "2  0.995074  0.985430  0.989849   0.999611  0.980251   0.724586  \n",
       "3  0.990148  0.990728  0.990148   0.999688  0.980876   0.435529  \n",
       "4  0.990148  0.988079  0.988756   0.999671  0.978150   0.579517  \n",
       "5  0.985925  0.991391  0.988360   0.999424  0.977469   0.362923  \n",
       "6  0.997889  0.996026  0.996837   0.996958  0.993856   1.000000  \n",
       "7  0.989444  0.987417  0.988053   0.988431  0.976784   1.000000  \n",
       "8  0.992963  0.993377  0.992963   0.993170  0.986340   1.000000  \n",
       "9  0.997185  0.994702  0.995784   0.995944  0.991808   1.000000  "
      ]
     },
     "execution_count": 59,
     "metadata": {},
     "output_type": "execute_result"
    }
   ],
   "source": [
    "Calculate_Errors('Random Forest with Image After Gabor Filter', y_test_gabor, y_pred_gabor, y_pred_prob_gabor)\n",
    "evaluation_results"
   ]
  },
  {
   "cell_type": "code",
   "execution_count": null,
   "id": "5aa9b99c",
   "metadata": {},
   "outputs": [
    {
     "name": "stdout",
     "output_type": "stream",
     "text": [
      "Classification Report for Random Forest with Image After Gabor Filter\n",
      "              precision    recall  f1-score   support\n",
      "\n",
      "           0       1.00      0.99      1.00      1510\n",
      "           1       0.99      1.00      1.00      1421\n",
      "\n",
      "    accuracy                           1.00      2931\n",
      "   macro avg       1.00      1.00      1.00      2931\n",
      "weighted avg       1.00      1.00      1.00      2931\n",
      "\n"
     ]
    }
   ],
   "source": [
    "# Print Classification Report\n",
    "print(\"Classification Report for Random Forest with Image After Gabor Filter\")\n",
    "print(classification_report(y_test_gabor, y_pred_gabor))"
   ]
  },
  {
   "cell_type": "code",
   "execution_count": null,
   "id": "96748dfe",
   "metadata": {},
   "outputs": [
    {
     "name": "stdout",
     "output_type": "stream",
     "text": [
      "Confusion Matrix for Random Forest with Image After Gabor Filter\n"
     ]
    },
    {
     "data": {
      "image/png": "[encoded data removed]",
      "text/plain": [
       "<Figure size 432x288 with 1 Axes>"
      ]
     },
     "metadata": {
      "needs_background": "light"
     },
     "output_type": "display_data"
    }
   ],
   "source": [
    "# Plot Confusion Matrix\n",
    "print(\"Confusion Matrix for Random Forest with Image After Gabor Filter\")\n",
    "Plot_Confusion_Matrix(y_test_gabor, y_pred_gabor)"
   ]
  },
  {
   "cell_type": "markdown",
   "id": "abc8afe7",
   "metadata": {},
   "source": [
    "# Build Random Forest Model with Image After Gabor Filter And Adaptive Gaussian Thresholding"
   ]
  },
  {
   "cell_type": "code",
   "execution_count": null,
   "id": "59b51da3",
   "metadata": {},
   "outputs": [
    {
     "data": {
      "text/plain": [
       "RandomForestClassifier()"
      ]
     },
     "execution_count": 62,
     "metadata": {},
     "output_type": "execute_result"
    }
   ],
   "source": [
    "# Initialize and train Random Forest classifier\n",
    "clf_gabor_thresh_gauss = RandomForestClassifier(n_estimators = 100)\n",
    "clf_gabor_thresh_gauss.fit(X_train_gabor_thresh_gauss, y_train_gabor_thresh_gauss)"
   ]
  },
  {
   "cell_type": "code",
   "execution_count": null,
   "id": "e2306f8d",
   "metadata": {},
   "outputs": [
    {
     "name": "stdout",
     "output_type": "stream",
     "text": [
      "Validation Accuracy of Random Forest Model with Image After Gabor Filter And Adaptive Gaussian Thresholding: 0.9901057659501876\n"
     ]
    }
   ],
   "source": [
    "# Evaluate model on validation set\n",
    "valid_accuracy_gabor_thresh_gauss = clf_gabor_thresh_gauss.score(X_valid_gabor_thresh_gauss, y_valid_gabor_thresh_gauss)\n",
    "print(\"Validation Accuracy of Random Forest Model with Image After Gabor Filter And Adaptive Gaussian Thresholding:\", valid_accuracy_gabor_thresh_gauss)"
   ]
  },
  {
   "cell_type": "code",
   "execution_count": null,
   "id": "85d0660f",
   "metadata": {},
   "outputs": [
    {
     "name": "stdout",
     "output_type": "stream",
     "text": [
      "Test Accuracy of Random Forest Model with Image After Gabor Filter And Adaptive Gaussian Thresholding: 0.9918116683725691\n"
     ]
    }
   ],
   "source": [
    "# Evaluate model on test set\n",
    "test_accuracy_gabor_thresh_gauss = clf_gabor_thresh_gauss.score(X_test_gabor_thresh_gauss, y_test_gabor_thresh_gauss)\n",
    "print(\"Test Accuracy of Random Forest Model with Image After Gabor Filter And Adaptive Gaussian Thresholding:\", test_accuracy_gabor_thresh_gauss)"
   ]
  },
  {
   "cell_type": "code",
   "execution_count": null,
   "id": "b41ffd5b",
   "metadata": {},
   "outputs": [],
   "source": [
    "y_pred_gabor_thresh_gauss = clf_gabor_thresh_gauss.predict(X_test_gabor_thresh_gauss)\n",
    "y_pred_prob_gabor_thresh_gauss = clf_gabor_thresh_gauss.predict_proba(X_test_gabor_thresh_gauss)\n",
    "y_pred_prob_gabor_thresh_gauss = np.argmax(y_pred_prob_gabor_thresh_gauss, axis=1)"
   ]
  },
  {
   "cell_type": "code",
   "execution_count": null,
   "id": "62a51dd3",
   "metadata": {},
   "outputs": [
    {
     "name": "stdout",
     "output_type": "stream",
     "text": [
      "ROC for the test dataset 99.2%\n"
     ]
    },
    {
     "data": {
      "image/png": "[encoded data removed]",
      "text/plain": [
       "<Figure size 432x288 with 1 Axes>"
      ]
     },
     "metadata": {
      "needs_background": "light"
     },
     "output_type": "display_data"
    },
    {
     "name": "stderr",
     "output_type": "stream",
     "text": [
      "C:\\Users\\Sandeep\\AppData\\Local\\Temp\\ipykernel_4888\\3547552962.py:38: FutureWarning: The frame.append method is deprecated and will be removed from pandas in a future version. Use pandas.concat instead.\n",
      "  evaluation_results = evaluation_results.append(pd.DataFrame({'Model': model, 'Accuracy': Accuracy, 'Precision': Precision, 'TPR': TPR, 'TNR': TNR, 'F_Score': F_Score, 'ROC_Value': roc_value, 'MCC': MCC, 'Threshold': threshold}, index=[0]), ignore_index=True)\n"
     ]
    },
    {
     "data": {
      "text/html": [
       "<div>\n",
       "<style scoped>\n",
       "    .dataframe tbody tr th:only-of-type {\n",
       "        vertical-align: middle;\n",
       "    }\n",
       "\n",
       "    .dataframe tbody tr th {\n",
       "        vertical-align: top;\n",
       "    }\n",
       "\n",
       "    .dataframe thead th {\n",
       "        text-align: right;\n",
       "    }\n",
       "</style>\n",
       "<table border=\"1\" class=\"dataframe\">\n",
       "  <thead>\n",
       "    <tr style=\"text-align: right;\">\n",
       "      <th></th>\n",
       "      <th>Model</th>\n",
       "      <th>Accuracy</th>\n",
       "      <th>Precision</th>\n",
       "      <th>TPR</th>\n",
       "      <th>TNR</th>\n",
       "      <th>F_Score</th>\n",
       "      <th>ROC_Value</th>\n",
       "      <th>MCC</th>\n",
       "      <th>Threshold</th>\n",
       "    </tr>\n",
       "  </thead>\n",
       "  <tbody>\n",
       "    <tr>\n",
       "      <th>0</th>\n",
       "      <td>CNN with Original image</td>\n",
       "      <td>0.988400</td>\n",
       "      <td>0.982603</td>\n",
       "      <td>0.993666</td>\n",
       "      <td>0.983444</td>\n",
       "      <td>0.988104</td>\n",
       "      <td>0.999601</td>\n",
       "      <td>0.976844</td>\n",
       "      <td>0.673184</td>\n",
       "    </tr>\n",
       "    <tr>\n",
       "      <th>1</th>\n",
       "      <td>CNN with Image After Adaptive Gaussian Thresho...</td>\n",
       "      <td>0.988400</td>\n",
       "      <td>0.982603</td>\n",
       "      <td>0.993666</td>\n",
       "      <td>0.983444</td>\n",
       "      <td>0.988104</td>\n",
       "      <td>0.999222</td>\n",
       "      <td>0.976844</td>\n",
       "      <td>0.530475</td>\n",
       "    </tr>\n",
       "    <tr>\n",
       "      <th>2</th>\n",
       "      <td>CNN with Image After Adaptive Mean Thresholding</td>\n",
       "      <td>0.990106</td>\n",
       "      <td>0.984680</td>\n",
       "      <td>0.995074</td>\n",
       "      <td>0.985430</td>\n",
       "      <td>0.989849</td>\n",
       "      <td>0.999611</td>\n",
       "      <td>0.980251</td>\n",
       "      <td>0.724586</td>\n",
       "    </tr>\n",
       "    <tr>\n",
       "      <th>3</th>\n",
       "      <td>CNN with Image After Gabor Filter</td>\n",
       "      <td>0.990447</td>\n",
       "      <td>0.990148</td>\n",
       "      <td>0.990148</td>\n",
       "      <td>0.990728</td>\n",
       "      <td>0.990148</td>\n",
       "      <td>0.999688</td>\n",
       "      <td>0.980876</td>\n",
       "      <td>0.435529</td>\n",
       "    </tr>\n",
       "    <tr>\n",
       "      <th>4</th>\n",
       "      <td>CNN with Image After Gabor Filter and Adaptive...</td>\n",
       "      <td>0.989082</td>\n",
       "      <td>0.987368</td>\n",
       "      <td>0.990148</td>\n",
       "      <td>0.988079</td>\n",
       "      <td>0.988756</td>\n",
       "      <td>0.999671</td>\n",
       "      <td>0.978150</td>\n",
       "      <td>0.579517</td>\n",
       "    </tr>\n",
       "    <tr>\n",
       "      <th>5</th>\n",
       "      <td>CNN with Image After Gabor Filter and Adaptive...</td>\n",
       "      <td>0.988741</td>\n",
       "      <td>0.990806</td>\n",
       "      <td>0.985925</td>\n",
       "      <td>0.991391</td>\n",
       "      <td>0.988360</td>\n",
       "      <td>0.999424</td>\n",
       "      <td>0.977469</td>\n",
       "      <td>0.362923</td>\n",
       "    </tr>\n",
       "    <tr>\n",
       "      <th>6</th>\n",
       "      <td>Random Forest with Original image</td>\n",
       "      <td>0.996929</td>\n",
       "      <td>0.995787</td>\n",
       "      <td>0.997889</td>\n",
       "      <td>0.996026</td>\n",
       "      <td>0.996837</td>\n",
       "      <td>0.996958</td>\n",
       "      <td>0.993856</td>\n",
       "      <td>1.000000</td>\n",
       "    </tr>\n",
       "    <tr>\n",
       "      <th>7</th>\n",
       "      <td>Random Forest with Image After Adaptive Gaussi...</td>\n",
       "      <td>0.988400</td>\n",
       "      <td>0.986667</td>\n",
       "      <td>0.989444</td>\n",
       "      <td>0.987417</td>\n",
       "      <td>0.988053</td>\n",
       "      <td>0.988431</td>\n",
       "      <td>0.976784</td>\n",
       "      <td>1.000000</td>\n",
       "    </tr>\n",
       "    <tr>\n",
       "      <th>8</th>\n",
       "      <td>Random Forest with Image After Adaptive Mean T...</td>\n",
       "      <td>0.993176</td>\n",
       "      <td>0.992963</td>\n",
       "      <td>0.992963</td>\n",
       "      <td>0.993377</td>\n",
       "      <td>0.992963</td>\n",
       "      <td>0.993170</td>\n",
       "      <td>0.986340</td>\n",
       "      <td>1.000000</td>\n",
       "    </tr>\n",
       "    <tr>\n",
       "      <th>9</th>\n",
       "      <td>Random Forest with Image After Gabor Filter</td>\n",
       "      <td>0.995906</td>\n",
       "      <td>0.994386</td>\n",
       "      <td>0.997185</td>\n",
       "      <td>0.994702</td>\n",
       "      <td>0.995784</td>\n",
       "      <td>0.995944</td>\n",
       "      <td>0.991808</td>\n",
       "      <td>1.000000</td>\n",
       "    </tr>\n",
       "    <tr>\n",
       "      <th>10</th>\n",
       "      <td>Random Forest with Image After Gabor Filter an...</td>\n",
       "      <td>0.991812</td>\n",
       "      <td>0.988803</td>\n",
       "      <td>0.994370</td>\n",
       "      <td>0.989404</td>\n",
       "      <td>0.991579</td>\n",
       "      <td>0.991887</td>\n",
       "      <td>0.983626</td>\n",
       "      <td>1.000000</td>\n",
       "    </tr>\n",
       "  </tbody>\n",
       "</table>\n",
       "</div>"
      ],
      "text/plain": [
       "                                                Model  Accuracy  Precision  \\\n",
       "0                             CNN with Original image  0.988400   0.982603   \n",
       "1   CNN with Image After Adaptive Gaussian Thresho...  0.988400   0.982603   \n",
       "2     CNN with Image After Adaptive Mean Thresholding  0.990106   0.984680   \n",
       "3                   CNN with Image After Gabor Filter  0.990447   0.990148   \n",
       "4   CNN with Image After Gabor Filter and Adaptive...  0.989082   0.987368   \n",
       "5   CNN with Image After Gabor Filter and Adaptive...  0.988741   0.990806   \n",
       "6                   Random Forest with Original image  0.996929   0.995787   \n",
       "7   Random Forest with Image After Adaptive Gaussi...  0.988400   0.986667   \n",
       "8   Random Forest with Image After Adaptive Mean T...  0.993176   0.992963   \n",
       "9         Random Forest with Image After Gabor Filter  0.995906   0.994386   \n",
       "10  Random Forest with Image After Gabor Filter an...  0.991812   0.988803   \n",
       "\n",
       "         TPR       TNR   F_Score  ROC_Value       MCC  Threshold  \n",
       "0   0.993666  0.983444  0.988104   0.999601  0.976844   0.673184  \n",
       "1   0.993666  0.983444  0.988104   0.999222  0.976844   0.530475  \n",
       "2   0.995074  0.985430  0.989849   0.999611  0.980251   0.724586  \n",
       "3   0.990148  0.990728  0.990148   0.999688  0.980876   0.435529  \n",
       "4   0.990148  0.988079  0.988756   0.999671  0.978150   0.579517  \n",
       "5   0.985925  0.991391  0.988360   0.999424  0.977469   0.362923  \n",
       "6   0.997889  0.996026  0.996837   0.996958  0.993856   1.000000  \n",
       "7   0.989444  0.987417  0.988053   0.988431  0.976784   1.000000  \n",
       "8   0.992963  0.993377  0.992963   0.993170  0.986340   1.000000  \n",
       "9   0.997185  0.994702  0.995784   0.995944  0.991808   1.000000  \n",
       "10  0.994370  0.989404  0.991579   0.991887  0.983626   1.000000  "
      ]
     },
     "execution_count": 66,
     "metadata": {},
     "output_type": "execute_result"
    }
   ],
   "source": [
    "Calculate_Errors('Random Forest with Image After Gabor Filter and Adaptive Gaussian Thresholding', y_test_gabor_thresh_gauss, y_pred_gabor_thresh_gauss, y_pred_prob_gabor_thresh_gauss)\n",
    "evaluation_results"
   ]
  },
  {
   "cell_type": "code",
   "execution_count": null,
   "id": "2bbefe76",
   "metadata": {},
   "outputs": [
    {
     "name": "stdout",
     "output_type": "stream",
     "text": [
      "Classification Report for Random Forest with Image After Gabor Filter and Adaptive Gaussian Thresholding\n",
      "              precision    recall  f1-score   support\n",
      "\n",
      "           0       0.99      0.99      0.99      1510\n",
      "           1       0.99      0.99      0.99      1421\n",
      "\n",
      "    accuracy                           0.99      2931\n",
      "   macro avg       0.99      0.99      0.99      2931\n",
      "weighted avg       0.99      0.99      0.99      2931\n",
      "\n"
     ]
    }
   ],
   "source": [
    "# Print Classification Report\n",
    "print(\"Classification Report for Random Forest with Image After Gabor Filter and Adaptive Gaussian Thresholding\")\n",
    "print(classification_report(y_test_gabor_thresh_gauss, y_pred_gabor_thresh_gauss))"
   ]
  },
  {
   "cell_type": "code",
   "execution_count": null,
   "id": "33012d48",
   "metadata": {},
   "outputs": [
    {
     "name": "stdout",
     "output_type": "stream",
     "text": [
      "Confusion Matrix for Random Forest with Image After Gabor Filter and Adaptive Gaussian Thresholding\n"
     ]
    },
    {
     "data": {
      "image/png": "[encoded data removed]",
      "text/plain": [
       "<Figure size 432x288 with 1 Axes>"
      ]
     },
     "metadata": {
      "needs_background": "light"
     },
     "output_type": "display_data"
    }
   ],
   "source": [
    "# Plot Confusion Matrix\n",
    "print(\"Confusion Matrix for Random Forest with Image After Gabor Filter and Adaptive Gaussian Thresholding\")\n",
    "Plot_Confusion_Matrix(y_test_gabor_thresh_gauss, y_pred_gabor_thresh_gauss)"
   ]
  },
  {
   "cell_type": "markdown",
   "id": "fa079fcb",
   "metadata": {},
   "source": [
    "# Build Random Forest Model with Image After Gabor Filter And Adaptive Mean Thresholding"
   ]
  },
  {
   "cell_type": "code",
   "execution_count": null,
   "id": "b376eb72",
   "metadata": {},
   "outputs": [
    {
     "data": {
      "text/plain": [
       "RandomForestClassifier()"
      ]
     },
     "execution_count": 69,
     "metadata": {},
     "output_type": "execute_result"
    }
   ],
   "source": [
    "# Initialize and train Random Forest classifier\n",
    "clf_gabor_thresh_mean = RandomForestClassifier(n_estimators = 100)\n",
    "clf_gabor_thresh_mean.fit(X_train_gabor_thresh_mean, y_train_gabor_thresh_mean)"
   ]
  },
  {
   "cell_type": "code",
   "execution_count": null,
   "id": "e24425c3",
   "metadata": {},
   "outputs": [
    {
     "name": "stdout",
     "output_type": "stream",
     "text": [
      "Validation Accuracy of Random Forest Model with Image After Gabor Filter And Adaptive Mean Thresholding: 0.9904469464346639\n"
     ]
    }
   ],
   "source": [
    "# Evaluate model on validation set\n",
    "valid_accuracy_gabor_thresh_mean = clf_gabor_thresh_mean.score(X_valid_gabor_thresh_mean, y_valid_gabor_thresh_mean)\n",
    "print(\"Validation Accuracy of Random Forest Model with Image After Gabor Filter And Adaptive Mean Thresholding:\", valid_accuracy_gabor_thresh_mean)"
   ]
  },
  {
   "cell_type": "code",
   "execution_count": null,
   "id": "e9ef4ce0",
   "metadata": {},
   "outputs": [
    {
     "name": "stdout",
     "output_type": "stream",
     "text": [
      "Test Accuracy of Random Forest Model with Image After Gabor Filter And Adaptive Mean Thresholding: 0.9897645854657113\n"
     ]
    }
   ],
   "source": [
    "# Evaluate model on test set\n",
    "test_accuracy_gabor_thresh_mean = clf_gabor_thresh_mean.score(X_test_gabor_thresh_mean, y_test_gabor_thresh_mean)\n",
    "print(\"Test Accuracy of Random Forest Model with Image After Gabor Filter And Adaptive Mean Thresholding:\", test_accuracy_gabor_thresh_mean)"
   ]
  },
  {
   "cell_type": "code",
   "execution_count": null,
   "id": "d6de6700",
   "metadata": {},
   "outputs": [],
   "source": [
    "y_pred_gabor_thresh_mean = clf_gabor_thresh_mean.predict(X_test_gabor_thresh_mean)\n",
    "y_pred_prob_gabor_thresh_mean = clf_gabor_thresh_mean.predict_proba(X_test_gabor_thresh_mean)\n",
    "y_pred_prob_gabor_thresh_mean = np.argmax(y_pred_prob_gabor_thresh_mean, axis=1)"
   ]
  },
  {
   "cell_type": "code",
   "execution_count": null,
   "id": "31e23594",
   "metadata": {},
   "outputs": [
    {
     "name": "stdout",
     "output_type": "stream",
     "text": [
      "ROC for the test dataset 99.0%\n"
     ]
    },
    {
     "data": {
      "image/png": "[encoded data removed]",
      "text/plain": [
       "<Figure size 432x288 with 1 Axes>"
      ]
     },
     "metadata": {
      "needs_background": "light"
     },
     "output_type": "display_data"
    },
    {
     "name": "stderr",
     "output_type": "stream",
     "text": [
      "C:\\Users\\Sandeep\\AppData\\Local\\Temp\\ipykernel_4888\\3547552962.py:38: FutureWarning: The frame.append method is deprecated and will be removed from pandas in a future version. Use pandas.concat instead.\n",
      "  evaluation_results = evaluation_results.append(pd.DataFrame({'Model': model, 'Accuracy': Accuracy, 'Precision': Precision, 'TPR': TPR, 'TNR': TNR, 'F_Score': F_Score, 'ROC_Value': roc_value, 'MCC': MCC, 'Threshold': threshold}, index=[0]), ignore_index=True)\n"
     ]
    },
    {
     "data": {
      "text/html": [
       "<div>\n",
       "<style scoped>\n",
       "    .dataframe tbody tr th:only-of-type {\n",
       "        vertical-align: middle;\n",
       "    }\n",
       "\n",
       "    .dataframe tbody tr th {\n",
       "        vertical-align: top;\n",
       "    }\n",
       "\n",
       "    .dataframe thead th {\n",
       "        text-align: right;\n",
       "    }\n",
       "</style>\n",
       "<table border=\"1\" class=\"dataframe\">\n",
       "  <thead>\n",
       "    <tr style=\"text-align: right;\">\n",
       "      <th></th>\n",
       "      <th>Model</th>\n",
       "      <th>Accuracy</th>\n",
       "      <th>Precision</th>\n",
       "      <th>TPR</th>\n",
       "      <th>TNR</th>\n",
       "      <th>F_Score</th>\n",
       "      <th>ROC_Value</th>\n",
       "      <th>MCC</th>\n",
       "      <th>Threshold</th>\n",
       "    </tr>\n",
       "  </thead>\n",
       "  <tbody>\n",
       "    <tr>\n",
       "      <th>0</th>\n",
       "      <td>CNN with Original image</td>\n",
       "      <td>0.988400</td>\n",
       "      <td>0.982603</td>\n",
       "      <td>0.993666</td>\n",
       "      <td>0.983444</td>\n",
       "      <td>0.988104</td>\n",
       "      <td>0.999601</td>\n",
       "      <td>0.976844</td>\n",
       "      <td>0.673184</td>\n",
       "    </tr>\n",
       "    <tr>\n",
       "      <th>1</th>\n",
       "      <td>CNN with Image After Adaptive Gaussian Thresho...</td>\n",
       "      <td>0.988400</td>\n",
       "      <td>0.982603</td>\n",
       "      <td>0.993666</td>\n",
       "      <td>0.983444</td>\n",
       "      <td>0.988104</td>\n",
       "      <td>0.999222</td>\n",
       "      <td>0.976844</td>\n",
       "      <td>0.530475</td>\n",
       "    </tr>\n",
       "    <tr>\n",
       "      <th>2</th>\n",
       "      <td>CNN with Image After Adaptive Mean Thresholding</td>\n",
       "      <td>0.990106</td>\n",
       "      <td>0.984680</td>\n",
       "      <td>0.995074</td>\n",
       "      <td>0.985430</td>\n",
       "      <td>0.989849</td>\n",
       "      <td>0.999611</td>\n",
       "      <td>0.980251</td>\n",
       "      <td>0.724586</td>\n",
       "    </tr>\n",
       "    <tr>\n",
       "      <th>3</th>\n",
       "      <td>CNN with Image After Gabor Filter</td>\n",
       "      <td>0.990447</td>\n",
       "      <td>0.990148</td>\n",
       "      <td>0.990148</td>\n",
       "      <td>0.990728</td>\n",
       "      <td>0.990148</td>\n",
       "      <td>0.999688</td>\n",
       "      <td>0.980876</td>\n",
       "      <td>0.435529</td>\n",
       "    </tr>\n",
       "    <tr>\n",
       "      <th>4</th>\n",
       "      <td>CNN with Image After Gabor Filter and Adaptive...</td>\n",
       "      <td>0.989082</td>\n",
       "      <td>0.987368</td>\n",
       "      <td>0.990148</td>\n",
       "      <td>0.988079</td>\n",
       "      <td>0.988756</td>\n",
       "      <td>0.999671</td>\n",
       "      <td>0.978150</td>\n",
       "      <td>0.579517</td>\n",
       "    </tr>\n",
       "    <tr>\n",
       "      <th>5</th>\n",
       "      <td>CNN with Image After Gabor Filter and Adaptive...</td>\n",
       "      <td>0.988741</td>\n",
       "      <td>0.990806</td>\n",
       "      <td>0.985925</td>\n",
       "      <td>0.991391</td>\n",
       "      <td>0.988360</td>\n",
       "      <td>0.999424</td>\n",
       "      <td>0.977469</td>\n",
       "      <td>0.362923</td>\n",
       "    </tr>\n",
       "    <tr>\n",
       "      <th>6</th>\n",
       "      <td>Random Forest with Original image</td>\n",
       "      <td>0.996929</td>\n",
       "      <td>0.995787</td>\n",
       "      <td>0.997889</td>\n",
       "      <td>0.996026</td>\n",
       "      <td>0.996837</td>\n",
       "      <td>0.996958</td>\n",
       "      <td>0.993856</td>\n",
       "      <td>1.000000</td>\n",
       "    </tr>\n",
       "    <tr>\n",
       "      <th>7</th>\n",
       "      <td>Random Forest with Image After Adaptive Gaussi...</td>\n",
       "      <td>0.988400</td>\n",
       "      <td>0.986667</td>\n",
       "      <td>0.989444</td>\n",
       "      <td>0.987417</td>\n",
       "      <td>0.988053</td>\n",
       "      <td>0.988431</td>\n",
       "      <td>0.976784</td>\n",
       "      <td>1.000000</td>\n",
       "    </tr>\n",
       "    <tr>\n",
       "      <th>8</th>\n",
       "      <td>Random Forest with Image After Adaptive Mean T...</td>\n",
       "      <td>0.993176</td>\n",
       "      <td>0.992963</td>\n",
       "      <td>0.992963</td>\n",
       "      <td>0.993377</td>\n",
       "      <td>0.992963</td>\n",
       "      <td>0.993170</td>\n",
       "      <td>0.986340</td>\n",
       "      <td>1.000000</td>\n",
       "    </tr>\n",
       "    <tr>\n",
       "      <th>9</th>\n",
       "      <td>Random Forest with Image After Gabor Filter</td>\n",
       "      <td>0.995906</td>\n",
       "      <td>0.994386</td>\n",
       "      <td>0.997185</td>\n",
       "      <td>0.994702</td>\n",
       "      <td>0.995784</td>\n",
       "      <td>0.995944</td>\n",
       "      <td>0.991808</td>\n",
       "      <td>1.000000</td>\n",
       "    </tr>\n",
       "    <tr>\n",
       "      <th>10</th>\n",
       "      <td>Random Forest with Image After Gabor Filter an...</td>\n",
       "      <td>0.991812</td>\n",
       "      <td>0.988803</td>\n",
       "      <td>0.994370</td>\n",
       "      <td>0.989404</td>\n",
       "      <td>0.991579</td>\n",
       "      <td>0.991887</td>\n",
       "      <td>0.983626</td>\n",
       "      <td>1.000000</td>\n",
       "    </tr>\n",
       "    <tr>\n",
       "      <th>11</th>\n",
       "      <td>Random Forest with Image After Gabor Filter an...</td>\n",
       "      <td>0.989765</td>\n",
       "      <td>0.988070</td>\n",
       "      <td>0.990852</td>\n",
       "      <td>0.988742</td>\n",
       "      <td>0.989459</td>\n",
       "      <td>0.989797</td>\n",
       "      <td>0.979516</td>\n",
       "      <td>1.000000</td>\n",
       "    </tr>\n",
       "  </tbody>\n",
       "</table>\n",
       "</div>"
      ],
      "text/plain": [
       "                                                Model  Accuracy  Precision  \\\n",
       "0                             CNN with Original image  0.988400   0.982603   \n",
       "1   CNN with Image After Adaptive Gaussian Thresho...  0.988400   0.982603   \n",
       "2     CNN with Image After Adaptive Mean Thresholding  0.990106   0.984680   \n",
       "3                   CNN with Image After Gabor Filter  0.990447   0.990148   \n",
       "4   CNN with Image After Gabor Filter and Adaptive...  0.989082   0.987368   \n",
       "5   CNN with Image After Gabor Filter and Adaptive...  0.988741   0.990806   \n",
       "6                   Random Forest with Original image  0.996929   0.995787   \n",
       "7   Random Forest with Image After Adaptive Gaussi...  0.988400   0.986667   \n",
       "8   Random Forest with Image After Adaptive Mean T...  0.993176   0.992963   \n",
       "9         Random Forest with Image After Gabor Filter  0.995906   0.994386   \n",
       "10  Random Forest with Image After Gabor Filter an...  0.991812   0.988803   \n",
       "11  Random Forest with Image After Gabor Filter an...  0.989765   0.988070   \n",
       "\n",
       "         TPR       TNR   F_Score  ROC_Value       MCC  Threshold  \n",
       "0   0.993666  0.983444  0.988104   0.999601  0.976844   0.673184  \n",
       "1   0.993666  0.983444  0.988104   0.999222  0.976844   0.530475  \n",
       "2   0.995074  0.985430  0.989849   0.999611  0.980251   0.724586  \n",
       "3   0.990148  0.990728  0.990148   0.999688  0.980876   0.435529  \n",
       "4   0.990148  0.988079  0.988756   0.999671  0.978150   0.579517  \n",
       "5   0.985925  0.991391  0.988360   0.999424  0.977469   0.362923  \n",
       "6   0.997889  0.996026  0.996837   0.996958  0.993856   1.000000  \n",
       "7   0.989444  0.987417  0.988053   0.988431  0.976784   1.000000  \n",
       "8   0.992963  0.993377  0.992963   0.993170  0.986340   1.000000  \n",
       "9   0.997185  0.994702  0.995784   0.995944  0.991808   1.000000  \n",
       "10  0.994370  0.989404  0.991579   0.991887  0.983626   1.000000  \n",
       "11  0.990852  0.988742  0.989459   0.989797  0.979516   1.000000  "
      ]
     },
     "execution_count": 73,
     "metadata": {},
     "output_type": "execute_result"
    }
   ],
   "source": [
    "Calculate_Errors('Random Forest with Image After Gabor Filter and Adaptive Mean Thresholding', y_test_gabor_thresh_mean, y_pred_gabor_thresh_mean, y_pred_prob_gabor_thresh_mean)\n",
    "evaluation_results"
   ]
  },
  {
   "cell_type": "code",
   "execution_count": null,
   "id": "d1b8f8ca",
   "metadata": {},
   "outputs": [
    {
     "name": "stdout",
     "output_type": "stream",
     "text": [
      "Classification Report for Random Forest with Image After Gabor Filter and Adaptive Mean Thresholding\n",
      "              precision    recall  f1-score   support\n",
      "\n",
      "           0       0.99      0.99      0.99      1510\n",
      "           1       0.99      0.99      0.99      1421\n",
      "\n",
      "    accuracy                           0.99      2931\n",
      "   macro avg       0.99      0.99      0.99      2931\n",
      "weighted avg       0.99      0.99      0.99      2931\n",
      "\n"
     ]
    }
   ],
   "source": [
    "# Print Classification Report\n",
    "print(\"Classification Report for Random Forest with Image After Gabor Filter and Adaptive Mean Thresholding\")\n",
    "print(classification_report(y_test_gabor_thresh_mean, y_pred_gabor_thresh_mean))"
   ]
  },
  {
   "cell_type": "code",
   "execution_count": null,
   "id": "f7fbd2a0",
   "metadata": {},
   "outputs": [
    {
     "name": "stdout",
     "output_type": "stream",
     "text": [
      "Confusion Matrix for Random Forest with Image After Gabor Filter and Adaptive Mean Thresholding\n"
     ]
    },
    {
     "data": {
      "image/png": "[encoded data removed]",
      "text/plain": [
       "<Figure size 432x288 with 1 Axes>"
      ]
     },
     "metadata": {
      "needs_background": "light"
     },
     "output_type": "display_data"
    }
   ],
   "source": [
    "# Plot Confusion Matrix\n",
    "print(\"Confusion Matrix for Random Forest with Image After Gabor Filter and Adaptive Mean Thresholding\")\n",
    "Plot_Confusion_Matrix(y_test_gabor_thresh_mean, y_pred_gabor_thresh_mean)"
   ]
  },
  {
   "cell_type": "code",
   "execution_count": null,
   "id": "bff3a6fd",
   "metadata": {},
   "outputs": [],
   "source": [
    "evaluation_results.to_csv('D:\\\\Volvo\\\\EvaluationResults.csv')"
   ]
  }
 ],
 "metadata": {
  "kernelspec": {
   "display_name": "Python 3 (ipykernel)",
   "language": "python",
   "name": "python3"
  },
  "language_info": {
   "codemirror_mode": {
    "name": "ipython",
    "version": 3
   },
   "file_extension": ".py",
   "mimetype": "text/x-python",
   "name": "python",
   "nbconvert_exporter": "python",
   "pygments_lexer": "ipython3",
   "version": "3.9.0"
  }
 },
 "nbformat": 4,
 "nbformat_minor": 5
}
