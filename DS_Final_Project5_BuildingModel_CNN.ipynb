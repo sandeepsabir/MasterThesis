{
 "cells": [
  {
   "cell_type": "code",
   "execution_count": 1,
   "id": "14b18bf6",
   "metadata": {},
   "outputs": [],
   "source": [
    "import numpy as np\n",
    "import pandas as pd\n",
    "import tensorflow as tf\n",
    "import matplotlib.pyplot as plt\n",
    "from matplotlib.colors import LinearSegmentedColormap\n",
    "from tensorflow.keras.preprocessing.image import ImageDataGenerator\n",
    "from sklearn.model_selection import train_test_split\n",
    "from sklearn import metrics\n",
    "from sklearn.metrics import classification_report, confusion_matrix, plot_confusion_matrix, roc_curve, auc, roc_auc_score\n",
    "\n",
    "from keras.models import Sequential\n",
    "from keras.layers import Conv2D, MaxPooling2D, Dense, Flatten\n",
    "\n",
    "\n",
    "from keras.preprocessing.image import ImageDataGenerator\n",
    "from keras.layers import BatchNormalization\n",
    "from keras.layers import Conv2D, MaxPooling2D, Dense, Flatten\n",
    "from keras.datasets import cifar10\n",
    "from keras.utils import normalize, to_categorical\n",
    "from keras.layers import Dropout\n",
    "from keras.optimizers import SGD, RMSprop\n",
    "from keras.callbacks import ModelCheckpoint, EarlyStopping, CSVLogger\n",
    "\n",
    "import seaborn as sns"
   ]
  },
  {
   "cell_type": "markdown",
   "id": "41d42e31",
   "metadata": {},
   "source": [
    "# Import and Preprocess Original Image"
   ]
  },
  {
   "cell_type": "code",
   "execution_count": 2,
   "id": "4a5222e9",
   "metadata": {},
   "outputs": [
    {
     "data": {
      "text/html": [
       "<div>\n",
       "<style scoped>\n",
       "    .dataframe tbody tr th:only-of-type {\n",
       "        vertical-align: middle;\n",
       "    }\n",
       "\n",
       "    .dataframe tbody tr th {\n",
       "        vertical-align: top;\n",
       "    }\n",
       "\n",
       "    .dataframe thead th {\n",
       "        text-align: right;\n",
       "    }\n",
       "</style>\n",
       "<table border=\"1\" class=\"dataframe\">\n",
       "  <thead>\n",
       "    <tr style=\"text-align: right;\">\n",
       "      <th></th>\n",
       "      <th>Unnamed: 0</th>\n",
       "      <th>File_Name</th>\n",
       "      <th>SSIM</th>\n",
       "      <th>Expanded</th>\n",
       "      <th>ExpandedStr</th>\n",
       "    </tr>\n",
       "  </thead>\n",
       "  <tbody>\n",
       "    <tr>\n",
       "      <th>0</th>\n",
       "      <td>0</td>\n",
       "      <td>WIN_20240307_14_59_52_Pro_272_000001</td>\n",
       "      <td>0.751425</td>\n",
       "      <td>Unexpanded</td>\n",
       "      <td>Unexpanded</td>\n",
       "    </tr>\n",
       "    <tr>\n",
       "      <th>1</th>\n",
       "      <td>1</td>\n",
       "      <td>WIN_20240307_14_59_52_Pro_273_000002</td>\n",
       "      <td>0.746898</td>\n",
       "      <td>Unexpanded</td>\n",
       "      <td>Unexpanded</td>\n",
       "    </tr>\n",
       "    <tr>\n",
       "      <th>2</th>\n",
       "      <td>2</td>\n",
       "      <td>WIN_20240307_14_59_52_Pro_274_000003</td>\n",
       "      <td>0.747401</td>\n",
       "      <td>Unexpanded</td>\n",
       "      <td>Unexpanded</td>\n",
       "    </tr>\n",
       "    <tr>\n",
       "      <th>3</th>\n",
       "      <td>3</td>\n",
       "      <td>WIN_20240307_14_59_52_Pro_275_000004</td>\n",
       "      <td>0.747409</td>\n",
       "      <td>Unexpanded</td>\n",
       "      <td>Unexpanded</td>\n",
       "    </tr>\n",
       "    <tr>\n",
       "      <th>4</th>\n",
       "      <td>4</td>\n",
       "      <td>WIN_20240307_14_59_52_Pro_276_000005</td>\n",
       "      <td>0.745905</td>\n",
       "      <td>Unexpanded</td>\n",
       "      <td>Unexpanded</td>\n",
       "    </tr>\n",
       "    <tr>\n",
       "      <th>...</th>\n",
       "      <td>...</td>\n",
       "      <td>...</td>\n",
       "      <td>...</td>\n",
       "      <td>...</td>\n",
       "      <td>...</td>\n",
       "    </tr>\n",
       "    <tr>\n",
       "      <th>19530</th>\n",
       "      <td>19530</td>\n",
       "      <td>WIN_20240307_19_43_34_Pro_56_019531</td>\n",
       "      <td>0.884496</td>\n",
       "      <td>Expanded</td>\n",
       "      <td>Expanded</td>\n",
       "    </tr>\n",
       "    <tr>\n",
       "      <th>19531</th>\n",
       "      <td>19531</td>\n",
       "      <td>WIN_20240307_19_43_34_Pro_57_019532</td>\n",
       "      <td>0.881914</td>\n",
       "      <td>Expanded</td>\n",
       "      <td>Expanded</td>\n",
       "    </tr>\n",
       "    <tr>\n",
       "      <th>19532</th>\n",
       "      <td>19532</td>\n",
       "      <td>WIN_20240307_19_43_34_Pro_58_019533</td>\n",
       "      <td>0.883714</td>\n",
       "      <td>Expanded</td>\n",
       "      <td>Expanded</td>\n",
       "    </tr>\n",
       "    <tr>\n",
       "      <th>19533</th>\n",
       "      <td>19533</td>\n",
       "      <td>WIN_20240307_19_43_34_Pro_59_019534</td>\n",
       "      <td>0.881472</td>\n",
       "      <td>Expanded</td>\n",
       "      <td>Expanded</td>\n",
       "    </tr>\n",
       "    <tr>\n",
       "      <th>19534</th>\n",
       "      <td>19534</td>\n",
       "      <td>WIN_20240307_19_43_34_Pro_60_019535</td>\n",
       "      <td>0.882817</td>\n",
       "      <td>Expanded</td>\n",
       "      <td>Expanded</td>\n",
       "    </tr>\n",
       "  </tbody>\n",
       "</table>\n",
       "<p>19535 rows × 5 columns</p>\n",
       "</div>"
      ],
      "text/plain": [
       "       Unnamed: 0                             File_Name      SSIM    Expanded  \\\n",
       "0               0  WIN_20240307_14_59_52_Pro_272_000001  0.751425  Unexpanded   \n",
       "1               1  WIN_20240307_14_59_52_Pro_273_000002  0.746898  Unexpanded   \n",
       "2               2  WIN_20240307_14_59_52_Pro_274_000003  0.747401  Unexpanded   \n",
       "3               3  WIN_20240307_14_59_52_Pro_275_000004  0.747409  Unexpanded   \n",
       "4               4  WIN_20240307_14_59_52_Pro_276_000005  0.745905  Unexpanded   \n",
       "...           ...                                   ...       ...         ...   \n",
       "19530       19530   WIN_20240307_19_43_34_Pro_56_019531  0.884496    Expanded   \n",
       "19531       19531   WIN_20240307_19_43_34_Pro_57_019532  0.881914    Expanded   \n",
       "19532       19532   WIN_20240307_19_43_34_Pro_58_019533  0.883714    Expanded   \n",
       "19533       19533   WIN_20240307_19_43_34_Pro_59_019534  0.881472    Expanded   \n",
       "19534       19534   WIN_20240307_19_43_34_Pro_60_019535  0.882817    Expanded   \n",
       "\n",
       "      ExpandedStr  \n",
       "0      Unexpanded  \n",
       "1      Unexpanded  \n",
       "2      Unexpanded  \n",
       "3      Unexpanded  \n",
       "4      Unexpanded  \n",
       "...           ...  \n",
       "19530    Expanded  \n",
       "19531    Expanded  \n",
       "19532    Expanded  \n",
       "19533    Expanded  \n",
       "19534    Expanded  \n",
       "\n",
       "[19535 rows x 5 columns]"
      ]
     },
     "execution_count": 2,
     "metadata": {},
     "output_type": "execute_result"
    }
   ],
   "source": [
    "df_batteryLidImages = pd.read_csv('D:\\\\Volvo\\\\BatteryLidImages.csv')\n",
    "df_batteryLidImages['ExpandedStr'] = df_batteryLidImages['Expanded']\n",
    "df_batteryLidImages"
   ]
  },
  {
   "cell_type": "code",
   "execution_count": 3,
   "id": "59bc36a7",
   "metadata": {},
   "outputs": [],
   "source": [
    "class_names = ['Unexpanded', 'Expanded']\n",
    "\n",
    "# Define the predefined class variable names\n",
    "# Convert the categorical variable to Categorical datatype and specify the class variable names\n",
    "df_batteryLidImages['Expanded'] = pd.Categorical(df_batteryLidImages['Expanded'], categories=class_names)\n",
    "\n",
    "df_batteryLidImages['Expanded'] = df_batteryLidImages['Expanded'].cat.codes.astype(str)"
   ]
  },
  {
   "cell_type": "code",
   "execution_count": 4,
   "id": "594a7ed0",
   "metadata": {},
   "outputs": [
    {
     "data": {
      "text/html": [
       "<div>\n",
       "<style scoped>\n",
       "    .dataframe tbody tr th:only-of-type {\n",
       "        vertical-align: middle;\n",
       "    }\n",
       "\n",
       "    .dataframe tbody tr th {\n",
       "        vertical-align: top;\n",
       "    }\n",
       "\n",
       "    .dataframe thead th {\n",
       "        text-align: right;\n",
       "    }\n",
       "</style>\n",
       "<table border=\"1\" class=\"dataframe\">\n",
       "  <thead>\n",
       "    <tr style=\"text-align: right;\">\n",
       "      <th></th>\n",
       "      <th>File_Name</th>\n",
       "      <th>Expanded</th>\n",
       "    </tr>\n",
       "  </thead>\n",
       "  <tbody>\n",
       "    <tr>\n",
       "      <th>0</th>\n",
       "      <td>D:\\Volvo\\BatteryLid Images Sealing\\Unexpanded\\...</td>\n",
       "      <td>0</td>\n",
       "    </tr>\n",
       "    <tr>\n",
       "      <th>1</th>\n",
       "      <td>D:\\Volvo\\BatteryLid Images Sealing\\Unexpanded\\...</td>\n",
       "      <td>0</td>\n",
       "    </tr>\n",
       "    <tr>\n",
       "      <th>2</th>\n",
       "      <td>D:\\Volvo\\BatteryLid Images Sealing\\Unexpanded\\...</td>\n",
       "      <td>0</td>\n",
       "    </tr>\n",
       "    <tr>\n",
       "      <th>3</th>\n",
       "      <td>D:\\Volvo\\BatteryLid Images Sealing\\Unexpanded\\...</td>\n",
       "      <td>0</td>\n",
       "    </tr>\n",
       "    <tr>\n",
       "      <th>4</th>\n",
       "      <td>D:\\Volvo\\BatteryLid Images Sealing\\Unexpanded\\...</td>\n",
       "      <td>0</td>\n",
       "    </tr>\n",
       "  </tbody>\n",
       "</table>\n",
       "</div>"
      ],
      "text/plain": [
       "                                           File_Name Expanded\n",
       "0  D:\\Volvo\\BatteryLid Images Sealing\\Unexpanded\\...        0\n",
       "1  D:\\Volvo\\BatteryLid Images Sealing\\Unexpanded\\...        0\n",
       "2  D:\\Volvo\\BatteryLid Images Sealing\\Unexpanded\\...        0\n",
       "3  D:\\Volvo\\BatteryLid Images Sealing\\Unexpanded\\...        0\n",
       "4  D:\\Volvo\\BatteryLid Images Sealing\\Unexpanded\\...        0"
      ]
     },
     "execution_count": 4,
     "metadata": {},
     "output_type": "execute_result"
    }
   ],
   "source": [
    "df_batteryLidImages_original = df_batteryLidImages\n",
    "df_batteryLidImages_original['File_Name'] = \"D:\\\\Volvo\\\\BatteryLid Images Sealing\\\\\" + df_batteryLidImages_original['ExpandedStr'] + \"\\\\\" + df_batteryLidImages_original['File_Name'] + \".jpg\"\n",
    "df_batteryLidImages_original = df_batteryLidImages[['File_Name', 'Expanded']]\n",
    "df_batteryLidImages_original.head()"
   ]
  },
  {
   "cell_type": "code",
   "execution_count": 5,
   "id": "ac2b7bf7",
   "metadata": {},
   "outputs": [
    {
     "data": {
      "text/plain": [
       "'\"\"\\n# Dependent variable (Target variable) \\'Expanded\\' is assigned to y\\ny = df_batteryLidImages[\\'Expanded\\']\\n\\n# Independent variable File_Name is assigned to X\\nX = \"D:\\\\Volvo\\\\BatteryLid Images Sealing\\\\\" + df_batteryLidImages[\\'File_Name\\']\\n'"
      ]
     },
     "execution_count": 5,
     "metadata": {},
     "output_type": "execute_result"
    }
   ],
   "source": [
    "\"\"\"\"\"\n",
    "# Dependent variable (Target variable) 'Expanded' is assigned to y\n",
    "y = df_batteryLidImages['Expanded']\n",
    "\n",
    "# Independent variable File_Name is assigned to X\n",
    "X = \"D:\\\\Volvo\\\\BatteryLid Images Sealing\\\\\" + df_batteryLidImages['File_Name']\n",
    "\"\"\"\"\""
   ]
  },
  {
   "cell_type": "code",
   "execution_count": 6,
   "id": "41f9dbaa",
   "metadata": {},
   "outputs": [],
   "source": [
    "#X.head()"
   ]
  },
  {
   "cell_type": "code",
   "execution_count": 7,
   "id": "33fb02cf",
   "metadata": {},
   "outputs": [],
   "source": [
    "#y.head()"
   ]
  },
  {
   "cell_type": "code",
   "execution_count": 8,
   "id": "2cc9c948",
   "metadata": {},
   "outputs": [
    {
     "data": {
      "text/plain": [
       "'\"\"\\n# Creating the common function for splitting the dataset into test, training and validation samples\\ndef CreateSplitTestAndTrainData(X, y):\\n    \\n    # Creating test, validation and training samples from the dataset with 15% test, 15% validation and 70% train samples\\n    # Holding out 15% of all data to be used for testing purposes.\\n    X1, X_test, y1, y_test = train_test_split(X, y, test_size = 0.15, random_state = 15)\\n    \\n    #Split again into training and validation samples\\n    X_train, X_valid, y_train, y_valid = train_test_split(X1, y1, test_size = 0.17647, random_state = 15)\\n    \\n    return X_train, X_test, X_valid, y_train, y_test, y_valid\\n'"
      ]
     },
     "execution_count": 8,
     "metadata": {},
     "output_type": "execute_result"
    }
   ],
   "source": [
    "\"\"\"\"\"\n",
    "# Creating the common function for splitting the dataset into test, training and validation samples\n",
    "def CreateSplitTestAndTrainData(X, y):\n",
    "    \n",
    "    # Creating test, validation and training samples from the dataset with 15% test, 15% validation and 70% train samples\n",
    "    # Holding out 15% of all data to be used for testing purposes.\n",
    "    X1, X_test, y1, y_test = train_test_split(X, y, test_size = 0.15, random_state = 15)\n",
    "    \n",
    "    #Split again into training and validation samples\n",
    "    X_train, X_valid, y_train, y_valid = train_test_split(X1, y1, test_size = 0.17647, random_state = 15)\n",
    "    \n",
    "    return X_train, X_test, X_valid, y_train, y_test, y_valid\n",
    "\"\"\"\"\""
   ]
  },
  {
   "cell_type": "code",
   "execution_count": 9,
   "id": "0b35f668",
   "metadata": {},
   "outputs": [],
   "source": [
    "# Creating test, training and validation samples from the dataset by calling the function created\n",
    "# X_train, X_test, X_valid, y_train, y_test, y_valid = CreateSplitTestAndTrainData(X, y)"
   ]
  },
  {
   "cell_type": "code",
   "execution_count": 10,
   "id": "73507196",
   "metadata": {},
   "outputs": [
    {
     "data": {
      "text/plain": [
       "'\"\"\\nprint(\"The size of training dataset is: \", X_train.shape)\\nprint(\"The size of validation dataset is: \", X_valid.shape)\\nprint(\"The size of testing dataset is: \", X_test.shape)\\nprint(\"The size of training dataset y is: \", y_train.shape)\\nprint(\"The size of validation dataset y is: \", y_valid.shape)\\nprint(\"The size of testing dataset y is: \", y_test.shape)\\n'"
      ]
     },
     "execution_count": 10,
     "metadata": {},
     "output_type": "execute_result"
    }
   ],
   "source": [
    "\"\"\"\"\"\n",
    "print(\"The size of training dataset is: \", X_train.shape)\n",
    "print(\"The size of validation dataset is: \", X_valid.shape)\n",
    "print(\"The size of testing dataset is: \", X_test.shape)\n",
    "print(\"The size of training dataset y is: \", y_train.shape)\n",
    "print(\"The size of validation dataset y is: \", y_valid.shape)\n",
    "print(\"The size of testing dataset y is: \", y_test.shape)\n",
    "\"\"\"\"\""
   ]
  },
  {
   "cell_type": "code",
   "execution_count": 11,
   "id": "8e9cf7b3",
   "metadata": {},
   "outputs": [],
   "source": [
    "# Creating the common function for splitting the dataset into test, training and validation samples\n",
    "def CreateSplitTestAndTrainData(data):\n",
    "    \n",
    "    # Creating test, validation and training samples from the dataset with 15% test, 15% validation and 70% train samples\n",
    "    # Holding out 15% of all data to be used for testing purposes.\n",
    "    data1, test_data = train_test_split(data, test_size = 0.15, random_state = 15)\n",
    "    \n",
    "    #Split again into training and validation samples\n",
    "    train_data, valid_data = train_test_split(data1, test_size = 0.17647, random_state = 15)\n",
    "    \n",
    "    return train_data, valid_data, test_data"
   ]
  },
  {
   "cell_type": "code",
   "execution_count": 12,
   "id": "bcef8681",
   "metadata": {},
   "outputs": [],
   "source": [
    "# Creating test, training and validation samples from the dataset by calling the function created\n",
    "train_data_original, valid_data_original, test_data_original = CreateSplitTestAndTrainData(df_batteryLidImages_original)"
   ]
  },
  {
   "cell_type": "code",
   "execution_count": 13,
   "id": "44560632",
   "metadata": {},
   "outputs": [
    {
     "name": "stdout",
     "output_type": "stream",
     "text": [
      "The size of training dataset is:  (13673, 2)\n",
      "The size of validation dataset is:  (2931, 2)\n",
      "The size of testing dataset is:  (2931, 2)\n"
     ]
    }
   ],
   "source": [
    "print(\"The size of training dataset is: \", train_data_original.shape)\n",
    "print(\"The size of validation dataset is: \", valid_data_original.shape)\n",
    "print(\"The size of testing dataset is: \", test_data_original.shape)"
   ]
  },
  {
   "cell_type": "code",
   "execution_count": 14,
   "id": "17a0aa13",
   "metadata": {},
   "outputs": [],
   "source": [
    "# Create an ImageDataGenerator for data augmentation and preprocessing\n",
    "datagen = ImageDataGenerator(rescale=1./255)"
   ]
  },
  {
   "cell_type": "code",
   "execution_count": 15,
   "id": "41254d69",
   "metadata": {},
   "outputs": [],
   "source": [
    "# Define constants\n",
    "batch_size = 32\n",
    "epochs = 100\n",
    "image_size = (150, 150)\n",
    "num_classes = 2\n",
    "#class_indices = {'Unexpanded': 0, 'Expanded': 1}"
   ]
  },
  {
   "cell_type": "code",
   "execution_count": 16,
   "id": "32b7a4cd",
   "metadata": {},
   "outputs": [
    {
     "name": "stdout",
     "output_type": "stream",
     "text": [
      "Found 13673 validated image filenames belonging to 2 classes.\n"
     ]
    }
   ],
   "source": [
    "train_generator_original = datagen.flow_from_dataframe(\n",
    "    dataframe            = train_data_original,\n",
    "    x_col                = 'File_Name', # column name containing file paths\n",
    "    y_col                = 'Expanded', # column name containing labels\n",
    "    target_size          = image_size,\n",
    "    batch_size           = batch_size,\n",
    "    class_mode           = 'binary', # or 'categorical' depending on your task\n",
    "    shuffle              = False\n",
    "    #class_indices        = class_indices\n",
    ")"
   ]
  },
  {
   "cell_type": "code",
   "execution_count": 17,
   "id": "5c739211",
   "metadata": {},
   "outputs": [
    {
     "name": "stdout",
     "output_type": "stream",
     "text": [
      "Found 2931 validated image filenames belonging to 2 classes.\n"
     ]
    }
   ],
   "source": [
    "valid_generator_original = datagen.flow_from_dataframe(\n",
    "    dataframe            = valid_data_original,\n",
    "    x_col                = 'File_Name', # column name containing file paths\n",
    "    y_col                = 'Expanded', # column name containing labels\n",
    "    target_size          = image_size,\n",
    "    batch_size           = batch_size,\n",
    "    class_mode           = 'binary', # or 'categorical' depending on your task\n",
    "    shuffle              = False\n",
    "   # class_indices        = class_indices\n",
    ")"
   ]
  },
  {
   "cell_type": "code",
   "execution_count": 18,
   "id": "6c38d4a3",
   "metadata": {},
   "outputs": [
    {
     "name": "stdout",
     "output_type": "stream",
     "text": [
      "Found 2931 validated image filenames belonging to 2 classes.\n"
     ]
    }
   ],
   "source": [
    "test_generator_original = datagen.flow_from_dataframe(\n",
    "    dataframe            = test_data_original,\n",
    "    x_col                = 'File_Name', # column name containing file paths\n",
    "    y_col                = 'Expanded', # column name containing labels\n",
    "    target_size          = image_size,\n",
    "    batch_size           = batch_size,\n",
    "    class_mode           = 'binary', # or 'categorical' depending on your task\n",
    "    shuffle              = False\n",
    "    #class_indices        = class_indices\n",
    ")"
   ]
  },
  {
   "cell_type": "markdown",
   "id": "9ba7ee4c",
   "metadata": {},
   "source": [
    "# Preprocess Image After Adaptive Gaussian Thresholding"
   ]
  },
  {
   "cell_type": "code",
   "execution_count": 19,
   "id": "f27cbe2f",
   "metadata": {},
   "outputs": [
    {
     "data": {
      "text/html": [
       "<div>\n",
       "<style scoped>\n",
       "    .dataframe tbody tr th:only-of-type {\n",
       "        vertical-align: middle;\n",
       "    }\n",
       "\n",
       "    .dataframe tbody tr th {\n",
       "        vertical-align: top;\n",
       "    }\n",
       "\n",
       "    .dataframe thead th {\n",
       "        text-align: right;\n",
       "    }\n",
       "</style>\n",
       "<table border=\"1\" class=\"dataframe\">\n",
       "  <thead>\n",
       "    <tr style=\"text-align: right;\">\n",
       "      <th></th>\n",
       "      <th>File_Name</th>\n",
       "      <th>Expanded</th>\n",
       "    </tr>\n",
       "  </thead>\n",
       "  <tbody>\n",
       "    <tr>\n",
       "      <th>0</th>\n",
       "      <td>D:\\Volvo\\BatteryLid Images Threshold Gaussian\\...</td>\n",
       "      <td>0</td>\n",
       "    </tr>\n",
       "    <tr>\n",
       "      <th>1</th>\n",
       "      <td>D:\\Volvo\\BatteryLid Images Threshold Gaussian\\...</td>\n",
       "      <td>0</td>\n",
       "    </tr>\n",
       "    <tr>\n",
       "      <th>2</th>\n",
       "      <td>D:\\Volvo\\BatteryLid Images Threshold Gaussian\\...</td>\n",
       "      <td>0</td>\n",
       "    </tr>\n",
       "    <tr>\n",
       "      <th>3</th>\n",
       "      <td>D:\\Volvo\\BatteryLid Images Threshold Gaussian\\...</td>\n",
       "      <td>0</td>\n",
       "    </tr>\n",
       "    <tr>\n",
       "      <th>4</th>\n",
       "      <td>D:\\Volvo\\BatteryLid Images Threshold Gaussian\\...</td>\n",
       "      <td>0</td>\n",
       "    </tr>\n",
       "  </tbody>\n",
       "</table>\n",
       "</div>"
      ],
      "text/plain": [
       "                                           File_Name Expanded\n",
       "0  D:\\Volvo\\BatteryLid Images Threshold Gaussian\\...        0\n",
       "1  D:\\Volvo\\BatteryLid Images Threshold Gaussian\\...        0\n",
       "2  D:\\Volvo\\BatteryLid Images Threshold Gaussian\\...        0\n",
       "3  D:\\Volvo\\BatteryLid Images Threshold Gaussian\\...        0\n",
       "4  D:\\Volvo\\BatteryLid Images Threshold Gaussian\\...        0"
      ]
     },
     "execution_count": 19,
     "metadata": {},
     "output_type": "execute_result"
    }
   ],
   "source": [
    "df_batteryLidImages_thresh_gauss = df_batteryLidImages\n",
    "df_batteryLidImages_thresh_gauss['File_Name'] = df_batteryLidImages_thresh_gauss['File_Name'].str.replace('BatteryLid Images Sealing', 'BatteryLid Images Threshold Gaussian')\n",
    "df_batteryLidImages_thresh_gauss = df_batteryLidImages[['File_Name', 'Expanded']]\n",
    "df_batteryLidImages_thresh_gauss.head()"
   ]
  },
  {
   "cell_type": "code",
   "execution_count": 20,
   "id": "433c14b5",
   "metadata": {},
   "outputs": [],
   "source": [
    "# Creating test, training and validation samples from the dataset by calling the function created\n",
    "train_data_thresh_gauss, valid_data_thresh_gauss, test_data_thresh_gauss = CreateSplitTestAndTrainData(df_batteryLidImages_thresh_gauss)"
   ]
  },
  {
   "cell_type": "code",
   "execution_count": 21,
   "id": "ca006476",
   "metadata": {},
   "outputs": [
    {
     "name": "stdout",
     "output_type": "stream",
     "text": [
      "The size of training dataset is:  (13673, 2)\n",
      "The size of validation dataset is:  (2931, 2)\n",
      "The size of testing dataset is:  (2931, 2)\n"
     ]
    }
   ],
   "source": [
    "print(\"The size of training dataset is: \", train_data_thresh_gauss.shape)\n",
    "print(\"The size of validation dataset is: \", valid_data_thresh_gauss.shape)\n",
    "print(\"The size of testing dataset is: \", test_data_thresh_gauss.shape)"
   ]
  },
  {
   "cell_type": "code",
   "execution_count": 22,
   "id": "44098b07",
   "metadata": {},
   "outputs": [],
   "source": [
    "# Create an ImageDataGenerator for data augmentation and preprocessing\n",
    "datagen = ImageDataGenerator(rescale=1./255)"
   ]
  },
  {
   "cell_type": "code",
   "execution_count": 23,
   "id": "7d6c43b5",
   "metadata": {},
   "outputs": [
    {
     "name": "stdout",
     "output_type": "stream",
     "text": [
      "Found 13673 validated image filenames belonging to 2 classes.\n"
     ]
    }
   ],
   "source": [
    "train_generator_thresh_gauss = datagen.flow_from_dataframe(\n",
    "    dataframe            = train_data_thresh_gauss,\n",
    "    x_col                = 'File_Name', # column name containing file paths\n",
    "    y_col                = 'Expanded', # column name containing labels\n",
    "    target_size          = image_size,\n",
    "    batch_size           = batch_size,\n",
    "    class_mode           = 'binary', # or 'categorical' depending on your task\n",
    "    shuffle              = False\n",
    "    #class_indices        = class_indices\n",
    ")"
   ]
  },
  {
   "cell_type": "code",
   "execution_count": 24,
   "id": "8bd7683a",
   "metadata": {},
   "outputs": [
    {
     "name": "stdout",
     "output_type": "stream",
     "text": [
      "Found 2931 validated image filenames belonging to 2 classes.\n"
     ]
    }
   ],
   "source": [
    "valid_generator_thresh_gauss = datagen.flow_from_dataframe(\n",
    "    dataframe            = valid_data_thresh_gauss,\n",
    "    x_col                = 'File_Name', # column name containing file paths\n",
    "    y_col                = 'Expanded', # column name containing labels\n",
    "    target_size          = image_size,\n",
    "    batch_size           = batch_size,\n",
    "    class_mode           = 'binary', # or 'categorical' depending on your task\n",
    "    shuffle              = False\n",
    "   # class_indices        = class_indices\n",
    ")"
   ]
  },
  {
   "cell_type": "code",
   "execution_count": 25,
   "id": "756b4bee",
   "metadata": {},
   "outputs": [
    {
     "name": "stdout",
     "output_type": "stream",
     "text": [
      "Found 2931 validated image filenames belonging to 2 classes.\n"
     ]
    }
   ],
   "source": [
    "test_generator_thresh_gauss = datagen.flow_from_dataframe(\n",
    "    dataframe            = test_data_thresh_gauss,\n",
    "    x_col                = 'File_Name', # column name containing file paths\n",
    "    y_col                = 'Expanded', # column name containing labels\n",
    "    target_size          = image_size,\n",
    "    batch_size           = batch_size,\n",
    "    class_mode           = 'binary', # or 'categorical' depending on your task\n",
    "    shuffle              = False\n",
    "    #class_indices        = class_indices\n",
    ")"
   ]
  },
  {
   "cell_type": "markdown",
   "id": "7ba32e84",
   "metadata": {},
   "source": [
    "# Preprocess Image After Adaptive Mean Thresholding"
   ]
  },
  {
   "cell_type": "code",
   "execution_count": 26,
   "id": "9e1ee6c3",
   "metadata": {},
   "outputs": [
    {
     "data": {
      "text/html": [
       "<div>\n",
       "<style scoped>\n",
       "    .dataframe tbody tr th:only-of-type {\n",
       "        vertical-align: middle;\n",
       "    }\n",
       "\n",
       "    .dataframe tbody tr th {\n",
       "        vertical-align: top;\n",
       "    }\n",
       "\n",
       "    .dataframe thead th {\n",
       "        text-align: right;\n",
       "    }\n",
       "</style>\n",
       "<table border=\"1\" class=\"dataframe\">\n",
       "  <thead>\n",
       "    <tr style=\"text-align: right;\">\n",
       "      <th></th>\n",
       "      <th>File_Name</th>\n",
       "      <th>Expanded</th>\n",
       "    </tr>\n",
       "  </thead>\n",
       "  <tbody>\n",
       "    <tr>\n",
       "      <th>0</th>\n",
       "      <td>D:\\Volvo\\BatteryLid Images Threshold Mean\\Unex...</td>\n",
       "      <td>0</td>\n",
       "    </tr>\n",
       "    <tr>\n",
       "      <th>1</th>\n",
       "      <td>D:\\Volvo\\BatteryLid Images Threshold Mean\\Unex...</td>\n",
       "      <td>0</td>\n",
       "    </tr>\n",
       "    <tr>\n",
       "      <th>2</th>\n",
       "      <td>D:\\Volvo\\BatteryLid Images Threshold Mean\\Unex...</td>\n",
       "      <td>0</td>\n",
       "    </tr>\n",
       "    <tr>\n",
       "      <th>3</th>\n",
       "      <td>D:\\Volvo\\BatteryLid Images Threshold Mean\\Unex...</td>\n",
       "      <td>0</td>\n",
       "    </tr>\n",
       "    <tr>\n",
       "      <th>4</th>\n",
       "      <td>D:\\Volvo\\BatteryLid Images Threshold Mean\\Unex...</td>\n",
       "      <td>0</td>\n",
       "    </tr>\n",
       "  </tbody>\n",
       "</table>\n",
       "</div>"
      ],
      "text/plain": [
       "                                           File_Name Expanded\n",
       "0  D:\\Volvo\\BatteryLid Images Threshold Mean\\Unex...        0\n",
       "1  D:\\Volvo\\BatteryLid Images Threshold Mean\\Unex...        0\n",
       "2  D:\\Volvo\\BatteryLid Images Threshold Mean\\Unex...        0\n",
       "3  D:\\Volvo\\BatteryLid Images Threshold Mean\\Unex...        0\n",
       "4  D:\\Volvo\\BatteryLid Images Threshold Mean\\Unex...        0"
      ]
     },
     "execution_count": 26,
     "metadata": {},
     "output_type": "execute_result"
    }
   ],
   "source": [
    "df_batteryLidImages_thresh_mean = df_batteryLidImages\n",
    "df_batteryLidImages_thresh_mean['File_Name'] = df_batteryLidImages_thresh_mean['File_Name'].str.replace('BatteryLid Images Threshold Gaussian', 'BatteryLid Images Threshold Mean')\n",
    "df_batteryLidImages_thresh_mean = df_batteryLidImages[['File_Name', 'Expanded']]\n",
    "df_batteryLidImages_thresh_mean.head()"
   ]
  },
  {
   "cell_type": "code",
   "execution_count": 27,
   "id": "fd3ac308",
   "metadata": {},
   "outputs": [],
   "source": [
    "# Creating test, training and validation samples from the dataset by calling the function created\n",
    "train_data_thresh_mean, valid_data_thresh_mean, test_data_thresh_mean = CreateSplitTestAndTrainData(df_batteryLidImages_thresh_mean)"
   ]
  },
  {
   "cell_type": "code",
   "execution_count": 28,
   "id": "6c341620",
   "metadata": {},
   "outputs": [
    {
     "name": "stdout",
     "output_type": "stream",
     "text": [
      "The size of training dataset is:  (13673, 2)\n",
      "The size of validation dataset is:  (2931, 2)\n",
      "The size of testing dataset is:  (2931, 2)\n"
     ]
    }
   ],
   "source": [
    "print(\"The size of training dataset is: \", train_data_thresh_mean.shape)\n",
    "print(\"The size of validation dataset is: \", valid_data_thresh_mean.shape)\n",
    "print(\"The size of testing dataset is: \", test_data_thresh_mean.shape)"
   ]
  },
  {
   "cell_type": "code",
   "execution_count": 29,
   "id": "195a3fcd",
   "metadata": {},
   "outputs": [],
   "source": [
    "# Create an ImageDataGenerator for data augmentation and preprocessing\n",
    "datagen = ImageDataGenerator(rescale=1./255)"
   ]
  },
  {
   "cell_type": "code",
   "execution_count": 30,
   "id": "9f47558e",
   "metadata": {},
   "outputs": [
    {
     "name": "stdout",
     "output_type": "stream",
     "text": [
      "Found 13673 validated image filenames belonging to 2 classes.\n"
     ]
    }
   ],
   "source": [
    "train_generator_thresh_mean = datagen.flow_from_dataframe(\n",
    "    dataframe            = train_data_thresh_mean,\n",
    "    x_col                = 'File_Name', # column name containing file paths\n",
    "    y_col                = 'Expanded', # column name containing labels\n",
    "    target_size          = image_size,\n",
    "    batch_size           = batch_size,\n",
    "    class_mode           = 'binary', # or 'categorical' depending on your task\n",
    "    shuffle              = False\n",
    "    #class_indices        = class_indices\n",
    ")"
   ]
  },
  {
   "cell_type": "code",
   "execution_count": 31,
   "id": "15529a41",
   "metadata": {},
   "outputs": [
    {
     "name": "stdout",
     "output_type": "stream",
     "text": [
      "Found 2931 validated image filenames belonging to 2 classes.\n"
     ]
    }
   ],
   "source": [
    "valid_generator_thresh_mean = datagen.flow_from_dataframe(\n",
    "    dataframe            = valid_data_thresh_mean,\n",
    "    x_col                = 'File_Name', # column name containing file paths\n",
    "    y_col                = 'Expanded', # column name containing labels\n",
    "    target_size          = image_size,\n",
    "    batch_size           = batch_size,\n",
    "    class_mode           = 'binary', # or 'categorical' depending on your task\n",
    "    shuffle              = False\n",
    "   # class_indices        = class_indices\n",
    ")"
   ]
  },
  {
   "cell_type": "code",
   "execution_count": 32,
   "id": "2bbcc2f2",
   "metadata": {},
   "outputs": [
    {
     "name": "stdout",
     "output_type": "stream",
     "text": [
      "Found 2931 validated image filenames belonging to 2 classes.\n"
     ]
    }
   ],
   "source": [
    "test_generator_thresh_mean = datagen.flow_from_dataframe(\n",
    "    dataframe            = test_data_thresh_mean,\n",
    "    x_col                = 'File_Name', # column name containing file paths\n",
    "    y_col                = 'Expanded', # column name containing labels\n",
    "    target_size          = image_size,\n",
    "    batch_size           = batch_size,\n",
    "    class_mode           = 'binary', # or 'categorical' depending on your task\n",
    "    shuffle              = False\n",
    "    #class_indices        = class_indices\n",
    ")"
   ]
  },
  {
   "cell_type": "markdown",
   "id": "3ec337b5",
   "metadata": {},
   "source": [
    "# Preprocess Image After Gabor Filter"
   ]
  },
  {
   "cell_type": "code",
   "execution_count": 33,
   "id": "c13d907c",
   "metadata": {},
   "outputs": [
    {
     "data": {
      "text/html": [
       "<div>\n",
       "<style scoped>\n",
       "    .dataframe tbody tr th:only-of-type {\n",
       "        vertical-align: middle;\n",
       "    }\n",
       "\n",
       "    .dataframe tbody tr th {\n",
       "        vertical-align: top;\n",
       "    }\n",
       "\n",
       "    .dataframe thead th {\n",
       "        text-align: right;\n",
       "    }\n",
       "</style>\n",
       "<table border=\"1\" class=\"dataframe\">\n",
       "  <thead>\n",
       "    <tr style=\"text-align: right;\">\n",
       "      <th></th>\n",
       "      <th>File_Name</th>\n",
       "      <th>Expanded</th>\n",
       "    </tr>\n",
       "  </thead>\n",
       "  <tbody>\n",
       "    <tr>\n",
       "      <th>0</th>\n",
       "      <td>D:\\Volvo\\BatteryLid Images Gabor\\Unexpanded\\WI...</td>\n",
       "      <td>0</td>\n",
       "    </tr>\n",
       "    <tr>\n",
       "      <th>1</th>\n",
       "      <td>D:\\Volvo\\BatteryLid Images Gabor\\Unexpanded\\WI...</td>\n",
       "      <td>0</td>\n",
       "    </tr>\n",
       "    <tr>\n",
       "      <th>2</th>\n",
       "      <td>D:\\Volvo\\BatteryLid Images Gabor\\Unexpanded\\WI...</td>\n",
       "      <td>0</td>\n",
       "    </tr>\n",
       "    <tr>\n",
       "      <th>3</th>\n",
       "      <td>D:\\Volvo\\BatteryLid Images Gabor\\Unexpanded\\WI...</td>\n",
       "      <td>0</td>\n",
       "    </tr>\n",
       "    <tr>\n",
       "      <th>4</th>\n",
       "      <td>D:\\Volvo\\BatteryLid Images Gabor\\Unexpanded\\WI...</td>\n",
       "      <td>0</td>\n",
       "    </tr>\n",
       "  </tbody>\n",
       "</table>\n",
       "</div>"
      ],
      "text/plain": [
       "                                           File_Name Expanded\n",
       "0  D:\\Volvo\\BatteryLid Images Gabor\\Unexpanded\\WI...        0\n",
       "1  D:\\Volvo\\BatteryLid Images Gabor\\Unexpanded\\WI...        0\n",
       "2  D:\\Volvo\\BatteryLid Images Gabor\\Unexpanded\\WI...        0\n",
       "3  D:\\Volvo\\BatteryLid Images Gabor\\Unexpanded\\WI...        0\n",
       "4  D:\\Volvo\\BatteryLid Images Gabor\\Unexpanded\\WI...        0"
      ]
     },
     "execution_count": 33,
     "metadata": {},
     "output_type": "execute_result"
    }
   ],
   "source": [
    "df_batteryLidImages_gabor = df_batteryLidImages\n",
    "df_batteryLidImages_gabor['File_Name'] = df_batteryLidImages_gabor['File_Name'].str.replace('BatteryLid Images Threshold Mean', 'BatteryLid Images Gabor')\n",
    "df_batteryLidImages_gabor = df_batteryLidImages[['File_Name', 'Expanded']]\n",
    "df_batteryLidImages_gabor.head()"
   ]
  },
  {
   "cell_type": "code",
   "execution_count": 34,
   "id": "98859686",
   "metadata": {},
   "outputs": [],
   "source": [
    "# Creating test, training and validation samples from the dataset by calling the function created\n",
    "train_data_gabor, valid_data_gabor, test_data_gabor = CreateSplitTestAndTrainData(df_batteryLidImages_gabor)"
   ]
  },
  {
   "cell_type": "code",
   "execution_count": 35,
   "id": "9a2019b0",
   "metadata": {},
   "outputs": [
    {
     "name": "stdout",
     "output_type": "stream",
     "text": [
      "The size of training dataset is:  (13673, 2)\n",
      "The size of validation dataset is:  (2931, 2)\n",
      "The size of testing dataset is:  (2931, 2)\n"
     ]
    }
   ],
   "source": [
    "print(\"The size of training dataset is: \", train_data_gabor.shape)\n",
    "print(\"The size of validation dataset is: \", valid_data_gabor.shape)\n",
    "print(\"The size of testing dataset is: \", test_data_gabor.shape)"
   ]
  },
  {
   "cell_type": "code",
   "execution_count": 36,
   "id": "a001c893",
   "metadata": {},
   "outputs": [],
   "source": [
    "# Create an ImageDataGenerator for data augmentation and preprocessing\n",
    "datagen = ImageDataGenerator(rescale=1./255)"
   ]
  },
  {
   "cell_type": "code",
   "execution_count": 37,
   "id": "af684d54",
   "metadata": {},
   "outputs": [
    {
     "name": "stdout",
     "output_type": "stream",
     "text": [
      "Found 13673 validated image filenames belonging to 2 classes.\n"
     ]
    }
   ],
   "source": [
    "train_generator_gabor = datagen.flow_from_dataframe(\n",
    "    dataframe            = train_data_gabor,\n",
    "    x_col                = 'File_Name', # column name containing file paths\n",
    "    y_col                = 'Expanded', # column name containing labels\n",
    "    target_size          = image_size,\n",
    "    batch_size           = batch_size,\n",
    "    class_mode           = 'binary', # or 'categorical' depending on your task\n",
    "    shuffle              = False\n",
    "    #class_indices        = class_indices\n",
    ")"
   ]
  },
  {
   "cell_type": "code",
   "execution_count": 38,
   "id": "b7de5bc3",
   "metadata": {},
   "outputs": [
    {
     "name": "stdout",
     "output_type": "stream",
     "text": [
      "Found 2931 validated image filenames belonging to 2 classes.\n"
     ]
    }
   ],
   "source": [
    "valid_generator_gabor = datagen.flow_from_dataframe(\n",
    "    dataframe            = valid_data_gabor,\n",
    "    x_col                = 'File_Name', # column name containing file paths\n",
    "    y_col                = 'Expanded', # column name containing labels\n",
    "    target_size          = image_size,\n",
    "    batch_size           = batch_size,\n",
    "    class_mode           = 'binary', # or 'categorical' depending on your task\n",
    "    shuffle              = False\n",
    "   # class_indices        = class_indices\n",
    ")"
   ]
  },
  {
   "cell_type": "code",
   "execution_count": 39,
   "id": "fd737a97",
   "metadata": {},
   "outputs": [
    {
     "name": "stdout",
     "output_type": "stream",
     "text": [
      "Found 2931 validated image filenames belonging to 2 classes.\n"
     ]
    }
   ],
   "source": [
    "test_generator_gabor = datagen.flow_from_dataframe(\n",
    "    dataframe            = test_data_gabor,\n",
    "    x_col                = 'File_Name', # column name containing file paths\n",
    "    y_col                = 'Expanded', # column name containing labels\n",
    "    target_size          = image_size,\n",
    "    batch_size           = batch_size,\n",
    "    class_mode           = 'binary', # or 'categorical' depending on your task\n",
    "    shuffle              = False\n",
    "    #class_indices        = class_indices\n",
    ")"
   ]
  },
  {
   "cell_type": "markdown",
   "id": "bd7da1cc",
   "metadata": {},
   "source": [
    "# Preprocess Image After Gabor Filter And Adaptive Gaussian Threshold"
   ]
  },
  {
   "cell_type": "code",
   "execution_count": 40,
   "id": "ae740e76",
   "metadata": {},
   "outputs": [
    {
     "data": {
      "text/html": [
       "<div>\n",
       "<style scoped>\n",
       "    .dataframe tbody tr th:only-of-type {\n",
       "        vertical-align: middle;\n",
       "    }\n",
       "\n",
       "    .dataframe tbody tr th {\n",
       "        vertical-align: top;\n",
       "    }\n",
       "\n",
       "    .dataframe thead th {\n",
       "        text-align: right;\n",
       "    }\n",
       "</style>\n",
       "<table border=\"1\" class=\"dataframe\">\n",
       "  <thead>\n",
       "    <tr style=\"text-align: right;\">\n",
       "      <th></th>\n",
       "      <th>File_Name</th>\n",
       "      <th>Expanded</th>\n",
       "    </tr>\n",
       "  </thead>\n",
       "  <tbody>\n",
       "    <tr>\n",
       "      <th>0</th>\n",
       "      <td>D:\\Volvo\\BatteryLid Images Gabor Threshold Gau...</td>\n",
       "      <td>0</td>\n",
       "    </tr>\n",
       "    <tr>\n",
       "      <th>1</th>\n",
       "      <td>D:\\Volvo\\BatteryLid Images Gabor Threshold Gau...</td>\n",
       "      <td>0</td>\n",
       "    </tr>\n",
       "    <tr>\n",
       "      <th>2</th>\n",
       "      <td>D:\\Volvo\\BatteryLid Images Gabor Threshold Gau...</td>\n",
       "      <td>0</td>\n",
       "    </tr>\n",
       "    <tr>\n",
       "      <th>3</th>\n",
       "      <td>D:\\Volvo\\BatteryLid Images Gabor Threshold Gau...</td>\n",
       "      <td>0</td>\n",
       "    </tr>\n",
       "    <tr>\n",
       "      <th>4</th>\n",
       "      <td>D:\\Volvo\\BatteryLid Images Gabor Threshold Gau...</td>\n",
       "      <td>0</td>\n",
       "    </tr>\n",
       "  </tbody>\n",
       "</table>\n",
       "</div>"
      ],
      "text/plain": [
       "                                           File_Name Expanded\n",
       "0  D:\\Volvo\\BatteryLid Images Gabor Threshold Gau...        0\n",
       "1  D:\\Volvo\\BatteryLid Images Gabor Threshold Gau...        0\n",
       "2  D:\\Volvo\\BatteryLid Images Gabor Threshold Gau...        0\n",
       "3  D:\\Volvo\\BatteryLid Images Gabor Threshold Gau...        0\n",
       "4  D:\\Volvo\\BatteryLid Images Gabor Threshold Gau...        0"
      ]
     },
     "execution_count": 40,
     "metadata": {},
     "output_type": "execute_result"
    }
   ],
   "source": [
    "df_batteryLidImages_gabor_thresh_gauss = df_batteryLidImages\n",
    "df_batteryLidImages_gabor_thresh_gauss['File_Name'] = df_batteryLidImages_gabor_thresh_gauss['File_Name'].str.replace('BatteryLid Images Gabor', 'BatteryLid Images Gabor Threshold Gaussian')\n",
    "df_batteryLidImages_gabor_thresh_gauss = df_batteryLidImages[['File_Name', 'Expanded']]\n",
    "df_batteryLidImages_gabor_thresh_gauss.head()"
   ]
  },
  {
   "cell_type": "code",
   "execution_count": 41,
   "id": "2ec10964",
   "metadata": {},
   "outputs": [],
   "source": [
    "# Creating test, training and validation samples from the dataset by calling the function created\n",
    "train_data_gabor_thresh_gauss, valid_data_gabor_thresh_gauss, test_data_gabor_thresh_gauss = CreateSplitTestAndTrainData(df_batteryLidImages_gabor_thresh_gauss)"
   ]
  },
  {
   "cell_type": "code",
   "execution_count": 42,
   "id": "fd91c675",
   "metadata": {},
   "outputs": [
    {
     "name": "stdout",
     "output_type": "stream",
     "text": [
      "The size of training dataset is:  (13673, 2)\n",
      "The size of validation dataset is:  (2931, 2)\n",
      "The size of testing dataset is:  (2931, 2)\n"
     ]
    }
   ],
   "source": [
    "print(\"The size of training dataset is: \", train_data_gabor_thresh_gauss.shape)\n",
    "print(\"The size of validation dataset is: \", valid_data_gabor_thresh_gauss.shape)\n",
    "print(\"The size of testing dataset is: \", test_data_gabor_thresh_gauss.shape)"
   ]
  },
  {
   "cell_type": "code",
   "execution_count": 43,
   "id": "6bdea5c3",
   "metadata": {},
   "outputs": [],
   "source": [
    "# Create an ImageDataGenerator for data augmentation and preprocessing\n",
    "datagen = ImageDataGenerator(rescale=1./255)"
   ]
  },
  {
   "cell_type": "code",
   "execution_count": 44,
   "id": "78bf4366",
   "metadata": {},
   "outputs": [
    {
     "name": "stdout",
     "output_type": "stream",
     "text": [
      "Found 13673 validated image filenames belonging to 2 classes.\n"
     ]
    }
   ],
   "source": [
    "train_generator_gabor_thresh_gauss = datagen.flow_from_dataframe(\n",
    "    dataframe            = train_data_gabor_thresh_gauss,\n",
    "    x_col                = 'File_Name', # column name containing file paths\n",
    "    y_col                = 'Expanded', # column name containing labels\n",
    "    target_size          = image_size,\n",
    "    batch_size           = batch_size,\n",
    "    class_mode           = 'binary', # or 'categorical' depending on your task\n",
    "    shuffle              = False\n",
    "    #class_indices        = class_indices\n",
    ")"
   ]
  },
  {
   "cell_type": "code",
   "execution_count": 45,
   "id": "46fe0c76",
   "metadata": {},
   "outputs": [
    {
     "name": "stdout",
     "output_type": "stream",
     "text": [
      "Found 2931 validated image filenames belonging to 2 classes.\n"
     ]
    }
   ],
   "source": [
    "valid_generator_gabor_thresh_gauss = datagen.flow_from_dataframe(\n",
    "    dataframe            = valid_data_gabor_thresh_gauss,\n",
    "    x_col                = 'File_Name', # column name containing file paths\n",
    "    y_col                = 'Expanded', # column name containing labels\n",
    "    target_size          = image_size,\n",
    "    batch_size           = batch_size,\n",
    "    class_mode           = 'binary', # or 'categorical' depending on your task\n",
    "    shuffle              = False\n",
    "   # class_indices        = class_indices\n",
    ")"
   ]
  },
  {
   "cell_type": "code",
   "execution_count": 46,
   "id": "ff5e3e45",
   "metadata": {},
   "outputs": [
    {
     "name": "stdout",
     "output_type": "stream",
     "text": [
      "Found 2931 validated image filenames belonging to 2 classes.\n"
     ]
    }
   ],
   "source": [
    "test_generator_gabor_thresh_gauss = datagen.flow_from_dataframe(\n",
    "    dataframe            = test_data_gabor_thresh_gauss,\n",
    "    x_col                = 'File_Name', # column name containing file paths\n",
    "    y_col                = 'Expanded', # column name containing labels\n",
    "    target_size          = image_size,\n",
    "    batch_size           = batch_size,\n",
    "    class_mode           = 'binary', # or 'categorical' depending on your task\n",
    "    shuffle              = False\n",
    "    #class_indices        = class_indices\n",
    ")"
   ]
  },
  {
   "cell_type": "markdown",
   "id": "75756989",
   "metadata": {},
   "source": [
    "# Preprocess Image After Gabor Filter And Adaptive Mean Threshold"
   ]
  },
  {
   "cell_type": "code",
   "execution_count": 47,
   "id": "5459ea66",
   "metadata": {},
   "outputs": [
    {
     "data": {
      "text/html": [
       "<div>\n",
       "<style scoped>\n",
       "    .dataframe tbody tr th:only-of-type {\n",
       "        vertical-align: middle;\n",
       "    }\n",
       "\n",
       "    .dataframe tbody tr th {\n",
       "        vertical-align: top;\n",
       "    }\n",
       "\n",
       "    .dataframe thead th {\n",
       "        text-align: right;\n",
       "    }\n",
       "</style>\n",
       "<table border=\"1\" class=\"dataframe\">\n",
       "  <thead>\n",
       "    <tr style=\"text-align: right;\">\n",
       "      <th></th>\n",
       "      <th>File_Name</th>\n",
       "      <th>Expanded</th>\n",
       "    </tr>\n",
       "  </thead>\n",
       "  <tbody>\n",
       "    <tr>\n",
       "      <th>0</th>\n",
       "      <td>D:\\Volvo\\BatteryLid Images Gabor Threshold Mea...</td>\n",
       "      <td>0</td>\n",
       "    </tr>\n",
       "    <tr>\n",
       "      <th>1</th>\n",
       "      <td>D:\\Volvo\\BatteryLid Images Gabor Threshold Mea...</td>\n",
       "      <td>0</td>\n",
       "    </tr>\n",
       "    <tr>\n",
       "      <th>2</th>\n",
       "      <td>D:\\Volvo\\BatteryLid Images Gabor Threshold Mea...</td>\n",
       "      <td>0</td>\n",
       "    </tr>\n",
       "    <tr>\n",
       "      <th>3</th>\n",
       "      <td>D:\\Volvo\\BatteryLid Images Gabor Threshold Mea...</td>\n",
       "      <td>0</td>\n",
       "    </tr>\n",
       "    <tr>\n",
       "      <th>4</th>\n",
       "      <td>D:\\Volvo\\BatteryLid Images Gabor Threshold Mea...</td>\n",
       "      <td>0</td>\n",
       "    </tr>\n",
       "  </tbody>\n",
       "</table>\n",
       "</div>"
      ],
      "text/plain": [
       "                                           File_Name Expanded\n",
       "0  D:\\Volvo\\BatteryLid Images Gabor Threshold Mea...        0\n",
       "1  D:\\Volvo\\BatteryLid Images Gabor Threshold Mea...        0\n",
       "2  D:\\Volvo\\BatteryLid Images Gabor Threshold Mea...        0\n",
       "3  D:\\Volvo\\BatteryLid Images Gabor Threshold Mea...        0\n",
       "4  D:\\Volvo\\BatteryLid Images Gabor Threshold Mea...        0"
      ]
     },
     "execution_count": 47,
     "metadata": {},
     "output_type": "execute_result"
    }
   ],
   "source": [
    "df_batteryLidImages_gabor_thresh_mean = df_batteryLidImages\n",
    "df_batteryLidImages_gabor_thresh_mean['File_Name'] = df_batteryLidImages_gabor_thresh_mean['File_Name'].str.replace('BatteryLid Images Gabor Threshold Gaussian', 'BatteryLid Images Gabor Threshold Mean')\n",
    "df_batteryLidImages_gabor_thresh_mean = df_batteryLidImages[['File_Name', 'Expanded']]\n",
    "df_batteryLidImages_gabor_thresh_mean.head()"
   ]
  },
  {
   "cell_type": "code",
   "execution_count": 48,
   "id": "147903f5",
   "metadata": {},
   "outputs": [],
   "source": [
    "# Creating test, training and validation samples from the dataset by calling the function created\n",
    "train_data_gabor_thresh_mean, valid_data_gabor_thresh_mean, test_data_gabor_thresh_mean = CreateSplitTestAndTrainData(df_batteryLidImages_gabor_thresh_mean)"
   ]
  },
  {
   "cell_type": "code",
   "execution_count": 49,
   "id": "091af4a6",
   "metadata": {},
   "outputs": [
    {
     "name": "stdout",
     "output_type": "stream",
     "text": [
      "The size of training dataset is:  (13673, 2)\n",
      "The size of validation dataset is:  (2931, 2)\n",
      "The size of testing dataset is:  (2931, 2)\n"
     ]
    }
   ],
   "source": [
    "print(\"The size of training dataset is: \", train_data_gabor_thresh_mean.shape)\n",
    "print(\"The size of validation dataset is: \", valid_data_gabor_thresh_mean.shape)\n",
    "print(\"The size of testing dataset is: \", test_data_gabor_thresh_mean.shape)"
   ]
  },
  {
   "cell_type": "code",
   "execution_count": 50,
   "id": "b7cc6e86",
   "metadata": {},
   "outputs": [],
   "source": [
    "# Create an ImageDataGenerator for data augmentation and preprocessing\n",
    "datagen = ImageDataGenerator(rescale=1./255)"
   ]
  },
  {
   "cell_type": "code",
   "execution_count": 51,
   "id": "c307b9f5",
   "metadata": {},
   "outputs": [
    {
     "name": "stdout",
     "output_type": "stream",
     "text": [
      "Found 13673 validated image filenames belonging to 2 classes.\n"
     ]
    }
   ],
   "source": [
    "train_generator_gabor_thresh_mean = datagen.flow_from_dataframe(\n",
    "    dataframe            = train_data_gabor_thresh_mean,\n",
    "    x_col                = 'File_Name', # column name containing file paths\n",
    "    y_col                = 'Expanded', # column name containing labels\n",
    "    target_size          = image_size,\n",
    "    batch_size           = batch_size,\n",
    "    class_mode           = 'binary', # or 'categorical' depending on your task\n",
    "    shuffle              = False\n",
    "    #class_indices        = class_indices\n",
    ")"
   ]
  },
  {
   "cell_type": "code",
   "execution_count": 52,
   "id": "b9c4bd11",
   "metadata": {},
   "outputs": [
    {
     "name": "stdout",
     "output_type": "stream",
     "text": [
      "Found 2931 validated image filenames belonging to 2 classes.\n"
     ]
    }
   ],
   "source": [
    "valid_generator_gabor_thresh_mean = datagen.flow_from_dataframe(\n",
    "    dataframe            = valid_data_gabor_thresh_mean,\n",
    "    x_col                = 'File_Name', # column name containing file paths\n",
    "    y_col                = 'Expanded', # column name containing labels\n",
    "    target_size          = image_size,\n",
    "    batch_size           = batch_size,\n",
    "    class_mode           = 'binary', # or 'categorical' depending on your task\n",
    "    shuffle              = False\n",
    "   # class_indices        = class_indices\n",
    ")"
   ]
  },
  {
   "cell_type": "code",
   "execution_count": 53,
   "id": "5db91694",
   "metadata": {},
   "outputs": [
    {
     "name": "stdout",
     "output_type": "stream",
     "text": [
      "Found 2931 validated image filenames belonging to 2 classes.\n"
     ]
    }
   ],
   "source": [
    "test_generator_gabor_thresh_mean = datagen.flow_from_dataframe(\n",
    "    dataframe            = test_data_gabor_thresh_mean,\n",
    "    x_col                = 'File_Name', # column name containing file paths\n",
    "    y_col                = 'Expanded', # column name containing labels\n",
    "    target_size          = image_size,\n",
    "    batch_size           = batch_size,\n",
    "    class_mode           = 'binary', # or 'categorical' depending on your task\n",
    "    shuffle              = False\n",
    "    #class_indices        = class_indices\n",
    ")"
   ]
  },
  {
   "cell_type": "markdown",
   "id": "c07bb0db",
   "metadata": {},
   "source": [
    "# Build CNN Models"
   ]
  },
  {
   "cell_type": "markdown",
   "id": "0aea32c3",
   "metadata": {},
   "source": [
    "# Build CNN Model with Original Image"
   ]
  },
  {
   "cell_type": "code",
   "execution_count": 54,
   "id": "457324fa",
   "metadata": {},
   "outputs": [],
   "source": [
    "# Created a dataframe to store the evaluation results\n",
    "evaluation_results = pd.DataFrame(columns=['Model','Accuracy','Precision','TPR','TNR','F_Score','ROC_Value','MCC','Threshold'])"
   ]
  },
  {
   "cell_type": "code",
   "execution_count": 55,
   "id": "dc7a1ab3",
   "metadata": {},
   "outputs": [
    {
     "name": "stdout",
     "output_type": "stream",
     "text": [
      "Model: \"sequential\"\n",
      "_________________________________________________________________\n",
      " Layer (type)                Output Shape              Param #   \n",
      "=================================================================\n",
      " conv2d (Conv2D)             (None, 148, 148, 32)      896       \n",
      "                                                                 \n",
      " max_pooling2d (MaxPooling2D  (None, 74, 74, 32)       0         \n",
      " )                                                               \n",
      "                                                                 \n",
      " dropout (Dropout)           (None, 74, 74, 32)        0         \n",
      "                                                                 \n",
      " conv2d_1 (Conv2D)           (None, 72, 72, 64)        18496     \n",
      "                                                                 \n",
      " max_pooling2d_1 (MaxPooling  (None, 36, 36, 64)       0         \n",
      " 2D)                                                             \n",
      "                                                                 \n",
      " dropout_1 (Dropout)         (None, 36, 36, 64)        0         \n",
      "                                                                 \n",
      " conv2d_2 (Conv2D)           (None, 34, 34, 128)       73856     \n",
      "                                                                 \n",
      " max_pooling2d_2 (MaxPooling  (None, 17, 17, 128)      0         \n",
      " 2D)                                                             \n",
      "                                                                 \n",
      " dropout_2 (Dropout)         (None, 17, 17, 128)       0         \n",
      "                                                                 \n",
      " flatten (Flatten)           (None, 36992)             0         \n",
      "                                                                 \n",
      " dense (Dense)               (None, 512)               18940416  \n",
      "                                                                 \n",
      " dropout_3 (Dropout)         (None, 512)               0         \n",
      "                                                                 \n",
      " dense_1 (Dense)             (None, 1)                 513       \n",
      "                                                                 \n",
      "=================================================================\n",
      "Total params: 19,034,177\n",
      "Trainable params: 19,034,177\n",
      "Non-trainable params: 0\n",
      "_________________________________________________________________\n"
     ]
    }
   ],
   "source": [
    "drop=0.25\n",
    "# kernel_initializer =  'he_uniform'  #Also try 'zeros', 'random_uniform', 'he_uniform', 'glorot_uniform'\n",
    "\n",
    "model_original = tf.keras.Sequential([\n",
    "    tf.keras.layers.Conv2D(32, (3, 3), activation='relu', input_shape=(150, 150, 3)),    \n",
    "   # tf.keras.layers.BatchNormalization(),  # Add batch normalization layer\n",
    "    tf.keras.layers.MaxPooling2D(2, 2),\n",
    "    tf.keras.layers.Dropout(drop),\n",
    "    tf.keras.layers.Conv2D(64, (3, 3), activation='relu'),    \n",
    "   # tf.keras.layers.BatchNormalization(),  # Add batch normalization layer\n",
    "    tf.keras.layers.MaxPooling2D(2, 2),\n",
    "    tf.keras.layers.Dropout(drop),\n",
    "    tf.keras.layers.Conv2D(128, (3, 3), activation='relu'),\n",
    "   # tf.keras.layers.BatchNormalization(),  # Add batch normalization layer\n",
    "    tf.keras.layers.MaxPooling2D(2, 2),\n",
    "    tf.keras.layers.Dropout(drop),\n",
    "    tf.keras.layers.Flatten(),\n",
    "    tf.keras.layers.Dense(512, activation='relu'),\n",
    "   # tf.keras.layers.BatchNormalization(),  # Add batch normalization layer\n",
    "    tf.keras.layers.Dropout(drop),\n",
    "    tf.keras.layers.Dense(1, activation='sigmoid')  # for binary classification\n",
    "])\n",
    "\n",
    "# Compile the model\n",
    "model_original.compile(optimizer='adam',\n",
    "              loss='binary_crossentropy',\n",
    "              metrics=['accuracy'])\n",
    "model_original.summary()"
   ]
  },
  {
   "cell_type": "code",
   "execution_count": 56,
   "id": "dc7f7743",
   "metadata": {},
   "outputs": [
    {
     "data": {
      "text/plain": [
       "'\"\"\\n# Create a model with dropout\\ndrop=0.25\\nkernel_initializer =  \\'he_uniform\\'  #Also try \\'zeros\\', \\'random_uniform\\', \\'he_uniform\\', \\'glorot_uniform\\'\\n\\nmodel_original = Sequential()\\nmodel_original.add(Conv2D(32, (3, 3), activation=\\'relu\\', padding=\\'same\\', input_shape=(150, 150, 3)))\\nmodel_original.add(Conv2D(32, (3, 3), activation=\\'relu\\', padding=\\'same\\'))\\nmodel_original.add(MaxPooling2D((2, 2)))\\nmodel_original.add(Dropout(drop))\\n\\nmodel_original.add(Conv2D(64, (3, 3), activation=\\'relu\\', padding=\\'same\\'))\\nmodel_original.add(Conv2D(64, (3, 3), activation=\\'relu\\', padding=\\'same\\'))\\nmodel_original.add(MaxPooling2D((2, 2)))\\nmodel_original.add(Dropout(drop))\\n\\nmodel_original.add(Flatten())\\nmodel_original.add(Dense(512, activation=\\'relu\\'))\\nmodel_original.add(Dropout(drop))\\nmodel_original.add(Dense(1, activation=\\'sigmoid\\'))\\n\\nopt1 = SGD(lr=0.001, momentum=0.9)\\nopt2 = RMSprop(lr=0.001, decay=1e-6)\\nopt3 = \\'adam\\'\\nmodel_original.compile(optimizer=opt1, loss=\\'binary_crossentropy\\', metrics=[\\'accuracy\\'])\\nmodel_original.summary()\\n'"
      ]
     },
     "execution_count": 56,
     "metadata": {},
     "output_type": "execute_result"
    }
   ],
   "source": [
    "\"\"\"\"\"\n",
    "# Create a model with dropout\n",
    "drop=0.25\n",
    "kernel_initializer =  'he_uniform'  #Also try 'zeros', 'random_uniform', 'he_uniform', 'glorot_uniform'\n",
    "\n",
    "model_original = Sequential()\n",
    "model_original.add(Conv2D(32, (3, 3), activation='relu', padding='same', input_shape=(150, 150, 3)))\n",
    "model_original.add(Conv2D(32, (3, 3), activation='relu', padding='same'))\n",
    "model_original.add(MaxPooling2D((2, 2)))\n",
    "model_original.add(Dropout(drop))\n",
    "\n",
    "model_original.add(Conv2D(64, (3, 3), activation='relu', padding='same'))\n",
    "model_original.add(Conv2D(64, (3, 3), activation='relu', padding='same'))\n",
    "model_original.add(MaxPooling2D((2, 2)))\n",
    "model_original.add(Dropout(drop))\n",
    "\n",
    "model_original.add(Flatten())\n",
    "model_original.add(Dense(512, activation='relu'))\n",
    "model_original.add(Dropout(drop))\n",
    "model_original.add(Dense(1, activation='sigmoid'))\n",
    "\n",
    "opt1 = SGD(lr=0.001, momentum=0.9)\n",
    "opt2 = RMSprop(lr=0.001, decay=1e-6)\n",
    "opt3 = 'adam'\n",
    "model_original.compile(optimizer=opt1, loss='binary_crossentropy', metrics=['accuracy'])\n",
    "model_original.summary()\n",
    "\"\"\"\"\""
   ]
  },
  {
   "cell_type": "code",
   "execution_count": 57,
   "id": "7fa62d97",
   "metadata": {},
   "outputs": [],
   "source": [
    "#Add Callbacks, e.g. ModelCheckpoints, earlystopping, csvlogger.\n",
    "#ModelCheckpoint callback saves a model at some interval. \n",
    "\n",
    "#Give unique name to save all models as accuracy improves\n",
    "#filepath=\"D:\\\\Volvo\\\\Models\\\\weights-improvement-{epoch:02d}-{val_accuracy:.2f}.hdf5\" #File name includes epoch and validation accuracy.\n",
    "\n",
    "#Overwrite the model each time accuracy improves. Saves a lot of space. \n",
    "filepath=\"D:\\\\Volvo\\\\Models\\\\model_original.hdf5\" #File name includes epoch and validation accuracy.\n",
    "#Use Mode = max for accuracy and min for loss. \n",
    "checkpoint = ModelCheckpoint(filepath, monitor='val_accuracy', verbose=1, save_best_only=True, mode='max')\n",
    "\n",
    "#https://www.tensorflow.org/api_docs/python/tf/keras/callbacks/EarlyStopping\n",
    "early_stop = EarlyStopping(monitor='val_loss', patience=5, verbose=1)\n",
    "#This callback will stop the training when there is no improvement in\n",
    "# the validation loss for ten consecutive epochs.\n",
    "\n",
    "#CSVLogger logs epoch, accuracy, loss, val_accuracy, val_loss. So we can plot later.\n",
    "log_csv = CSVLogger('D:\\\\Volvo\\\\Logs\\\\model_original.csv', separator=',', append=False)\n",
    "\n",
    "callbacks_list_original = [checkpoint, early_stop, log_csv]"
   ]
  },
  {
   "cell_type": "code",
   "execution_count": 58,
   "id": "e5b8a18d",
   "metadata": {},
   "outputs": [
    {
     "name": "stdout",
     "output_type": "stream",
     "text": [
      "Epoch 1/100\n",
      "428/428 [==============================] - ETA: 0s - loss: 0.2840 - accuracy: 0.9005\n",
      "Epoch 1: val_accuracy improved from -inf to 0.97475, saving model to D:\\Volvo\\Models\\model_original.hdf5\n",
      "428/428 [==============================] - 1421s 3s/step - loss: 0.2840 - accuracy: 0.9005 - val_loss: 0.0554 - val_accuracy: 0.9748\n",
      "Epoch 2/100\n",
      "428/428 [==============================] - ETA: 0s - loss: 0.0618 - accuracy: 0.9759\n",
      "Epoch 2: val_accuracy improved from 0.97475 to 0.98124, saving model to D:\\Volvo\\Models\\model_original.hdf5\n",
      "428/428 [==============================] - 452s 1s/step - loss: 0.0618 - accuracy: 0.9759 - val_loss: 0.0529 - val_accuracy: 0.9812\n",
      "Epoch 3/100\n",
      "428/428 [==============================] - ETA: 0s - loss: 0.0556 - accuracy: 0.9781\n",
      "Epoch 3: val_accuracy improved from 0.98124 to 0.98294, saving model to D:\\Volvo\\Models\\model_original.hdf5\n",
      "428/428 [==============================] - 924s 2s/step - loss: 0.0556 - accuracy: 0.9781 - val_loss: 0.0414 - val_accuracy: 0.9829\n",
      "Epoch 4/100\n",
      "428/428 [==============================] - ETA: 0s - loss: 0.0496 - accuracy: 0.9800\n",
      "Epoch 4: val_accuracy did not improve from 0.98294\n",
      "428/428 [==============================] - 365s 852ms/step - loss: 0.0496 - accuracy: 0.9800 - val_loss: 0.0428 - val_accuracy: 0.9816\n",
      "Epoch 5/100\n",
      "428/428 [==============================] - ETA: 0s - loss: 0.0447 - accuracy: 0.9816\n",
      "Epoch 5: val_accuracy improved from 0.98294 to 0.98704, saving model to D:\\Volvo\\Models\\model_original.hdf5\n",
      "428/428 [==============================] - 364s 851ms/step - loss: 0.0447 - accuracy: 0.9816 - val_loss: 0.0351 - val_accuracy: 0.9870\n",
      "Epoch 6/100\n",
      "428/428 [==============================] - ETA: 0s - loss: 0.0419 - accuracy: 0.9834\n",
      "Epoch 6: val_accuracy improved from 0.98704 to 0.98738, saving model to D:\\Volvo\\Models\\model_original.hdf5\n",
      "428/428 [==============================] - 606s 1s/step - loss: 0.0419 - accuracy: 0.9834 - val_loss: 0.0306 - val_accuracy: 0.9874\n",
      "Epoch 7/100\n",
      "428/428 [==============================] - ETA: 0s - loss: 0.0403 - accuracy: 0.9837\n",
      "Epoch 7: val_accuracy did not improve from 0.98738\n",
      "428/428 [==============================] - 565s 1s/step - loss: 0.0403 - accuracy: 0.9837 - val_loss: 0.0319 - val_accuracy: 0.9860\n",
      "Epoch 8/100\n",
      "428/428 [==============================] - ETA: 0s - loss: 0.0398 - accuracy: 0.9851\n",
      "Epoch 8: val_accuracy did not improve from 0.98738\n",
      "428/428 [==============================] - 426s 996ms/step - loss: 0.0398 - accuracy: 0.9851 - val_loss: 0.0349 - val_accuracy: 0.9823\n",
      "Epoch 9/100\n",
      "428/428 [==============================] - ETA: 0s - loss: 0.0385 - accuracy: 0.9841\n",
      "Epoch 9: val_accuracy improved from 0.98738 to 0.99045, saving model to D:\\Volvo\\Models\\model_original.hdf5\n",
      "428/428 [==============================] - 529s 1s/step - loss: 0.0385 - accuracy: 0.9841 - val_loss: 0.0248 - val_accuracy: 0.9904\n",
      "Epoch 10/100\n",
      "428/428 [==============================] - ETA: 0s - loss: 0.0381 - accuracy: 0.9852\n",
      "Epoch 10: val_accuracy did not improve from 0.99045\n",
      "428/428 [==============================] - 467s 1s/step - loss: 0.0381 - accuracy: 0.9852 - val_loss: 0.0282 - val_accuracy: 0.9884\n",
      "Epoch 11/100\n",
      "428/428 [==============================] - ETA: 0s - loss: 0.0376 - accuracy: 0.9846\n",
      "Epoch 11: val_accuracy did not improve from 0.99045\n",
      "428/428 [==============================] - 492s 1s/step - loss: 0.0376 - accuracy: 0.9846 - val_loss: 0.0279 - val_accuracy: 0.9874\n",
      "Epoch 12/100\n",
      "428/428 [==============================] - ETA: 0s - loss: 0.0374 - accuracy: 0.9852\n",
      "Epoch 12: val_accuracy did not improve from 0.99045\n",
      "428/428 [==============================] - 363s 847ms/step - loss: 0.0374 - accuracy: 0.9852 - val_loss: 0.0298 - val_accuracy: 0.9874\n",
      "Epoch 13/100\n",
      "428/428 [==============================] - ETA: 0s - loss: 0.0328 - accuracy: 0.9869\n",
      "Epoch 13: val_accuracy did not improve from 0.99045\n",
      "428/428 [==============================] - 560s 1s/step - loss: 0.0328 - accuracy: 0.9869 - val_loss: 0.0228 - val_accuracy: 0.9898\n",
      "Epoch 14/100\n",
      "428/428 [==============================] - ETA: 0s - loss: 0.0341 - accuracy: 0.9871\n",
      "Epoch 14: val_accuracy did not improve from 0.99045\n",
      "428/428 [==============================] - 361s 843ms/step - loss: 0.0341 - accuracy: 0.9871 - val_loss: 0.0384 - val_accuracy: 0.9823\n",
      "Epoch 15/100\n",
      "428/428 [==============================] - ETA: 0s - loss: 0.0310 - accuracy: 0.9879\n",
      "Epoch 15: val_accuracy did not improve from 0.99045\n",
      "428/428 [==============================] - 362s 846ms/step - loss: 0.0310 - accuracy: 0.9879 - val_loss: 0.0275 - val_accuracy: 0.9881\n",
      "Epoch 16/100\n",
      "428/428 [==============================] - ETA: 0s - loss: 0.0327 - accuracy: 0.9870\n",
      "Epoch 16: val_accuracy did not improve from 0.99045\n",
      "428/428 [==============================] - 362s 845ms/step - loss: 0.0327 - accuracy: 0.9870 - val_loss: 0.0313 - val_accuracy: 0.9840\n",
      "Epoch 17/100\n",
      "428/428 [==============================] - ETA: 0s - loss: 0.0322 - accuracy: 0.9871\n",
      "Epoch 17: val_accuracy did not improve from 0.99045\n",
      "428/428 [==============================] - 425s 993ms/step - loss: 0.0322 - accuracy: 0.9871 - val_loss: 0.0261 - val_accuracy: 0.9891\n",
      "Epoch 18/100\n",
      "428/428 [==============================] - ETA: 0s - loss: 0.0308 - accuracy: 0.9879\n",
      "Epoch 18: val_accuracy did not improve from 0.99045\n",
      "428/428 [==============================] - 523s 1s/step - loss: 0.0308 - accuracy: 0.9879 - val_loss: 0.0277 - val_accuracy: 0.9874\n",
      "Epoch 18: early stopping\n"
     ]
    }
   ],
   "source": [
    "# Train the model\n",
    "history_original     = model_original.fit(\n",
    "                      train_generator_original,   \n",
    "    epochs           = 100,    \n",
    "    validation_data  = valid_generator_original,   \n",
    "    verbose          = 1,\n",
    "    callbacks        = callbacks_list_original\n",
    ")"
   ]
  },
  {
   "cell_type": "code",
   "execution_count": 59,
   "id": "790622b9",
   "metadata": {},
   "outputs": [
    {
     "data": {
      "image/png": "[encoded data removed]",
      "text/plain": [
       "<Figure size 432x288 with 1 Axes>"
      ]
     },
     "metadata": {
      "needs_background": "light"
     },
     "output_type": "display_data"
    },
    {
     "data": {
      "image/png": "[encoded data removed]",
      "text/plain": [
       "<Figure size 432x288 with 1 Axes>"
      ]
     },
     "metadata": {
      "needs_background": "light"
     },
     "output_type": "display_data"
    }
   ],
   "source": [
    "#####################################################################\n",
    "#plot the training and validation accuracy and loss at each epoch\n",
    "#If validation loss is lower than training loss this could be becuase we are applying\n",
    "#regularization (Dropout) during training which won't be applied during validation. \n",
    "#Also, training loss is measured during each epoch while validation is done after the epoch.\n",
    "\n",
    "loss_original = history_original.history['loss']\n",
    "val_loss_original = history_original.history['val_loss']\n",
    "epochs = range(1, len(loss_original) + 1)\n",
    "plt.plot(epochs, loss_original, 'y', label='Training loss')\n",
    "plt.plot(epochs, val_loss_original, 'r', label='Validation loss')\n",
    "plt.title('Training and validation loss')\n",
    "plt.xlabel('Epochs')\n",
    "plt.ylabel('Loss')\n",
    "plt.legend()\n",
    "plt.show()\n",
    "\n",
    "\n",
    "acc_original = history_original.history['accuracy']\n",
    "val_acc_original = history_original.history['val_accuracy']\n",
    "plt.plot(epochs, acc_original, 'y', label='Training acc')\n",
    "plt.plot(epochs, val_acc_original, 'r', label='Validation acc')\n",
    "plt.title('Training and validation accuracy')\n",
    "plt.xlabel('Epochs')\n",
    "plt.ylabel('Accuracy')\n",
    "plt.legend()\n",
    "plt.show()"
   ]
  },
  {
   "cell_type": "code",
   "execution_count": 60,
   "id": "1091c7c8",
   "metadata": {},
   "outputs": [],
   "source": [
    "#model_original.save(\"D:\\\\Volvo\\\\Models\\\\model_original.h5\")"
   ]
  },
  {
   "cell_type": "code",
   "execution_count": 61,
   "id": "057af8c4",
   "metadata": {},
   "outputs": [
    {
     "name": "stdout",
     "output_type": "stream",
     "text": [
      "Model: \"sequential\"\n",
      "_________________________________________________________________\n",
      " Layer (type)                Output Shape              Param #   \n",
      "=================================================================\n",
      " conv2d (Conv2D)             (None, 148, 148, 32)      896       \n",
      "                                                                 \n",
      " max_pooling2d (MaxPooling2D  (None, 74, 74, 32)       0         \n",
      " )                                                               \n",
      "                                                                 \n",
      " dropout (Dropout)           (None, 74, 74, 32)        0         \n",
      "                                                                 \n",
      " conv2d_1 (Conv2D)           (None, 72, 72, 64)        18496     \n",
      "                                                                 \n",
      " max_pooling2d_1 (MaxPooling  (None, 36, 36, 64)       0         \n",
      " 2D)                                                             \n",
      "                                                                 \n",
      " dropout_1 (Dropout)         (None, 36, 36, 64)        0         \n",
      "                                                                 \n",
      " conv2d_2 (Conv2D)           (None, 34, 34, 128)       73856     \n",
      "                                                                 \n",
      " max_pooling2d_2 (MaxPooling  (None, 17, 17, 128)      0         \n",
      " 2D)                                                             \n",
      "                                                                 \n",
      " dropout_2 (Dropout)         (None, 17, 17, 128)       0         \n",
      "                                                                 \n",
      " flatten (Flatten)           (None, 36992)             0         \n",
      "                                                                 \n",
      " dense (Dense)               (None, 512)               18940416  \n",
      "                                                                 \n",
      " dropout_3 (Dropout)         (None, 512)               0         \n",
      "                                                                 \n",
      " dense_1 (Dense)             (None, 1)                 513       \n",
      "                                                                 \n",
      "=================================================================\n",
      "Total params: 19,034,177\n",
      "Trainable params: 19,034,177\n",
      "Non-trainable params: 0\n",
      "_________________________________________________________________\n"
     ]
    }
   ],
   "source": [
    "model_original = tf.keras.models.load_model(\"D:\\\\Volvo\\\\Models\\\\model_original.hdf5\")\n",
    "history_original = pd.read_csv('D:\\\\Volvo\\\\Logs\\\\model_original.csv')\n",
    "model_original.summary()"
   ]
  },
  {
   "cell_type": "code",
   "execution_count": 62,
   "id": "d6566c14",
   "metadata": {},
   "outputs": [
    {
     "data": {
      "text/plain": [
       "'\"\"\\n#####################################################################\\n#plot the training and validation accuracy and loss at each epoch\\n#If validation loss is lower than training loss this could be becuase we are applying\\n#regularization (Dropout) during training which won\\'t be applied during validation. \\n#Also, training loss is measured during each epoch while validation is done after the epoch. \\n\\n\\nloss_original = history_original[\\'loss\\']\\nval_loss_original = history_original[\\'val_loss\\']\\nepochs = range(1, len(loss_original) + 1)\\nplt.plot(epochs, loss_original, \\'y\\', label=\\'Training loss\\')\\nplt.plot(epochs, val_loss_original, \\'r\\', label=\\'Validation loss\\')\\nplt.title(\\'Training and validation loss\\')\\nplt.xlabel(\\'Epochs\\')\\nplt.ylabel(\\'Loss\\')\\nplt.legend()\\nplt.show()\\n\\n\\nacc_original = history_original[\\'accuracy\\']\\nval_acc_original = history_original[\\'val_accuracy\\']\\nplt.plot(epochs, acc_original, \\'y\\', label=\\'Training acc\\')\\nplt.plot(epochs, val_acc_original, \\'r\\', label=\\'Validation acc\\')\\nplt.title(\\'Training and validation accuracy\\')\\nplt.xlabel(\\'Epochs\\')\\nplt.ylabel(\\'Accuracy\\')\\nplt.legend()\\nplt.show()\\n'"
      ]
     },
     "execution_count": 62,
     "metadata": {},
     "output_type": "execute_result"
    }
   ],
   "source": [
    "\"\"\"\"\"\n",
    "#####################################################################\n",
    "#plot the training and validation accuracy and loss at each epoch\n",
    "#If validation loss is lower than training loss this could be becuase we are applying\n",
    "#regularization (Dropout) during training which won't be applied during validation. \n",
    "#Also, training loss is measured during each epoch while validation is done after the epoch. \n",
    "\n",
    "\n",
    "loss_original = history_original['loss']\n",
    "val_loss_original = history_original['val_loss']\n",
    "epochs = range(1, len(loss_original) + 1)\n",
    "plt.plot(epochs, loss_original, 'y', label='Training loss')\n",
    "plt.plot(epochs, val_loss_original, 'r', label='Validation loss')\n",
    "plt.title('Training and validation loss')\n",
    "plt.xlabel('Epochs')\n",
    "plt.ylabel('Loss')\n",
    "plt.legend()\n",
    "plt.show()\n",
    "\n",
    "\n",
    "acc_original = history_original['accuracy']\n",
    "val_acc_original = history_original['val_accuracy']\n",
    "plt.plot(epochs, acc_original, 'y', label='Training acc')\n",
    "plt.plot(epochs, val_acc_original, 'r', label='Validation acc')\n",
    "plt.title('Training and validation accuracy')\n",
    "plt.xlabel('Epochs')\n",
    "plt.ylabel('Accuracy')\n",
    "plt.legend()\n",
    "plt.show()\n",
    "\"\"\"\"\""
   ]
  },
  {
   "cell_type": "code",
   "execution_count": 63,
   "id": "0288d75c",
   "metadata": {},
   "outputs": [
    {
     "name": "stdout",
     "output_type": "stream",
     "text": [
      "92/92 [==============================] - 47s 510ms/step - loss: 0.0284 - accuracy: 0.9884\n"
     ]
    }
   ],
   "source": [
    "test_loss_original, test_accuracy_original = model_original.evaluate(test_generator_original)"
   ]
  },
  {
   "cell_type": "code",
   "execution_count": 64,
   "id": "95320994",
   "metadata": {},
   "outputs": [
    {
     "name": "stdout",
     "output_type": "stream",
     "text": [
      "92/92 [==============================] - 119s 1s/step\n"
     ]
    }
   ],
   "source": [
    "# Predict probabilities for test data\n",
    "y_pred_prob_original = model_original.predict(test_generator_original)\n",
    "\n",
    "# Convert probabilities to class labels (if needed)\n",
    "# For binary classification:\n",
    "y_pred_original = (y_pred_prob_original > 0.5).astype(int)\n",
    "\n",
    "# For multiclass classification:\n",
    "#y_pred_original = np.argmax(y_pred_prob_original, axis=1)\n",
    "\n",
    "# Getting ground truth labels\n",
    "# For binary classification:\n",
    "ground_truth_original = test_generator_original.labels"
   ]
  },
  {
   "cell_type": "code",
   "execution_count": 65,
   "id": "aed7543c",
   "metadata": {},
   "outputs": [],
   "source": [
    "def Calculate_Errors(model, y_test, y_pred, y_pred_probs):\n",
    "    \n",
    " global evaluation_results\n",
    "    \n",
    " # Calculate Accuracy of the model\n",
    " Accuracy = metrics.accuracy_score(y_true=y_test, y_pred=y_pred)\n",
    "  \n",
    " # Calculate Precision of the model\n",
    " Precision = metrics.precision_score(y_true=y_test, y_pred=y_pred)\n",
    "  \n",
    " # Calculate True Positive Rate (Recall) of the model\n",
    " TPR = metrics.recall_score(y_true=y_test, y_pred=y_pred)\n",
    "  \n",
    " # Calculate F Score of of the model\n",
    " F_Score = metrics.f1_score(y_true=y_test, y_pred=y_pred)\n",
    "    \n",
    " # Calculate MCC of the model\n",
    " MCC = metrics.matthews_corrcoef(y_true=y_test, y_pred=y_pred)\n",
    "\n",
    " # Calculate TNR(Specificity) of the model\n",
    " tn, fp, fn, tp = confusion_matrix(y_true=y_test, y_pred=y_pred).ravel()\n",
    " TNR = tn / (tn+fp)\n",
    "\n",
    " # Calculate the ROC\n",
    " roc_value = roc_auc_score(y_test, y_pred_probs)\n",
    "\n",
    " fpr, tpr, thresholds = metrics.roc_curve(y_test, y_pred_probs)\n",
    " threshold = thresholds[np.argmax(tpr-fpr)]\n",
    "\n",
    " # Plot the ROC for the model\n",
    " roc_auc = metrics.auc(fpr, tpr)\n",
    " print(\"ROC for the test dataset\",'{:.1%}'.format(roc_auc))\n",
    " plt.plot(fpr,tpr,label=\"Test, auc=\"+str(roc_auc))\n",
    " plt.legend(loc=4)\n",
    " plt.show()\n",
    "\n",
    " # Append the model results to the result dataframe \n",
    " evaluation_results = evaluation_results.append(pd.DataFrame({'Model': model, 'Accuracy': Accuracy, 'Precision': Precision, 'TPR': TPR, 'TNR': TNR, 'F_Score': F_Score, 'ROC_Value': roc_value, 'MCC': MCC, 'Threshold': threshold}, index=[0]), ignore_index=True) "
   ]
  },
  {
   "cell_type": "code",
   "execution_count": 66,
   "id": "391eb653",
   "metadata": {},
   "outputs": [
    {
     "name": "stdout",
     "output_type": "stream",
     "text": [
      "ROC for the test dataset 100.0%\n"
     ]
    },
    {
     "data": {
      "image/png": "[encoded data removed]",
      "text/plain": [
       "<Figure size 432x288 with 1 Axes>"
      ]
     },
     "metadata": {
      "needs_background": "light"
     },
     "output_type": "display_data"
    },
    {
     "name": "stderr",
     "output_type": "stream",
     "text": [
      "C:\\Users\\Sandeep\\AppData\\Local\\Temp\\ipykernel_5156\\3245499471.py:38: FutureWarning: The frame.append method is deprecated and will be removed from pandas in a future version. Use pandas.concat instead.\n",
      "  evaluation_results = evaluation_results.append(pd.DataFrame({'Model': model, 'Accuracy': Accuracy, 'Precision': Precision, 'TPR': TPR, 'TNR': TNR, 'F_Score': F_Score, 'ROC_Value': roc_value, 'MCC': MCC, 'Threshold': threshold}, index=[0]), ignore_index=True)\n"
     ]
    },
    {
     "data": {
      "text/html": [
       "<div>\n",
       "<style scoped>\n",
       "    .dataframe tbody tr th:only-of-type {\n",
       "        vertical-align: middle;\n",
       "    }\n",
       "\n",
       "    .dataframe tbody tr th {\n",
       "        vertical-align: top;\n",
       "    }\n",
       "\n",
       "    .dataframe thead th {\n",
       "        text-align: right;\n",
       "    }\n",
       "</style>\n",
       "<table border=\"1\" class=\"dataframe\">\n",
       "  <thead>\n",
       "    <tr style=\"text-align: right;\">\n",
       "      <th></th>\n",
       "      <th>Model</th>\n",
       "      <th>Accuracy</th>\n",
       "      <th>Precision</th>\n",
       "      <th>TPR</th>\n",
       "      <th>TNR</th>\n",
       "      <th>F_Score</th>\n",
       "      <th>ROC_Value</th>\n",
       "      <th>MCC</th>\n",
       "      <th>Threshold</th>\n",
       "    </tr>\n",
       "  </thead>\n",
       "  <tbody>\n",
       "    <tr>\n",
       "      <th>0</th>\n",
       "      <td>CNN with Original image</td>\n",
       "      <td>0.9884</td>\n",
       "      <td>0.982603</td>\n",
       "      <td>0.993666</td>\n",
       "      <td>0.983444</td>\n",
       "      <td>0.988104</td>\n",
       "      <td>0.999601</td>\n",
       "      <td>0.976844</td>\n",
       "      <td>0.673184</td>\n",
       "    </tr>\n",
       "  </tbody>\n",
       "</table>\n",
       "</div>"
      ],
      "text/plain": [
       "                     Model Accuracy Precision       TPR       TNR   F_Score  \\\n",
       "0  CNN with Original image   0.9884  0.982603  0.993666  0.983444  0.988104   \n",
       "\n",
       "  ROC_Value       MCC Threshold  \n",
       "0  0.999601  0.976844  0.673184  "
      ]
     },
     "execution_count": 66,
     "metadata": {},
     "output_type": "execute_result"
    }
   ],
   "source": [
    "Calculate_Errors('CNN with Original image', ground_truth_original, y_pred_original, y_pred_prob_original)\n",
    "evaluation_results"
   ]
  },
  {
   "cell_type": "code",
   "execution_count": 67,
   "id": "d3298cd9",
   "metadata": {},
   "outputs": [],
   "source": [
    "def Create_RedAndGreen_ColorMap():\n",
    " # Define red and green colors\n",
    " red = [1, 0, 0]   # Full red\n",
    " green = [0, 1, 0] # Full green\n",
    "\n",
    " # Create custom colormap with only two colors (red and green)\n",
    " cmap_colors = [red, green]\n",
    " custom_cmap = LinearSegmentedColormap.from_list('custom_cmap', cmap_colors, N=2)\n",
    "    \n",
    " return custom_cmap"
   ]
  },
  {
   "cell_type": "code",
   "execution_count": 68,
   "id": "56d47576",
   "metadata": {},
   "outputs": [],
   "source": [
    "# Created a common function to plot confusion matrix\n",
    "def Plot_Confusion_Matrix(y_test, pred_test):\n",
    "  cm = confusion_matrix(y_test, pred_test)\n",
    "  plt.clf()\n",
    "  plt.imshow(cm, interpolation='nearest', cmap = Create_RedAndGreen_ColorMap()) #plt.cm.Set1)\n",
    "  categoryNames = ['Unexpanded','Expanded']\n",
    "  plt.title('Confusion Matrix')\n",
    "  plt.ylabel('True label')\n",
    "  plt.xlabel('Predicted label')\n",
    "  ticks = np.arange(len(categoryNames))\n",
    "  plt.xticks(ticks, categoryNames)\n",
    "  plt.yticks(ticks, categoryNames)\n",
    "  s = [['TN','FP'], ['FN', 'TP']]\n",
    "  \n",
    "  for i in range(2):\n",
    "      for j in range(2):\n",
    "          plt.text(j, i, str(s[i][j]) + \" = \" + str(cm[i][j]), fontsize=12, ha = 'center')\n",
    "  plt.show()"
   ]
  },
  {
   "cell_type": "code",
   "execution_count": 69,
   "id": "118984de",
   "metadata": {},
   "outputs": [
    {
     "name": "stdout",
     "output_type": "stream",
     "text": [
      "Classification Report for CNN with Original image\n",
      "              precision    recall  f1-score   support\n",
      "\n",
      "           0       0.99      0.98      0.99      1510\n",
      "           1       0.98      0.99      0.99      1421\n",
      "\n",
      "    accuracy                           0.99      2931\n",
      "   macro avg       0.99      0.99      0.99      2931\n",
      "weighted avg       0.99      0.99      0.99      2931\n",
      "\n"
     ]
    }
   ],
   "source": [
    "# Print Classification Report\n",
    "print(\"Classification Report for CNN with Original image\")\n",
    "print(classification_report(ground_truth_original, y_pred_original))"
   ]
  },
  {
   "cell_type": "code",
   "execution_count": 70,
   "id": "4b146c2f",
   "metadata": {},
   "outputs": [
    {
     "name": "stdout",
     "output_type": "stream",
     "text": [
      "Confusion Matrix for CNN with Original image\n"
     ]
    },
    {
     "data": {
      "image/png": "[encoded data removed]",
      "text/plain": [
       "<Figure size 432x288 with 1 Axes>"
      ]
     },
     "metadata": {
      "needs_background": "light"
     },
     "output_type": "display_data"
    }
   ],
   "source": [
    "# Plot Confusion Matrix\n",
    "print(\"Confusion Matrix for CNN with Original image\")\n",
    "Plot_Confusion_Matrix(ground_truth_original, y_pred_original)"
   ]
  },
  {
   "cell_type": "markdown",
   "id": "f2a2483c",
   "metadata": {},
   "source": [
    "# Build CNN Model with Image After Adaptive Gaussian Thresholding"
   ]
  },
  {
   "cell_type": "code",
   "execution_count": 71,
   "id": "ebcdfd55",
   "metadata": {},
   "outputs": [
    {
     "name": "stdout",
     "output_type": "stream",
     "text": [
      "Model: \"sequential_1\"\n",
      "_________________________________________________________________\n",
      " Layer (type)                Output Shape              Param #   \n",
      "=================================================================\n",
      " conv2d_3 (Conv2D)           (None, 148, 148, 32)      896       \n",
      "                                                                 \n",
      " max_pooling2d_3 (MaxPooling  (None, 74, 74, 32)       0         \n",
      " 2D)                                                             \n",
      "                                                                 \n",
      " dropout_4 (Dropout)         (None, 74, 74, 32)        0         \n",
      "                                                                 \n",
      " conv2d_4 (Conv2D)           (None, 72, 72, 64)        18496     \n",
      "                                                                 \n",
      " max_pooling2d_4 (MaxPooling  (None, 36, 36, 64)       0         \n",
      " 2D)                                                             \n",
      "                                                                 \n",
      " dropout_5 (Dropout)         (None, 36, 36, 64)        0         \n",
      "                                                                 \n",
      " conv2d_5 (Conv2D)           (None, 34, 34, 128)       73856     \n",
      "                                                                 \n",
      " max_pooling2d_5 (MaxPooling  (None, 17, 17, 128)      0         \n",
      " 2D)                                                             \n",
      "                                                                 \n",
      " dropout_6 (Dropout)         (None, 17, 17, 128)       0         \n",
      "                                                                 \n",
      " flatten_1 (Flatten)         (None, 36992)             0         \n",
      "                                                                 \n",
      " dense_2 (Dense)             (None, 512)               18940416  \n",
      "                                                                 \n",
      " dropout_7 (Dropout)         (None, 512)               0         \n",
      "                                                                 \n",
      " dense_3 (Dense)             (None, 1)                 513       \n",
      "                                                                 \n",
      "=================================================================\n",
      "Total params: 19,034,177\n",
      "Trainable params: 19,034,177\n",
      "Non-trainable params: 0\n",
      "_________________________________________________________________\n"
     ]
    }
   ],
   "source": [
    "drop=0.25\n",
    "# kernel_initializer =  'he_uniform'  #Also try 'zeros', 'random_uniform', 'he_uniform', 'glorot_uniform'\n",
    "\n",
    "model_thresh_gauss = tf.keras.Sequential([\n",
    "    tf.keras.layers.Conv2D(32, (3, 3), activation='relu', input_shape=(150, 150, 3)),    \n",
    "   # tf.keras.layers.BatchNormalization(),  # Add batch normalization layer\n",
    "    tf.keras.layers.MaxPooling2D(2, 2),\n",
    "    tf.keras.layers.Dropout(drop),\n",
    "    tf.keras.layers.Conv2D(64, (3, 3), activation='relu'),    \n",
    "   # tf.keras.layers.BatchNormalization(),  # Add batch normalization layer\n",
    "    tf.keras.layers.MaxPooling2D(2, 2),\n",
    "    tf.keras.layers.Dropout(drop),\n",
    "    tf.keras.layers.Conv2D(128, (3, 3), activation='relu'),\n",
    "   # tf.keras.layers.BatchNormalization(),  # Add batch normalization layer\n",
    "    tf.keras.layers.MaxPooling2D(2, 2),\n",
    "    tf.keras.layers.Dropout(drop),\n",
    "    tf.keras.layers.Flatten(),\n",
    "    tf.keras.layers.Dense(512, activation='relu'),\n",
    "   # tf.keras.layers.BatchNormalization(),  # Add batch normalization layer\n",
    "    tf.keras.layers.Dropout(drop),\n",
    "    tf.keras.layers.Dense(1, activation='sigmoid')  # for binary classification\n",
    "])\n",
    "\n",
    "# Compile the model\n",
    "model_thresh_gauss.compile(optimizer='adam',\n",
    "              loss='binary_crossentropy',\n",
    "              metrics=['accuracy'])\n",
    "model_thresh_gauss.summary()"
   ]
  },
  {
   "cell_type": "code",
   "execution_count": 72,
   "id": "157a649f",
   "metadata": {},
   "outputs": [],
   "source": [
    "#Add Callbacks, e.g. ModelCheckpoints, earlystopping, csvlogger.\n",
    "#ModelCheckpoint callback saves a model at some interval. \n",
    "\n",
    "#Give unique name to save all models as accuracy improves\n",
    "#filepath=\"D:\\\\Volvo\\\\Models\\\\weights-improvement-{epoch:02d}-{val_accuracy:.2f}.hdf5\" #File name includes epoch and validation accuracy.\n",
    "\n",
    "#Overwrite the model each time accuracy improves. Saves a lot of space. \n",
    "filepath=\"D:\\\\Volvo\\\\Models\\\\model_thresh_gauss.hdf5\" #File name includes epoch and validation accuracy.\n",
    "#Use Mode = max for accuracy and min for loss. \n",
    "checkpoint = ModelCheckpoint(filepath, monitor='val_accuracy', verbose=1, save_best_only=True, mode='max')\n",
    "\n",
    "#https://www.tensorflow.org/api_docs/python/tf/keras/callbacks/EarlyStopping\n",
    "early_stop = EarlyStopping(monitor='val_loss', patience=5, verbose=1)\n",
    "#This callback will stop the training when there is no improvement in\n",
    "# the validation loss for ten consecutive epochs.\n",
    "\n",
    "#CSVLogger logs epoch, accuracy, loss, val_accuracy, val_loss. So we can plot later.\n",
    "log_csv = CSVLogger('D:\\\\Volvo\\\\Logs\\\\model_thresh_gauss.csv', separator=',', append=False)\n",
    "\n",
    "callbacks_list_thresh_gauss = [checkpoint, early_stop, log_csv]"
   ]
  },
  {
   "cell_type": "code",
   "execution_count": 73,
   "id": "89ef9cbc",
   "metadata": {},
   "outputs": [
    {
     "name": "stdout",
     "output_type": "stream",
     "text": [
      "Epoch 1/100\n",
      "428/428 [==============================] - ETA: 0s - loss: 0.1700 - accuracy: 0.9567\n",
      "Epoch 1: val_accuracy improved from -inf to 0.97475, saving model to D:\\Volvo\\Models\\model_thresh_gauss.hdf5\n",
      "428/428 [==============================] - 1408s 3s/step - loss: 0.1700 - accuracy: 0.9567 - val_loss: 0.0600 - val_accuracy: 0.9748\n",
      "Epoch 2/100\n",
      "428/428 [==============================] - ETA: 0s - loss: 0.0612 - accuracy: 0.9740\n",
      "Epoch 2: val_accuracy did not improve from 0.97475\n",
      "428/428 [==============================] - 362s 845ms/step - loss: 0.0612 - accuracy: 0.9740 - val_loss: 0.0836 - val_accuracy: 0.9703\n",
      "Epoch 3/100\n",
      "428/428 [==============================] - ETA: 0s - loss: 0.0509 - accuracy: 0.9802\n",
      "Epoch 3: val_accuracy improved from 0.97475 to 0.98465, saving model to D:\\Volvo\\Models\\model_thresh_gauss.hdf5\n",
      "428/428 [==============================] - 365s 852ms/step - loss: 0.0509 - accuracy: 0.9802 - val_loss: 0.0360 - val_accuracy: 0.9846\n",
      "Epoch 4/100\n",
      "428/428 [==============================] - ETA: 0s - loss: 0.0469 - accuracy: 0.9807\n",
      "Epoch 4: val_accuracy improved from 0.98465 to 0.98533, saving model to D:\\Volvo\\Models\\model_thresh_gauss.hdf5\n",
      "428/428 [==============================] - 366s 855ms/step - loss: 0.0469 - accuracy: 0.9807 - val_loss: 0.0395 - val_accuracy: 0.9853\n",
      "Epoch 5/100\n",
      "428/428 [==============================] - ETA: 0s - loss: 0.0424 - accuracy: 0.9824\n",
      "Epoch 5: val_accuracy did not improve from 0.98533\n",
      "428/428 [==============================] - 360s 842ms/step - loss: 0.0424 - accuracy: 0.9824 - val_loss: 0.0376 - val_accuracy: 0.9850\n",
      "Epoch 6/100\n",
      "428/428 [==============================] - ETA: 0s - loss: 0.0392 - accuracy: 0.9834\n",
      "Epoch 6: val_accuracy improved from 0.98533 to 0.98806, saving model to D:\\Volvo\\Models\\model_thresh_gauss.hdf5\n",
      "428/428 [==============================] - 648s 2s/step - loss: 0.0392 - accuracy: 0.9834 - val_loss: 0.0309 - val_accuracy: 0.9881\n",
      "Epoch 7/100\n",
      "428/428 [==============================] - ETA: 0s - loss: 0.0355 - accuracy: 0.9862\n",
      "Epoch 7: val_accuracy did not improve from 0.98806\n",
      "428/428 [==============================] - 371s 866ms/step - loss: 0.0355 - accuracy: 0.9862 - val_loss: 0.0335 - val_accuracy: 0.9864\n",
      "Epoch 8/100\n",
      "428/428 [==============================] - ETA: 0s - loss: 0.0357 - accuracy: 0.9847\n",
      "Epoch 8: val_accuracy did not improve from 0.98806\n",
      "428/428 [==============================] - 362s 846ms/step - loss: 0.0357 - accuracy: 0.9847 - val_loss: 0.0292 - val_accuracy: 0.9881\n",
      "Epoch 9/100\n",
      "428/428 [==============================] - ETA: 0s - loss: 0.0329 - accuracy: 0.9861\n",
      "Epoch 9: val_accuracy did not improve from 0.98806\n",
      "428/428 [==============================] - 362s 845ms/step - loss: 0.0329 - accuracy: 0.9861 - val_loss: 0.0310 - val_accuracy: 0.9867\n",
      "Epoch 10/100\n",
      "428/428 [==============================] - ETA: 0s - loss: 0.0332 - accuracy: 0.9871\n",
      "Epoch 10: val_accuracy did not improve from 0.98806\n",
      "428/428 [==============================] - 592s 1s/step - loss: 0.0332 - accuracy: 0.9871 - val_loss: 0.0292 - val_accuracy: 0.9843\n",
      "Epoch 11/100\n",
      "428/428 [==============================] - ETA: 0s - loss: 0.0307 - accuracy: 0.9869\n",
      "Epoch 11: val_accuracy improved from 0.98806 to 0.99045, saving model to D:\\Volvo\\Models\\model_thresh_gauss.hdf5\n",
      "428/428 [==============================] - 363s 848ms/step - loss: 0.0307 - accuracy: 0.9869 - val_loss: 0.0273 - val_accuracy: 0.9904\n",
      "Epoch 12/100\n",
      "428/428 [==============================] - ETA: 0s - loss: 0.0282 - accuracy: 0.9883\n",
      "Epoch 12: val_accuracy did not improve from 0.99045\n",
      "428/428 [==============================] - 559s 1s/step - loss: 0.0282 - accuracy: 0.9883 - val_loss: 0.0274 - val_accuracy: 0.9891\n",
      "Epoch 13/100\n",
      "428/428 [==============================] - ETA: 0s - loss: 0.0272 - accuracy: 0.9884\n",
      "Epoch 13: val_accuracy did not improve from 0.99045\n",
      "428/428 [==============================] - 360s 841ms/step - loss: 0.0272 - accuracy: 0.9884 - val_loss: 0.0363 - val_accuracy: 0.9846\n",
      "Epoch 14/100\n",
      "428/428 [==============================] - ETA: 0s - loss: 0.0261 - accuracy: 0.9889\n",
      "Epoch 14: val_accuracy did not improve from 0.99045\n",
      "428/428 [==============================] - 840s 2s/step - loss: 0.0261 - accuracy: 0.9889 - val_loss: 0.0283 - val_accuracy: 0.9894\n",
      "Epoch 15/100\n",
      "428/428 [==============================] - ETA: 0s - loss: 0.0243 - accuracy: 0.9908\n",
      "Epoch 15: val_accuracy did not improve from 0.99045\n",
      "428/428 [==============================] - 474s 1s/step - loss: 0.0243 - accuracy: 0.9908 - val_loss: 0.0312 - val_accuracy: 0.9877\n",
      "Epoch 16/100\n",
      "428/428 [==============================] - ETA: 0s - loss: 0.0237 - accuracy: 0.9903\n",
      "Epoch 16: val_accuracy did not improve from 0.99045\n",
      "428/428 [==============================] - 361s 845ms/step - loss: 0.0237 - accuracy: 0.9903 - val_loss: 0.0397 - val_accuracy: 0.9853\n",
      "Epoch 16: early stopping\n"
     ]
    }
   ],
   "source": [
    "# Train the model\n",
    "history_thresh_gauss     = model_thresh_gauss.fit(\n",
    "                      train_generator_thresh_gauss,   \n",
    "    epochs           = 100,    \n",
    "    validation_data  = valid_generator_thresh_gauss,   \n",
    "    verbose          = 1,\n",
    "    callbacks        = callbacks_list_thresh_gauss\n",
    ")"
   ]
  },
  {
   "cell_type": "code",
   "execution_count": 74,
   "id": "13d88b03",
   "metadata": {},
   "outputs": [
    {
     "data": {
      "image/png": "[encoded data removed]",
      "text/plain": [
       "<Figure size 432x288 with 1 Axes>"
      ]
     },
     "metadata": {
      "needs_background": "light"
     },
     "output_type": "display_data"
    },
    {
     "data": {
      "image/png": "[encoded data removed]",
      "text/plain": [
       "<Figure size 432x288 with 1 Axes>"
      ]
     },
     "metadata": {
      "needs_background": "light"
     },
     "output_type": "display_data"
    }
   ],
   "source": [
    "#####################################################################\n",
    "#plot the training and validation accuracy and loss at each epoch\n",
    "#If validation loss is lower than training loss this could be becuase we are applying\n",
    "#regularization (Dropout) during training which won't be applied during validation. \n",
    "#Also, training loss is measured during each epoch while validation is done after the epoch.\n",
    "\n",
    "loss_thresh_gauss = history_thresh_gauss.history['loss']\n",
    "val_loss_thresh_gauss = history_thresh_gauss.history['val_loss']\n",
    "epochs = range(1, len(loss_thresh_gauss) + 1)\n",
    "plt.plot(epochs, loss_thresh_gauss, 'y', label='Training loss')\n",
    "plt.plot(epochs, val_loss_thresh_gauss, 'r', label='Validation loss')\n",
    "plt.title('Training and validation loss')\n",
    "plt.xlabel('Epochs')\n",
    "plt.ylabel('Loss')\n",
    "plt.legend()\n",
    "plt.show()\n",
    "\n",
    "\n",
    "acc_thresh_gauss = history_thresh_gauss.history['accuracy']\n",
    "val_acc_thresh_gauss = history_thresh_gauss.history['val_accuracy']\n",
    "plt.plot(epochs, acc_thresh_gauss, 'y', label='Training acc')\n",
    "plt.plot(epochs, val_acc_thresh_gauss, 'r', label='Validation acc')\n",
    "plt.title('Training and validation accuracy')\n",
    "plt.xlabel('Epochs')\n",
    "plt.ylabel('Accuracy')\n",
    "plt.legend()\n",
    "plt.show()"
   ]
  },
  {
   "cell_type": "code",
   "execution_count": 75,
   "id": "2c4501ae",
   "metadata": {},
   "outputs": [
    {
     "name": "stdout",
     "output_type": "stream",
     "text": [
      "Model: \"sequential_1\"\n",
      "_________________________________________________________________\n",
      " Layer (type)                Output Shape              Param #   \n",
      "=================================================================\n",
      " conv2d_3 (Conv2D)           (None, 148, 148, 32)      896       \n",
      "                                                                 \n",
      " max_pooling2d_3 (MaxPooling  (None, 74, 74, 32)       0         \n",
      " 2D)                                                             \n",
      "                                                                 \n",
      " dropout_4 (Dropout)         (None, 74, 74, 32)        0         \n",
      "                                                                 \n",
      " conv2d_4 (Conv2D)           (None, 72, 72, 64)        18496     \n",
      "                                                                 \n",
      " max_pooling2d_4 (MaxPooling  (None, 36, 36, 64)       0         \n",
      " 2D)                                                             \n",
      "                                                                 \n",
      " dropout_5 (Dropout)         (None, 36, 36, 64)        0         \n",
      "                                                                 \n",
      " conv2d_5 (Conv2D)           (None, 34, 34, 128)       73856     \n",
      "                                                                 \n",
      " max_pooling2d_5 (MaxPooling  (None, 17, 17, 128)      0         \n",
      " 2D)                                                             \n",
      "                                                                 \n",
      " dropout_6 (Dropout)         (None, 17, 17, 128)       0         \n",
      "                                                                 \n",
      " flatten_1 (Flatten)         (None, 36992)             0         \n",
      "                                                                 \n",
      " dense_2 (Dense)             (None, 512)               18940416  \n",
      "                                                                 \n",
      " dropout_7 (Dropout)         (None, 512)               0         \n",
      "                                                                 \n",
      " dense_3 (Dense)             (None, 1)                 513       \n",
      "                                                                 \n",
      "=================================================================\n",
      "Total params: 19,034,177\n",
      "Trainable params: 19,034,177\n",
      "Non-trainable params: 0\n",
      "_________________________________________________________________\n"
     ]
    }
   ],
   "source": [
    "model_thresh_gauss = tf.keras.models.load_model(\"D:\\\\Volvo\\\\Models\\\\model_thresh_gauss.hdf5\")\n",
    "history_thresh_gauss = pd.read_csv('D:\\\\Volvo\\\\Logs\\\\model_thresh_gauss.csv')\n",
    "model_thresh_gauss.summary()"
   ]
  },
  {
   "cell_type": "code",
   "execution_count": 76,
   "id": "c7f67687",
   "metadata": {},
   "outputs": [
    {
     "name": "stdout",
     "output_type": "stream",
     "text": [
      "92/92 [==============================] - 41s 447ms/step - loss: 0.0357 - accuracy: 0.9884\n"
     ]
    }
   ],
   "source": [
    "test_loss_thresh_gauss, test_accuracy_thresh_gauss = model_thresh_gauss.evaluate(test_generator_thresh_gauss)"
   ]
  },
  {
   "cell_type": "code",
   "execution_count": 77,
   "id": "2c58e0ab",
   "metadata": {},
   "outputs": [
    {
     "name": "stdout",
     "output_type": "stream",
     "text": [
      "92/92 [==============================] - 13s 139ms/step\n"
     ]
    }
   ],
   "source": [
    "# Predict probabilities for test data\n",
    "y_pred_prob_thresh_gauss = model_thresh_gauss.predict(test_generator_thresh_gauss)\n",
    "\n",
    "# Convert probabilities to class labels (if needed)\n",
    "# For binary classification:\n",
    "y_pred_thresh_gauss = (y_pred_prob_thresh_gauss > 0.5).astype(int)\n",
    "\n",
    "# For multiclass classification:\n",
    "#y_pred_thresh_gauss = np.argmax(y_pred_prob_thresh_gauss, axis=1)\n",
    "\n",
    "# Getting ground truth labels\n",
    "# For binary classification:\n",
    "ground_truth_thresh_gauss = test_generator_thresh_gauss.labels"
   ]
  },
  {
   "cell_type": "code",
   "execution_count": 78,
   "id": "a8cbbac8",
   "metadata": {},
   "outputs": [
    {
     "name": "stdout",
     "output_type": "stream",
     "text": [
      "ROC for the test dataset 99.9%\n"
     ]
    },
    {
     "data": {
      "image/png": "[encoded data removed]",
      "text/plain": [
       "<Figure size 432x288 with 1 Axes>"
      ]
     },
     "metadata": {
      "needs_background": "light"
     },
     "output_type": "display_data"
    },
    {
     "name": "stderr",
     "output_type": "stream",
     "text": [
      "C:\\Users\\Sandeep\\AppData\\Local\\Temp\\ipykernel_5156\\3245499471.py:38: FutureWarning: The frame.append method is deprecated and will be removed from pandas in a future version. Use pandas.concat instead.\n",
      "  evaluation_results = evaluation_results.append(pd.DataFrame({'Model': model, 'Accuracy': Accuracy, 'Precision': Precision, 'TPR': TPR, 'TNR': TNR, 'F_Score': F_Score, 'ROC_Value': roc_value, 'MCC': MCC, 'Threshold': threshold}, index=[0]), ignore_index=True)\n"
     ]
    },
    {
     "data": {
      "text/html": [
       "<div>\n",
       "<style scoped>\n",
       "    .dataframe tbody tr th:only-of-type {\n",
       "        vertical-align: middle;\n",
       "    }\n",
       "\n",
       "    .dataframe tbody tr th {\n",
       "        vertical-align: top;\n",
       "    }\n",
       "\n",
       "    .dataframe thead th {\n",
       "        text-align: right;\n",
       "    }\n",
       "</style>\n",
       "<table border=\"1\" class=\"dataframe\">\n",
       "  <thead>\n",
       "    <tr style=\"text-align: right;\">\n",
       "      <th></th>\n",
       "      <th>Model</th>\n",
       "      <th>Accuracy</th>\n",
       "      <th>Precision</th>\n",
       "      <th>TPR</th>\n",
       "      <th>TNR</th>\n",
       "      <th>F_Score</th>\n",
       "      <th>ROC_Value</th>\n",
       "      <th>MCC</th>\n",
       "      <th>Threshold</th>\n",
       "    </tr>\n",
       "  </thead>\n",
       "  <tbody>\n",
       "    <tr>\n",
       "      <th>0</th>\n",
       "      <td>CNN with Original image</td>\n",
       "      <td>0.9884</td>\n",
       "      <td>0.982603</td>\n",
       "      <td>0.993666</td>\n",
       "      <td>0.983444</td>\n",
       "      <td>0.988104</td>\n",
       "      <td>0.999601</td>\n",
       "      <td>0.976844</td>\n",
       "      <td>0.673184</td>\n",
       "    </tr>\n",
       "    <tr>\n",
       "      <th>1</th>\n",
       "      <td>CNN with Image After Adaptive Gaussian Thresho...</td>\n",
       "      <td>0.9884</td>\n",
       "      <td>0.982603</td>\n",
       "      <td>0.993666</td>\n",
       "      <td>0.983444</td>\n",
       "      <td>0.988104</td>\n",
       "      <td>0.999222</td>\n",
       "      <td>0.976844</td>\n",
       "      <td>0.530475</td>\n",
       "    </tr>\n",
       "  </tbody>\n",
       "</table>\n",
       "</div>"
      ],
      "text/plain": [
       "                                               Model Accuracy Precision  \\\n",
       "0                            CNN with Original image   0.9884  0.982603   \n",
       "1  CNN with Image After Adaptive Gaussian Thresho...   0.9884  0.982603   \n",
       "\n",
       "        TPR       TNR   F_Score ROC_Value       MCC Threshold  \n",
       "0  0.993666  0.983444  0.988104  0.999601  0.976844  0.673184  \n",
       "1  0.993666  0.983444  0.988104  0.999222  0.976844  0.530475  "
      ]
     },
     "execution_count": 78,
     "metadata": {},
     "output_type": "execute_result"
    }
   ],
   "source": [
    "Calculate_Errors('CNN with Image After Adaptive Gaussian Thresholding', ground_truth_thresh_gauss, y_pred_thresh_gauss, y_pred_prob_thresh_gauss)\n",
    "evaluation_results"
   ]
  },
  {
   "cell_type": "code",
   "execution_count": 79,
   "id": "29eeed0c",
   "metadata": {},
   "outputs": [
    {
     "name": "stdout",
     "output_type": "stream",
     "text": [
      "Classification Report for CNN with Image After Adaptive Gaussian Thresholding\n",
      "              precision    recall  f1-score   support\n",
      "\n",
      "           0       0.99      0.98      0.99      1510\n",
      "           1       0.98      0.99      0.99      1421\n",
      "\n",
      "    accuracy                           0.99      2931\n",
      "   macro avg       0.99      0.99      0.99      2931\n",
      "weighted avg       0.99      0.99      0.99      2931\n",
      "\n"
     ]
    }
   ],
   "source": [
    "# Print Classification Report\n",
    "print(\"Classification Report for CNN with Image After Adaptive Gaussian Thresholding\")\n",
    "print(classification_report(ground_truth_thresh_gauss, y_pred_thresh_gauss))"
   ]
  },
  {
   "cell_type": "code",
   "execution_count": 80,
   "id": "8a055716",
   "metadata": {},
   "outputs": [
    {
     "name": "stdout",
     "output_type": "stream",
     "text": [
      "Confusion Matrix for CNN with Image After Adaptive Gaussian Thresholding\n"
     ]
    },
    {
     "data": {
      "image/png": "[encoded data removed]",
      "text/plain": [
       "<Figure size 432x288 with 1 Axes>"
      ]
     },
     "metadata": {
      "needs_background": "light"
     },
     "output_type": "display_data"
    }
   ],
   "source": [
    "# Plot Confusion Matrix\n",
    "print(\"Confusion Matrix for CNN with Image After Adaptive Gaussian Thresholding\")\n",
    "Plot_Confusion_Matrix(ground_truth_thresh_gauss, y_pred_thresh_gauss)"
   ]
  },
  {
   "cell_type": "markdown",
   "id": "a235ee4c",
   "metadata": {},
   "source": [
    "# Build CNN Model with Image After Adaptive Mean Thresholding"
   ]
  },
  {
   "cell_type": "code",
   "execution_count": 81,
   "id": "e170d891",
   "metadata": {},
   "outputs": [
    {
     "name": "stdout",
     "output_type": "stream",
     "text": [
      "Model: \"sequential_2\"\n",
      "_________________________________________________________________\n",
      " Layer (type)                Output Shape              Param #   \n",
      "=================================================================\n",
      " conv2d_6 (Conv2D)           (None, 148, 148, 32)      896       \n",
      "                                                                 \n",
      " max_pooling2d_6 (MaxPooling  (None, 74, 74, 32)       0         \n",
      " 2D)                                                             \n",
      "                                                                 \n",
      " dropout_8 (Dropout)         (None, 74, 74, 32)        0         \n",
      "                                                                 \n",
      " conv2d_7 (Conv2D)           (None, 72, 72, 64)        18496     \n",
      "                                                                 \n",
      " max_pooling2d_7 (MaxPooling  (None, 36, 36, 64)       0         \n",
      " 2D)                                                             \n",
      "                                                                 \n",
      " dropout_9 (Dropout)         (None, 36, 36, 64)        0         \n",
      "                                                                 \n",
      " conv2d_8 (Conv2D)           (None, 34, 34, 128)       73856     \n",
      "                                                                 \n",
      " max_pooling2d_8 (MaxPooling  (None, 17, 17, 128)      0         \n",
      " 2D)                                                             \n",
      "                                                                 \n",
      " dropout_10 (Dropout)        (None, 17, 17, 128)       0         \n",
      "                                                                 \n",
      " flatten_2 (Flatten)         (None, 36992)             0         \n",
      "                                                                 \n",
      " dense_4 (Dense)             (None, 512)               18940416  \n",
      "                                                                 \n",
      " dropout_11 (Dropout)        (None, 512)               0         \n",
      "                                                                 \n",
      " dense_5 (Dense)             (None, 1)                 513       \n",
      "                                                                 \n",
      "=================================================================\n",
      "Total params: 19,034,177\n",
      "Trainable params: 19,034,177\n",
      "Non-trainable params: 0\n",
      "_________________________________________________________________\n"
     ]
    }
   ],
   "source": [
    "drop=0.25\n",
    "# kernel_initializer =  'he_uniform'  #Also try 'zeros', 'random_uniform', 'he_uniform', 'glorot_uniform'\n",
    "\n",
    "model_thresh_mean = tf.keras.Sequential([\n",
    "    tf.keras.layers.Conv2D(32, (3, 3), activation='relu', input_shape=(150, 150, 3)),    \n",
    "   # tf.keras.layers.BatchNormalization(),  # Add batch normalization layer\n",
    "    tf.keras.layers.MaxPooling2D(2, 2),\n",
    "    tf.keras.layers.Dropout(drop),\n",
    "    tf.keras.layers.Conv2D(64, (3, 3), activation='relu'),    \n",
    "   # tf.keras.layers.BatchNormalization(),  # Add batch normalization layer\n",
    "    tf.keras.layers.MaxPooling2D(2, 2),\n",
    "    tf.keras.layers.Dropout(drop),\n",
    "    tf.keras.layers.Conv2D(128, (3, 3), activation='relu'),\n",
    "   # tf.keras.layers.BatchNormalization(),  # Add batch normalization layer\n",
    "    tf.keras.layers.MaxPooling2D(2, 2),\n",
    "    tf.keras.layers.Dropout(drop),\n",
    "    tf.keras.layers.Flatten(),\n",
    "    tf.keras.layers.Dense(512, activation='relu'),\n",
    "   # tf.keras.layers.BatchNormalization(),  # Add batch normalization layer\n",
    "    tf.keras.layers.Dropout(drop),\n",
    "    tf.keras.layers.Dense(1, activation='sigmoid')  # for binary classification\n",
    "])\n",
    "\n",
    "# Compile the model\n",
    "model_thresh_mean.compile(optimizer='adam',\n",
    "              loss='binary_crossentropy',\n",
    "              metrics=['accuracy'])\n",
    "model_thresh_mean.summary()"
   ]
  },
  {
   "cell_type": "code",
   "execution_count": 82,
   "id": "911f21eb",
   "metadata": {},
   "outputs": [],
   "source": [
    "#Add Callbacks, e.g. ModelCheckpoints, earlystopping, csvlogger.\n",
    "#ModelCheckpoint callback saves a model at some interval. \n",
    "\n",
    "#Give unique name to save all models as accuracy improves\n",
    "#filepath=\"D:\\\\Volvo\\\\Models\\\\weights-improvement-{epoch:02d}-{val_accuracy:.2f}.hdf5\" #File name includes epoch and validation accuracy.\n",
    "\n",
    "#Overwrite the model each time accuracy improves. Saves a lot of space. \n",
    "filepath=\"D:\\\\Volvo\\\\Models\\\\model_thresh_mean.hdf5\" #File name includes epoch and validation accuracy.\n",
    "#Use Mode = max for accuracy and min for loss. \n",
    "checkpoint = ModelCheckpoint(filepath, monitor='val_accuracy', verbose=1, save_best_only=True, mode='max')\n",
    "\n",
    "#https://www.tensorflow.org/api_docs/python/tf/keras/callbacks/EarlyStopping\n",
    "early_stop = EarlyStopping(monitor='val_loss', patience=5, verbose=1)\n",
    "#This callback will stop the training when there is no improvement in\n",
    "# the validation loss for ten consecutive epochs.\n",
    "\n",
    "#CSVLogger logs epoch, accuracy, loss, val_accuracy, val_loss. So we can plot later.\n",
    "log_csv = CSVLogger('D:\\\\Volvo\\\\Logs\\\\model_thresh_mean.csv', separator=',', append=False)\n",
    "\n",
    "callbacks_list_thresh_mean = [checkpoint, early_stop, log_csv]"
   ]
  },
  {
   "cell_type": "code",
   "execution_count": 83,
   "id": "cd685fbc",
   "metadata": {},
   "outputs": [
    {
     "name": "stdout",
     "output_type": "stream",
     "text": [
      "Epoch 1/100\n",
      "428/428 [==============================] - ETA: 0s - loss: 0.1310 - accuracy: 0.9594\n",
      "Epoch 1: val_accuracy improved from -inf to 0.98260, saving model to D:\\Volvo\\Models\\model_thresh_mean.hdf5\n",
      "428/428 [==============================] - 935s 2s/step - loss: 0.1310 - accuracy: 0.9594 - val_loss: 0.0473 - val_accuracy: 0.9826\n",
      "Epoch 2/100\n",
      "428/428 [==============================] - ETA: 0s - loss: 0.0483 - accuracy: 0.9801\n",
      "Epoch 2: val_accuracy improved from 0.98260 to 0.98396, saving model to D:\\Volvo\\Models\\model_thresh_mean.hdf5\n",
      "428/428 [==============================] - 431s 993ms/step - loss: 0.0483 - accuracy: 0.9801 - val_loss: 0.0330 - val_accuracy: 0.9840\n",
      "Epoch 3/100\n",
      "428/428 [==============================] - ETA: 0s - loss: 0.0410 - accuracy: 0.9839\n",
      "Epoch 3: val_accuracy improved from 0.98396 to 0.98635, saving model to D:\\Volvo\\Models\\model_thresh_mean.hdf5\n",
      "428/428 [==============================] - 600s 1s/step - loss: 0.0410 - accuracy: 0.9839 - val_loss: 0.0338 - val_accuracy: 0.9864\n",
      "Epoch 4/100\n",
      "428/428 [==============================] - ETA: 0s - loss: 0.0348 - accuracy: 0.9857\n",
      "Epoch 4: val_accuracy improved from 0.98635 to 0.99113, saving model to D:\\Volvo\\Models\\model_thresh_mean.hdf5\n",
      "428/428 [==============================] - 565s 1s/step - loss: 0.0348 - accuracy: 0.9857 - val_loss: 0.0270 - val_accuracy: 0.9911\n",
      "Epoch 5/100\n",
      "428/428 [==============================] - ETA: 0s - loss: 0.0319 - accuracy: 0.9876\n",
      "Epoch 5: val_accuracy improved from 0.99113 to 0.99147, saving model to D:\\Volvo\\Models\\model_thresh_mean.hdf5\n",
      "428/428 [==============================] - 529s 1s/step - loss: 0.0319 - accuracy: 0.9876 - val_loss: 0.0224 - val_accuracy: 0.9915\n",
      "Epoch 6/100\n",
      "428/428 [==============================] - ETA: 0s - loss: 0.0330 - accuracy: 0.9864\n",
      "Epoch 6: val_accuracy did not improve from 0.99147\n",
      "428/428 [==============================] - 366s 856ms/step - loss: 0.0330 - accuracy: 0.9864 - val_loss: 0.0225 - val_accuracy: 0.9887\n",
      "Epoch 7/100\n",
      "428/428 [==============================] - ETA: 0s - loss: 0.0285 - accuracy: 0.9881\n",
      "Epoch 7: val_accuracy did not improve from 0.99147\n",
      "428/428 [==============================] - 363s 848ms/step - loss: 0.0285 - accuracy: 0.9881 - val_loss: 0.0232 - val_accuracy: 0.9911\n",
      "Epoch 8/100\n",
      "428/428 [==============================] - ETA: 0s - loss: 0.0252 - accuracy: 0.9894\n",
      "Epoch 8: val_accuracy did not improve from 0.99147\n",
      "428/428 [==============================] - 365s 853ms/step - loss: 0.0252 - accuracy: 0.9894 - val_loss: 0.0234 - val_accuracy: 0.9901\n",
      "Epoch 9/100\n",
      "428/428 [==============================] - ETA: 0s - loss: 0.0254 - accuracy: 0.9893\n",
      "Epoch 9: val_accuracy did not improve from 0.99147\n",
      "428/428 [==============================] - 364s 851ms/step - loss: 0.0254 - accuracy: 0.9893 - val_loss: 0.0243 - val_accuracy: 0.9877\n",
      "Epoch 10/100\n",
      "428/428 [==============================] - ETA: 0s - loss: 0.0223 - accuracy: 0.9907\n",
      "Epoch 10: val_accuracy did not improve from 0.99147\n",
      "428/428 [==============================] - 364s 851ms/step - loss: 0.0223 - accuracy: 0.9907 - val_loss: 0.0290 - val_accuracy: 0.9867\n",
      "Epoch 10: early stopping\n"
     ]
    }
   ],
   "source": [
    "# Train the model\n",
    "history_thresh_mean     = model_thresh_mean.fit(\n",
    "                      train_generator_thresh_mean,   \n",
    "    epochs           = 100,    \n",
    "    validation_data  = valid_generator_thresh_mean,   \n",
    "    verbose          = 1,\n",
    "    callbacks        = callbacks_list_thresh_mean\n",
    ")"
   ]
  },
  {
   "cell_type": "code",
   "execution_count": 84,
   "id": "391ca7d4",
   "metadata": {},
   "outputs": [
    {
     "data": {
      "image/png": "[encoded data removed]",
      "text/plain": [
       "<Figure size 432x288 with 1 Axes>"
      ]
     },
     "metadata": {
      "needs_background": "light"
     },
     "output_type": "display_data"
    },
    {
     "data": {
      "image/png": "[encoded data removed]",
      "text/plain": [
       "<Figure size 432x288 with 1 Axes>"
      ]
     },
     "metadata": {
      "needs_background": "light"
     },
     "output_type": "display_data"
    }
   ],
   "source": [
    "#####################################################################\n",
    "#plot the training and validation accuracy and loss at each epoch\n",
    "#If validation loss is lower than training loss this could be becuase we are applying\n",
    "#regularization (Dropout) during training which won't be applied during validation. \n",
    "#Also, training loss is measured during each epoch while validation is done after the epoch.\n",
    "\n",
    "loss_thresh_mean = history_thresh_mean.history['loss']\n",
    "val_loss_thresh_mean = history_thresh_mean.history['val_loss']\n",
    "epochs = range(1, len(loss_thresh_mean) + 1)\n",
    "plt.plot(epochs, loss_thresh_mean, 'y', label='Training loss')\n",
    "plt.plot(epochs, val_loss_thresh_mean, 'r', label='Validation loss')\n",
    "plt.title('Training and validation loss')\n",
    "plt.xlabel('Epochs')\n",
    "plt.ylabel('Loss')\n",
    "plt.legend()\n",
    "plt.show()\n",
    "\n",
    "\n",
    "acc_thresh_mean = history_thresh_mean.history['accuracy']\n",
    "val_acc_thresh_mean = history_thresh_mean.history['val_accuracy']\n",
    "plt.plot(epochs, acc_thresh_mean, 'y', label='Training acc')\n",
    "plt.plot(epochs, val_acc_thresh_mean, 'r', label='Validation acc')\n",
    "plt.title('Training and validation accuracy')\n",
    "plt.xlabel('Epochs')\n",
    "plt.ylabel('Accuracy')\n",
    "plt.legend()\n",
    "plt.show()"
   ]
  },
  {
   "cell_type": "code",
   "execution_count": 85,
   "id": "05f2d1e3",
   "metadata": {},
   "outputs": [
    {
     "name": "stdout",
     "output_type": "stream",
     "text": [
      "Model: \"sequential_2\"\n",
      "_________________________________________________________________\n",
      " Layer (type)                Output Shape              Param #   \n",
      "=================================================================\n",
      " conv2d_6 (Conv2D)           (None, 148, 148, 32)      896       \n",
      "                                                                 \n",
      " max_pooling2d_6 (MaxPooling  (None, 74, 74, 32)       0         \n",
      " 2D)                                                             \n",
      "                                                                 \n",
      " dropout_8 (Dropout)         (None, 74, 74, 32)        0         \n",
      "                                                                 \n",
      " conv2d_7 (Conv2D)           (None, 72, 72, 64)        18496     \n",
      "                                                                 \n",
      " max_pooling2d_7 (MaxPooling  (None, 36, 36, 64)       0         \n",
      " 2D)                                                             \n",
      "                                                                 \n",
      " dropout_9 (Dropout)         (None, 36, 36, 64)        0         \n",
      "                                                                 \n",
      " conv2d_8 (Conv2D)           (None, 34, 34, 128)       73856     \n",
      "                                                                 \n",
      " max_pooling2d_8 (MaxPooling  (None, 17, 17, 128)      0         \n",
      " 2D)                                                             \n",
      "                                                                 \n",
      " dropout_10 (Dropout)        (None, 17, 17, 128)       0         \n",
      "                                                                 \n",
      " flatten_2 (Flatten)         (None, 36992)             0         \n",
      "                                                                 \n",
      " dense_4 (Dense)             (None, 512)               18940416  \n",
      "                                                                 \n",
      " dropout_11 (Dropout)        (None, 512)               0         \n",
      "                                                                 \n",
      " dense_5 (Dense)             (None, 1)                 513       \n",
      "                                                                 \n",
      "=================================================================\n",
      "Total params: 19,034,177\n",
      "Trainable params: 19,034,177\n",
      "Non-trainable params: 0\n",
      "_________________________________________________________________\n"
     ]
    }
   ],
   "source": [
    "model_thresh_mean = tf.keras.models.load_model(\"D:\\\\Volvo\\\\Models\\\\model_thresh_mean.hdf5\")\n",
    "history_thresh_mean = pd.read_csv('D:\\\\Volvo\\\\Logs\\\\model_thresh_mean.csv')\n",
    "model_thresh_mean.summary()"
   ]
  },
  {
   "cell_type": "code",
   "execution_count": 86,
   "id": "8db1b899",
   "metadata": {},
   "outputs": [
    {
     "name": "stdout",
     "output_type": "stream",
     "text": [
      "92/92 [==============================] - 254s 3s/step - loss: 0.0278 - accuracy: 0.9901\n"
     ]
    }
   ],
   "source": [
    "test_loss_thresh_mean, test_accuracy_thresh_mean = model_thresh_mean.evaluate(test_generator_thresh_mean)"
   ]
  },
  {
   "cell_type": "code",
   "execution_count": 87,
   "id": "6acd7a84",
   "metadata": {},
   "outputs": [
    {
     "name": "stdout",
     "output_type": "stream",
     "text": [
      "92/92 [==============================] - 30s 293ms/step\n"
     ]
    }
   ],
   "source": [
    "# Predict probabilities for test data\n",
    "y_pred_prob_thresh_mean = model_thresh_mean.predict(test_generator_thresh_mean)\n",
    "\n",
    "# Convert probabilities to class labels (if needed)\n",
    "# For binary classification:\n",
    "y_pred_thresh_mean = (y_pred_prob_thresh_mean > 0.5).astype(int)\n",
    "\n",
    "# For multiclass classification:\n",
    "#y_pred_thresh_mean = np.argmax(y_pred_prob_thresh_mean, axis=1)\n",
    "\n",
    "# Getting ground truth labels\n",
    "# For binary classification:\n",
    "ground_truth_thresh_mean = test_generator_thresh_mean.labels"
   ]
  },
  {
   "cell_type": "code",
   "execution_count": 88,
   "id": "1a461839",
   "metadata": {},
   "outputs": [
    {
     "name": "stdout",
     "output_type": "stream",
     "text": [
      "ROC for the test dataset 100.0%\n"
     ]
    },
    {
     "data": {
      "image/png": "[encoded data removed]",
      "text/plain": [
       "<Figure size 432x288 with 1 Axes>"
      ]
     },
     "metadata": {
      "needs_background": "light"
     },
     "output_type": "display_data"
    },
    {
     "name": "stderr",
     "output_type": "stream",
     "text": [
      "C:\\Users\\Sandeep\\AppData\\Local\\Temp\\ipykernel_5156\\3245499471.py:38: FutureWarning: The frame.append method is deprecated and will be removed from pandas in a future version. Use pandas.concat instead.\n",
      "  evaluation_results = evaluation_results.append(pd.DataFrame({'Model': model, 'Accuracy': Accuracy, 'Precision': Precision, 'TPR': TPR, 'TNR': TNR, 'F_Score': F_Score, 'ROC_Value': roc_value, 'MCC': MCC, 'Threshold': threshold}, index=[0]), ignore_index=True)\n"
     ]
    },
    {
     "data": {
      "text/html": [
       "<div>\n",
       "<style scoped>\n",
       "    .dataframe tbody tr th:only-of-type {\n",
       "        vertical-align: middle;\n",
       "    }\n",
       "\n",
       "    .dataframe tbody tr th {\n",
       "        vertical-align: top;\n",
       "    }\n",
       "\n",
       "    .dataframe thead th {\n",
       "        text-align: right;\n",
       "    }\n",
       "</style>\n",
       "<table border=\"1\" class=\"dataframe\">\n",
       "  <thead>\n",
       "    <tr style=\"text-align: right;\">\n",
       "      <th></th>\n",
       "      <th>Model</th>\n",
       "      <th>Accuracy</th>\n",
       "      <th>Precision</th>\n",
       "      <th>TPR</th>\n",
       "      <th>TNR</th>\n",
       "      <th>F_Score</th>\n",
       "      <th>ROC_Value</th>\n",
       "      <th>MCC</th>\n",
       "      <th>Threshold</th>\n",
       "    </tr>\n",
       "  </thead>\n",
       "  <tbody>\n",
       "    <tr>\n",
       "      <th>0</th>\n",
       "      <td>CNN with Original image</td>\n",
       "      <td>0.9884</td>\n",
       "      <td>0.982603</td>\n",
       "      <td>0.993666</td>\n",
       "      <td>0.983444</td>\n",
       "      <td>0.988104</td>\n",
       "      <td>0.999601</td>\n",
       "      <td>0.976844</td>\n",
       "      <td>0.673184</td>\n",
       "    </tr>\n",
       "    <tr>\n",
       "      <th>1</th>\n",
       "      <td>CNN with Image After Adaptive Gaussian Thresho...</td>\n",
       "      <td>0.9884</td>\n",
       "      <td>0.982603</td>\n",
       "      <td>0.993666</td>\n",
       "      <td>0.983444</td>\n",
       "      <td>0.988104</td>\n",
       "      <td>0.999222</td>\n",
       "      <td>0.976844</td>\n",
       "      <td>0.530475</td>\n",
       "    </tr>\n",
       "    <tr>\n",
       "      <th>2</th>\n",
       "      <td>CNN with Image After Adaptive Mean Thresholding</td>\n",
       "      <td>0.990106</td>\n",
       "      <td>0.98468</td>\n",
       "      <td>0.995074</td>\n",
       "      <td>0.98543</td>\n",
       "      <td>0.989849</td>\n",
       "      <td>0.999611</td>\n",
       "      <td>0.980251</td>\n",
       "      <td>0.724586</td>\n",
       "    </tr>\n",
       "  </tbody>\n",
       "</table>\n",
       "</div>"
      ],
      "text/plain": [
       "                                               Model  Accuracy Precision  \\\n",
       "0                            CNN with Original image    0.9884  0.982603   \n",
       "1  CNN with Image After Adaptive Gaussian Thresho...    0.9884  0.982603   \n",
       "2    CNN with Image After Adaptive Mean Thresholding  0.990106   0.98468   \n",
       "\n",
       "        TPR       TNR   F_Score ROC_Value       MCC Threshold  \n",
       "0  0.993666  0.983444  0.988104  0.999601  0.976844  0.673184  \n",
       "1  0.993666  0.983444  0.988104  0.999222  0.976844  0.530475  \n",
       "2  0.995074   0.98543  0.989849  0.999611  0.980251  0.724586  "
      ]
     },
     "execution_count": 88,
     "metadata": {},
     "output_type": "execute_result"
    }
   ],
   "source": [
    "Calculate_Errors('CNN with Image After Adaptive Mean Thresholding', ground_truth_thresh_mean, y_pred_thresh_mean, y_pred_prob_thresh_mean)\n",
    "evaluation_results"
   ]
  },
  {
   "cell_type": "code",
   "execution_count": 89,
   "id": "03883b7e",
   "metadata": {},
   "outputs": [
    {
     "name": "stdout",
     "output_type": "stream",
     "text": [
      "Classification Report for CNN with Image After Adaptive Mean Thresholding\n",
      "              precision    recall  f1-score   support\n",
      "\n",
      "           0       1.00      0.99      0.99      1510\n",
      "           1       0.98      1.00      0.99      1421\n",
      "\n",
      "    accuracy                           0.99      2931\n",
      "   macro avg       0.99      0.99      0.99      2931\n",
      "weighted avg       0.99      0.99      0.99      2931\n",
      "\n"
     ]
    }
   ],
   "source": [
    "# Print Classification Report\n",
    "print(\"Classification Report for CNN with Image After Adaptive Mean Thresholding\")\n",
    "print(classification_report(ground_truth_thresh_mean, y_pred_thresh_mean))"
   ]
  },
  {
   "cell_type": "code",
   "execution_count": 90,
   "id": "c91fe8f0",
   "metadata": {},
   "outputs": [
    {
     "name": "stdout",
     "output_type": "stream",
     "text": [
      "Confusion Matrix for CNN with Image After Adaptive Mean Thresholding\n"
     ]
    },
    {
     "data": {
      "image/png": "[encoded data removed]",
      "text/plain": [
       "<Figure size 432x288 with 1 Axes>"
      ]
     },
     "metadata": {
      "needs_background": "light"
     },
     "output_type": "display_data"
    }
   ],
   "source": [
    "# Plot Confusion Matrix\n",
    "print(\"Confusion Matrix for CNN with Image After Adaptive Mean Thresholding\")\n",
    "Plot_Confusion_Matrix(ground_truth_thresh_mean, y_pred_thresh_mean)"
   ]
  },
  {
   "cell_type": "markdown",
   "id": "ff15fbf0",
   "metadata": {},
   "source": [
    "# Build CNN Model with Image After Gabor Filter"
   ]
  },
  {
   "cell_type": "code",
   "execution_count": 91,
   "id": "170474a0",
   "metadata": {},
   "outputs": [
    {
     "name": "stdout",
     "output_type": "stream",
     "text": [
      "Model: \"sequential_3\"\n",
      "_________________________________________________________________\n",
      " Layer (type)                Output Shape              Param #   \n",
      "=================================================================\n",
      " conv2d_9 (Conv2D)           (None, 148, 148, 32)      896       \n",
      "                                                                 \n",
      " max_pooling2d_9 (MaxPooling  (None, 74, 74, 32)       0         \n",
      " 2D)                                                             \n",
      "                                                                 \n",
      " dropout_12 (Dropout)        (None, 74, 74, 32)        0         \n",
      "                                                                 \n",
      " conv2d_10 (Conv2D)          (None, 72, 72, 64)        18496     \n",
      "                                                                 \n",
      " max_pooling2d_10 (MaxPoolin  (None, 36, 36, 64)       0         \n",
      " g2D)                                                            \n",
      "                                                                 \n",
      " dropout_13 (Dropout)        (None, 36, 36, 64)        0         \n",
      "                                                                 \n",
      " conv2d_11 (Conv2D)          (None, 34, 34, 128)       73856     \n",
      "                                                                 \n",
      " max_pooling2d_11 (MaxPoolin  (None, 17, 17, 128)      0         \n",
      " g2D)                                                            \n",
      "                                                                 \n",
      " dropout_14 (Dropout)        (None, 17, 17, 128)       0         \n",
      "                                                                 \n",
      " flatten_3 (Flatten)         (None, 36992)             0         \n",
      "                                                                 \n",
      " dense_6 (Dense)             (None, 512)               18940416  \n",
      "                                                                 \n",
      " dropout_15 (Dropout)        (None, 512)               0         \n",
      "                                                                 \n",
      " dense_7 (Dense)             (None, 1)                 513       \n",
      "                                                                 \n",
      "=================================================================\n",
      "Total params: 19,034,177\n",
      "Trainable params: 19,034,177\n",
      "Non-trainable params: 0\n",
      "_________________________________________________________________\n"
     ]
    }
   ],
   "source": [
    "drop=0.25\n",
    "# kernel_initializer =  'he_uniform'  #Also try 'zeros', 'random_uniform', 'he_uniform', 'glorot_uniform'\n",
    "\n",
    "model_gabor = tf.keras.Sequential([\n",
    "    tf.keras.layers.Conv2D(32, (3, 3), activation='relu', input_shape=(150, 150, 3)),    \n",
    "   # tf.keras.layers.BatchNormalization(),  # Add batch normalization layer\n",
    "    tf.keras.layers.MaxPooling2D(2, 2),\n",
    "    tf.keras.layers.Dropout(drop),\n",
    "    tf.keras.layers.Conv2D(64, (3, 3), activation='relu'),    \n",
    "   # tf.keras.layers.BatchNormalization(),  # Add batch normalization layer\n",
    "    tf.keras.layers.MaxPooling2D(2, 2),\n",
    "    tf.keras.layers.Dropout(drop),\n",
    "    tf.keras.layers.Conv2D(128, (3, 3), activation='relu'),\n",
    "   # tf.keras.layers.BatchNormalization(),  # Add batch normalization layer\n",
    "    tf.keras.layers.MaxPooling2D(2, 2),\n",
    "    tf.keras.layers.Dropout(drop),\n",
    "    tf.keras.layers.Flatten(),\n",
    "    tf.keras.layers.Dense(512, activation='relu'),\n",
    "   # tf.keras.layers.BatchNormalization(),  # Add batch normalization layer\n",
    "    tf.keras.layers.Dropout(drop),\n",
    "    tf.keras.layers.Dense(1, activation='sigmoid')  # for binary classification\n",
    "])\n",
    "\n",
    "# Compile the model\n",
    "model_gabor.compile(optimizer='adam',\n",
    "              loss='binary_crossentropy',\n",
    "              metrics=['accuracy'])\n",
    "model_gabor.summary()"
   ]
  },
  {
   "cell_type": "code",
   "execution_count": 92,
   "id": "7a3b964f",
   "metadata": {},
   "outputs": [],
   "source": [
    "#Add Callbacks, e.g. ModelCheckpoints, earlystopping, csvlogger.\n",
    "#ModelCheckpoint callback saves a model at some interval. \n",
    "\n",
    "#Give unique name to save all models as accuracy improves\n",
    "#filepath=\"D:\\\\Volvo\\\\Models\\\\weights-improvement-{epoch:02d}-{val_accuracy:.2f}.hdf5\" #File name includes epoch and validation accuracy.\n",
    "\n",
    "#Overwrite the model each time accuracy improves. Saves a lot of space. \n",
    "filepath=\"D:\\\\Volvo\\\\Models\\\\model_gabor.hdf5\" #File name includes epoch and validation accuracy.\n",
    "#Use Mode = max for accuracy and min for loss. \n",
    "checkpoint = ModelCheckpoint(filepath, monitor='val_accuracy', verbose=1, save_best_only=True, mode='max')\n",
    "\n",
    "#https://www.tensorflow.org/api_docs/python/tf/keras/callbacks/EarlyStopping\n",
    "early_stop = EarlyStopping(monitor='val_loss', patience=5, verbose=1)\n",
    "#This callback will stop the training when there is no improvement in\n",
    "# the validation loss for ten consecutive epochs.\n",
    "\n",
    "#CSVLogger logs epoch, accuracy, loss, val_accuracy, val_loss. So we can plot later.\n",
    "log_csv = CSVLogger('D:\\\\Volvo\\\\Logs\\\\model_gabor.csv', separator=',', append=False)\n",
    "\n",
    "callbacks_list_gabor = [checkpoint, early_stop, log_csv]"
   ]
  },
  {
   "cell_type": "code",
   "execution_count": 93,
   "id": "b8660f54",
   "metadata": {},
   "outputs": [
    {
     "name": "stdout",
     "output_type": "stream",
     "text": [
      "Epoch 1/100\n",
      "428/428 [==============================] - ETA: 0s - loss: 0.1970 - accuracy: 0.9246\n",
      "Epoch 1: val_accuracy improved from -inf to 0.96622, saving model to D:\\Volvo\\Models\\model_gabor.hdf5\n",
      "428/428 [==============================] - 1070s 2s/step - loss: 0.1970 - accuracy: 0.9246 - val_loss: 0.0676 - val_accuracy: 0.9662\n",
      "Epoch 2/100\n",
      "428/428 [==============================] - ETA: 0s - loss: 0.0719 - accuracy: 0.9698\n",
      "Epoch 2: val_accuracy improved from 0.96622 to 0.97885, saving model to D:\\Volvo\\Models\\model_gabor.hdf5\n",
      "428/428 [==============================] - 390s 912ms/step - loss: 0.0719 - accuracy: 0.9698 - val_loss: 0.0561 - val_accuracy: 0.9788\n",
      "Epoch 3/100\n",
      "428/428 [==============================] - ETA: 0s - loss: 0.0594 - accuracy: 0.9752\n",
      "Epoch 3: val_accuracy improved from 0.97885 to 0.97953, saving model to D:\\Volvo\\Models\\model_gabor.hdf5\n",
      "428/428 [==============================] - 367s 857ms/step - loss: 0.0594 - accuracy: 0.9752 - val_loss: 0.0514 - val_accuracy: 0.9795\n",
      "Epoch 4/100\n",
      "428/428 [==============================] - ETA: 0s - loss: 0.0538 - accuracy: 0.9777\n",
      "Epoch 4: val_accuracy did not improve from 0.97953\n",
      "428/428 [==============================] - 564s 1s/step - loss: 0.0538 - accuracy: 0.9777 - val_loss: 0.0507 - val_accuracy: 0.9727\n",
      "Epoch 5/100\n",
      "428/428 [==============================] - ETA: 0s - loss: 0.0505 - accuracy: 0.9803\n",
      "Epoch 5: val_accuracy improved from 0.97953 to 0.98499, saving model to D:\\Volvo\\Models\\model_gabor.hdf5\n",
      "428/428 [==============================] - 363s 849ms/step - loss: 0.0505 - accuracy: 0.9803 - val_loss: 0.0437 - val_accuracy: 0.9850\n",
      "Epoch 6/100\n",
      "428/428 [==============================] - ETA: 0s - loss: 0.0492 - accuracy: 0.9805\n",
      "Epoch 6: val_accuracy did not improve from 0.98499\n",
      "428/428 [==============================] - 364s 850ms/step - loss: 0.0492 - accuracy: 0.9805 - val_loss: 0.0459 - val_accuracy: 0.9771\n",
      "Epoch 7/100\n",
      "428/428 [==============================] - ETA: 0s - loss: 0.0485 - accuracy: 0.9798\n",
      "Epoch 7: val_accuracy did not improve from 0.98499\n",
      "428/428 [==============================] - 362s 846ms/step - loss: 0.0485 - accuracy: 0.9798 - val_loss: 0.0327 - val_accuracy: 0.9846\n",
      "Epoch 8/100\n",
      "428/428 [==============================] - ETA: 0s - loss: 0.0462 - accuracy: 0.9808\n",
      "Epoch 8: val_accuracy improved from 0.98499 to 0.98806, saving model to D:\\Volvo\\Models\\model_gabor.hdf5\n",
      "428/428 [==============================] - 365s 852ms/step - loss: 0.0462 - accuracy: 0.9808 - val_loss: 0.0312 - val_accuracy: 0.9881\n",
      "Epoch 9/100\n",
      "428/428 [==============================] - ETA: 0s - loss: 0.0460 - accuracy: 0.9812\n",
      "Epoch 9: val_accuracy improved from 0.98806 to 0.98874, saving model to D:\\Volvo\\Models\\model_gabor.hdf5\n",
      "428/428 [==============================] - 582s 1s/step - loss: 0.0460 - accuracy: 0.9812 - val_loss: 0.0334 - val_accuracy: 0.9887\n",
      "Epoch 10/100\n",
      "428/428 [==============================] - ETA: 0s - loss: 0.0438 - accuracy: 0.9822\n",
      "Epoch 10: val_accuracy did not improve from 0.98874\n",
      "428/428 [==============================] - 421s 983ms/step - loss: 0.0438 - accuracy: 0.9822 - val_loss: 0.0370 - val_accuracy: 0.9867\n",
      "Epoch 11/100\n",
      "428/428 [==============================] - ETA: 0s - loss: 0.0432 - accuracy: 0.9819\n",
      "Epoch 11: val_accuracy did not improve from 0.98874\n",
      "428/428 [==============================] - 670s 2s/step - loss: 0.0432 - accuracy: 0.9819 - val_loss: 0.0361 - val_accuracy: 0.9836\n",
      "Epoch 12/100\n",
      "428/428 [==============================] - ETA: 0s - loss: 0.0401 - accuracy: 0.9842\n",
      "Epoch 12: val_accuracy did not improve from 0.98874\n",
      "428/428 [==============================] - 370s 863ms/step - loss: 0.0401 - accuracy: 0.9842 - val_loss: 0.0553 - val_accuracy: 0.9730\n",
      "Epoch 13/100\n",
      "428/428 [==============================] - ETA: 0s - loss: 0.0409 - accuracy: 0.9838\n",
      "Epoch 13: val_accuracy did not improve from 0.98874\n",
      "428/428 [==============================] - 565s 1s/step - loss: 0.0409 - accuracy: 0.9838 - val_loss: 0.0275 - val_accuracy: 0.9870\n",
      "Epoch 14/100\n",
      "428/428 [==============================] - ETA: 0s - loss: 0.0387 - accuracy: 0.9843\n",
      "Epoch 14: val_accuracy did not improve from 0.98874\n",
      "428/428 [==============================] - 362s 845ms/step - loss: 0.0387 - accuracy: 0.9843 - val_loss: 0.0372 - val_accuracy: 0.9833\n",
      "Epoch 15/100\n",
      "428/428 [==============================] - ETA: 0s - loss: 0.0374 - accuracy: 0.9845\n",
      "Epoch 15: val_accuracy did not improve from 0.98874\n",
      "428/428 [==============================] - 565s 1s/step - loss: 0.0374 - accuracy: 0.9845 - val_loss: 0.0542 - val_accuracy: 0.9727\n",
      "Epoch 16/100\n",
      "428/428 [==============================] - ETA: 0s - loss: 0.0385 - accuracy: 0.9841\n",
      "Epoch 16: val_accuracy did not improve from 0.98874\n",
      "428/428 [==============================] - 372s 870ms/step - loss: 0.0385 - accuracy: 0.9841 - val_loss: 0.0316 - val_accuracy: 0.9850\n",
      "Epoch 17/100\n",
      "428/428 [==============================] - ETA: 0s - loss: 0.0379 - accuracy: 0.9849\n",
      "Epoch 17: val_accuracy did not improve from 0.98874\n",
      "428/428 [==============================] - 366s 856ms/step - loss: 0.0379 - accuracy: 0.9849 - val_loss: 0.0227 - val_accuracy: 0.9887\n",
      "Epoch 18/100\n",
      "428/428 [==============================] - ETA: 0s - loss: 0.0381 - accuracy: 0.9860\n",
      "Epoch 18: val_accuracy did not improve from 0.98874\n",
      "428/428 [==============================] - 359s 839ms/step - loss: 0.0381 - accuracy: 0.9860 - val_loss: 0.0412 - val_accuracy: 0.9840\n",
      "Epoch 19/100\n",
      "428/428 [==============================] - ETA: 0s - loss: 0.0331 - accuracy: 0.9862\n",
      "Epoch 19: val_accuracy improved from 0.98874 to 0.99011, saving model to D:\\Volvo\\Models\\model_gabor.hdf5\n",
      "428/428 [==============================] - 362s 845ms/step - loss: 0.0331 - accuracy: 0.9862 - val_loss: 0.0258 - val_accuracy: 0.9901\n",
      "Epoch 20/100\n",
      "428/428 [==============================] - ETA: 0s - loss: 0.0331 - accuracy: 0.9860\n",
      "Epoch 20: val_accuracy did not improve from 0.99011\n",
      "428/428 [==============================] - 360s 841ms/step - loss: 0.0331 - accuracy: 0.9860 - val_loss: 0.0250 - val_accuracy: 0.9891\n",
      "Epoch 21/100\n",
      "428/428 [==============================] - ETA: 0s - loss: 0.0344 - accuracy: 0.9865\n",
      "Epoch 21: val_accuracy did not improve from 0.99011\n",
      "428/428 [==============================] - 361s 842ms/step - loss: 0.0344 - accuracy: 0.9865 - val_loss: 0.0263 - val_accuracy: 0.9898\n",
      "Epoch 22/100\n",
      "428/428 [==============================] - ETA: 0s - loss: 0.0342 - accuracy: 0.9856\n",
      "Epoch 22: val_accuracy did not improve from 0.99011\n",
      "428/428 [==============================] - 362s 845ms/step - loss: 0.0342 - accuracy: 0.9856 - val_loss: 0.0273 - val_accuracy: 0.9874\n",
      "Epoch 22: early stopping\n"
     ]
    }
   ],
   "source": [
    "# Train the model\n",
    "history_gabor     = model_gabor.fit(\n",
    "                      train_generator_gabor,   \n",
    "    epochs           = 100,    \n",
    "    validation_data  = valid_generator_gabor,   \n",
    "    verbose          = 1,\n",
    "    callbacks        = callbacks_list_gabor\n",
    ")"
   ]
  },
  {
   "cell_type": "code",
   "execution_count": 94,
   "id": "acf9e531",
   "metadata": {},
   "outputs": [
    {
     "data": {
      "image/png": "[encoded data removed]",
      "text/plain": [
       "<Figure size 432x288 with 1 Axes>"
      ]
     },
     "metadata": {
      "needs_background": "light"
     },
     "output_type": "display_data"
    },
    {
     "data": {
      "image/png": "[encoded data removed]",
      "text/plain": [
       "<Figure size 432x288 with 1 Axes>"
      ]
     },
     "metadata": {
      "needs_background": "light"
     },
     "output_type": "display_data"
    }
   ],
   "source": [
    "#####################################################################\n",
    "#plot the training and validation accuracy and loss at each epoch\n",
    "#If validation loss is lower than training loss this could be becuase we are applying\n",
    "#regularization (Dropout) during training which won't be applied during validation. \n",
    "#Also, training loss is measured during each epoch while validation is done after the epoch.\n",
    "\n",
    "loss_gabor = history_gabor.history['loss']\n",
    "val_loss_gabor = history_gabor.history['val_loss']\n",
    "epochs = range(1, len(loss_gabor) + 1)\n",
    "plt.plot(epochs, loss_gabor, 'y', label='Training loss')\n",
    "plt.plot(epochs, val_loss_gabor, 'r', label='Validation loss')\n",
    "plt.title('Training and validation loss')\n",
    "plt.xlabel('Epochs')\n",
    "plt.ylabel('Loss')\n",
    "plt.legend()\n",
    "plt.show()\n",
    "\n",
    "\n",
    "acc_gabor = history_gabor.history['accuracy']\n",
    "val_acc_gabor = history_gabor.history['val_accuracy']\n",
    "plt.plot(epochs, acc_gabor, 'y', label='Training acc')\n",
    "plt.plot(epochs, val_acc_gabor, 'r', label='Validation acc')\n",
    "plt.title('Training and validation accuracy')\n",
    "plt.xlabel('Epochs')\n",
    "plt.ylabel('Accuracy')\n",
    "plt.legend()\n",
    "plt.show()"
   ]
  },
  {
   "cell_type": "code",
   "execution_count": 95,
   "id": "7b577f8e",
   "metadata": {},
   "outputs": [
    {
     "name": "stdout",
     "output_type": "stream",
     "text": [
      "Model: \"sequential_3\"\n",
      "_________________________________________________________________\n",
      " Layer (type)                Output Shape              Param #   \n",
      "=================================================================\n",
      " conv2d_9 (Conv2D)           (None, 148, 148, 32)      896       \n",
      "                                                                 \n",
      " max_pooling2d_9 (MaxPooling  (None, 74, 74, 32)       0         \n",
      " 2D)                                                             \n",
      "                                                                 \n",
      " dropout_12 (Dropout)        (None, 74, 74, 32)        0         \n",
      "                                                                 \n",
      " conv2d_10 (Conv2D)          (None, 72, 72, 64)        18496     \n",
      "                                                                 \n",
      " max_pooling2d_10 (MaxPoolin  (None, 36, 36, 64)       0         \n",
      " g2D)                                                            \n",
      "                                                                 \n",
      " dropout_13 (Dropout)        (None, 36, 36, 64)        0         \n",
      "                                                                 \n",
      " conv2d_11 (Conv2D)          (None, 34, 34, 128)       73856     \n",
      "                                                                 \n",
      " max_pooling2d_11 (MaxPoolin  (None, 17, 17, 128)      0         \n",
      " g2D)                                                            \n",
      "                                                                 \n",
      " dropout_14 (Dropout)        (None, 17, 17, 128)       0         \n",
      "                                                                 \n",
      " flatten_3 (Flatten)         (None, 36992)             0         \n",
      "                                                                 \n",
      " dense_6 (Dense)             (None, 512)               18940416  \n",
      "                                                                 \n",
      " dropout_15 (Dropout)        (None, 512)               0         \n",
      "                                                                 \n",
      " dense_7 (Dense)             (None, 1)                 513       \n",
      "                                                                 \n",
      "=================================================================\n",
      "Total params: 19,034,177\n",
      "Trainable params: 19,034,177\n",
      "Non-trainable params: 0\n",
      "_________________________________________________________________\n"
     ]
    }
   ],
   "source": [
    "model_gabor = tf.keras.models.load_model(\"D:\\\\Volvo\\\\Models\\\\model_gabor.hdf5\")\n",
    "history_gabor = pd.read_csv('D:\\\\Volvo\\\\Logs\\\\model_gabor.csv')\n",
    "model_gabor.summary()"
   ]
  },
  {
   "cell_type": "code",
   "execution_count": 96,
   "id": "c5349096",
   "metadata": {},
   "outputs": [
    {
     "name": "stdout",
     "output_type": "stream",
     "text": [
      "92/92 [==============================] - 307s 3s/step - loss: 0.0263 - accuracy: 0.9904\n"
     ]
    }
   ],
   "source": [
    "test_loss_gabor, test_accuracy_gabor = model_gabor.evaluate(test_generator_gabor)"
   ]
  },
  {
   "cell_type": "code",
   "execution_count": 97,
   "id": "56cbeee2",
   "metadata": {},
   "outputs": [
    {
     "name": "stdout",
     "output_type": "stream",
     "text": [
      "92/92 [==============================] - 59s 611ms/step\n"
     ]
    }
   ],
   "source": [
    "# Predict probabilities for test data\n",
    "y_pred_prob_gabor = model_gabor.predict(test_generator_gabor)\n",
    "\n",
    "# Convert probabilities to class labels (if needed)\n",
    "# For binary classification:\n",
    "y_pred_gabor = (y_pred_prob_gabor > 0.5).astype(int)\n",
    "\n",
    "# For multiclass classification:\n",
    "#y_pred_gabor = np.argmax(y_pred_prob_gabor, axis=1)\n",
    "\n",
    "# Getting ground truth labels\n",
    "# For binary classification:\n",
    "ground_truth_gabor = test_generator_gabor.labels"
   ]
  },
  {
   "cell_type": "code",
   "execution_count": 98,
   "id": "8e788ac3",
   "metadata": {},
   "outputs": [
    {
     "name": "stdout",
     "output_type": "stream",
     "text": [
      "ROC for the test dataset 100.0%\n"
     ]
    },
    {
     "data": {
      "image/png": "[encoded data removed]",
      "text/plain": [
       "<Figure size 432x288 with 1 Axes>"
      ]
     },
     "metadata": {
      "needs_background": "light"
     },
     "output_type": "display_data"
    },
    {
     "name": "stderr",
     "output_type": "stream",
     "text": [
      "C:\\Users\\Sandeep\\AppData\\Local\\Temp\\ipykernel_5156\\3245499471.py:38: FutureWarning: The frame.append method is deprecated and will be removed from pandas in a future version. Use pandas.concat instead.\n",
      "  evaluation_results = evaluation_results.append(pd.DataFrame({'Model': model, 'Accuracy': Accuracy, 'Precision': Precision, 'TPR': TPR, 'TNR': TNR, 'F_Score': F_Score, 'ROC_Value': roc_value, 'MCC': MCC, 'Threshold': threshold}, index=[0]), ignore_index=True)\n"
     ]
    },
    {
     "data": {
      "text/html": [
       "<div>\n",
       "<style scoped>\n",
       "    .dataframe tbody tr th:only-of-type {\n",
       "        vertical-align: middle;\n",
       "    }\n",
       "\n",
       "    .dataframe tbody tr th {\n",
       "        vertical-align: top;\n",
       "    }\n",
       "\n",
       "    .dataframe thead th {\n",
       "        text-align: right;\n",
       "    }\n",
       "</style>\n",
       "<table border=\"1\" class=\"dataframe\">\n",
       "  <thead>\n",
       "    <tr style=\"text-align: right;\">\n",
       "      <th></th>\n",
       "      <th>Model</th>\n",
       "      <th>Accuracy</th>\n",
       "      <th>Precision</th>\n",
       "      <th>TPR</th>\n",
       "      <th>TNR</th>\n",
       "      <th>F_Score</th>\n",
       "      <th>ROC_Value</th>\n",
       "      <th>MCC</th>\n",
       "      <th>Threshold</th>\n",
       "    </tr>\n",
       "  </thead>\n",
       "  <tbody>\n",
       "    <tr>\n",
       "      <th>0</th>\n",
       "      <td>CNN with Original image</td>\n",
       "      <td>0.9884</td>\n",
       "      <td>0.982603</td>\n",
       "      <td>0.993666</td>\n",
       "      <td>0.983444</td>\n",
       "      <td>0.988104</td>\n",
       "      <td>0.999601</td>\n",
       "      <td>0.976844</td>\n",
       "      <td>0.673184</td>\n",
       "    </tr>\n",
       "    <tr>\n",
       "      <th>1</th>\n",
       "      <td>CNN with Image After Adaptive Gaussian Thresho...</td>\n",
       "      <td>0.9884</td>\n",
       "      <td>0.982603</td>\n",
       "      <td>0.993666</td>\n",
       "      <td>0.983444</td>\n",
       "      <td>0.988104</td>\n",
       "      <td>0.999222</td>\n",
       "      <td>0.976844</td>\n",
       "      <td>0.530475</td>\n",
       "    </tr>\n",
       "    <tr>\n",
       "      <th>2</th>\n",
       "      <td>CNN with Image After Adaptive Mean Thresholding</td>\n",
       "      <td>0.990106</td>\n",
       "      <td>0.98468</td>\n",
       "      <td>0.995074</td>\n",
       "      <td>0.98543</td>\n",
       "      <td>0.989849</td>\n",
       "      <td>0.999611</td>\n",
       "      <td>0.980251</td>\n",
       "      <td>0.724586</td>\n",
       "    </tr>\n",
       "    <tr>\n",
       "      <th>3</th>\n",
       "      <td>CNN with Image After Gabor Filter</td>\n",
       "      <td>0.990447</td>\n",
       "      <td>0.990148</td>\n",
       "      <td>0.990148</td>\n",
       "      <td>0.990728</td>\n",
       "      <td>0.990148</td>\n",
       "      <td>0.999688</td>\n",
       "      <td>0.980876</td>\n",
       "      <td>0.435529</td>\n",
       "    </tr>\n",
       "  </tbody>\n",
       "</table>\n",
       "</div>"
      ],
      "text/plain": [
       "                                               Model  Accuracy Precision  \\\n",
       "0                            CNN with Original image    0.9884  0.982603   \n",
       "1  CNN with Image After Adaptive Gaussian Thresho...    0.9884  0.982603   \n",
       "2    CNN with Image After Adaptive Mean Thresholding  0.990106   0.98468   \n",
       "3                  CNN with Image After Gabor Filter  0.990447  0.990148   \n",
       "\n",
       "        TPR       TNR   F_Score ROC_Value       MCC Threshold  \n",
       "0  0.993666  0.983444  0.988104  0.999601  0.976844  0.673184  \n",
       "1  0.993666  0.983444  0.988104  0.999222  0.976844  0.530475  \n",
       "2  0.995074   0.98543  0.989849  0.999611  0.980251  0.724586  \n",
       "3  0.990148  0.990728  0.990148  0.999688  0.980876  0.435529  "
      ]
     },
     "execution_count": 98,
     "metadata": {},
     "output_type": "execute_result"
    }
   ],
   "source": [
    "Calculate_Errors('CNN with Image After Gabor Filter', ground_truth_gabor, y_pred_gabor, y_pred_prob_gabor)\n",
    "evaluation_results"
   ]
  },
  {
   "cell_type": "code",
   "execution_count": 99,
   "id": "5aa9b99c",
   "metadata": {},
   "outputs": [
    {
     "name": "stdout",
     "output_type": "stream",
     "text": [
      "Classification Report for CNN with Image After Gabor Filter\n",
      "              precision    recall  f1-score   support\n",
      "\n",
      "           0       0.99      0.99      0.99      1510\n",
      "           1       0.99      0.99      0.99      1421\n",
      "\n",
      "    accuracy                           0.99      2931\n",
      "   macro avg       0.99      0.99      0.99      2931\n",
      "weighted avg       0.99      0.99      0.99      2931\n",
      "\n"
     ]
    }
   ],
   "source": [
    "# Print Classification Report\n",
    "print(\"Classification Report for CNN with Image After Gabor Filter\")\n",
    "print(classification_report(ground_truth_gabor, y_pred_gabor))"
   ]
  },
  {
   "cell_type": "code",
   "execution_count": 100,
   "id": "96748dfe",
   "metadata": {},
   "outputs": [
    {
     "name": "stdout",
     "output_type": "stream",
     "text": [
      "Confusion Matrix for CNN with Image After Gabor Filter\n"
     ]
    },
    {
     "data": {
      "image/png": "[encoded data removed]",
      "text/plain": [
       "<Figure size 432x288 with 1 Axes>"
      ]
     },
     "metadata": {
      "needs_background": "light"
     },
     "output_type": "display_data"
    }
   ],
   "source": [
    "# Plot Confusion Matrix\n",
    "print(\"Confusion Matrix for CNN with Image After Gabor Filter\")\n",
    "Plot_Confusion_Matrix(ground_truth_gabor, y_pred_gabor)"
   ]
  },
  {
   "cell_type": "markdown",
   "id": "abc8afe7",
   "metadata": {},
   "source": [
    "# Build CNN Model with Image After Gabor Filter And Adaptive Gaussian Thresholding"
   ]
  },
  {
   "cell_type": "code",
   "execution_count": 101,
   "id": "59b51da3",
   "metadata": {},
   "outputs": [
    {
     "name": "stdout",
     "output_type": "stream",
     "text": [
      "Model: \"sequential_4\"\n",
      "_________________________________________________________________\n",
      " Layer (type)                Output Shape              Param #   \n",
      "=================================================================\n",
      " conv2d_12 (Conv2D)          (None, 148, 148, 32)      896       \n",
      "                                                                 \n",
      " max_pooling2d_12 (MaxPoolin  (None, 74, 74, 32)       0         \n",
      " g2D)                                                            \n",
      "                                                                 \n",
      " dropout_16 (Dropout)        (None, 74, 74, 32)        0         \n",
      "                                                                 \n",
      " conv2d_13 (Conv2D)          (None, 72, 72, 64)        18496     \n",
      "                                                                 \n",
      " max_pooling2d_13 (MaxPoolin  (None, 36, 36, 64)       0         \n",
      " g2D)                                                            \n",
      "                                                                 \n",
      " dropout_17 (Dropout)        (None, 36, 36, 64)        0         \n",
      "                                                                 \n",
      " conv2d_14 (Conv2D)          (None, 34, 34, 128)       73856     \n",
      "                                                                 \n",
      " max_pooling2d_14 (MaxPoolin  (None, 17, 17, 128)      0         \n",
      " g2D)                                                            \n",
      "                                                                 \n",
      " dropout_18 (Dropout)        (None, 17, 17, 128)       0         \n",
      "                                                                 \n",
      " flatten_4 (Flatten)         (None, 36992)             0         \n",
      "                                                                 \n",
      " dense_8 (Dense)             (None, 512)               18940416  \n",
      "                                                                 \n",
      " dropout_19 (Dropout)        (None, 512)               0         \n",
      "                                                                 \n",
      " dense_9 (Dense)             (None, 1)                 513       \n",
      "                                                                 \n",
      "=================================================================\n",
      "Total params: 19,034,177\n",
      "Trainable params: 19,034,177\n",
      "Non-trainable params: 0\n",
      "_________________________________________________________________\n"
     ]
    }
   ],
   "source": [
    "drop=0.25\n",
    "# kernel_initializer =  'he_uniform'  #Also try 'zeros', 'random_uniform', 'he_uniform', 'glorot_uniform'\n",
    "\n",
    "model_gabor_thresh_gauss = tf.keras.Sequential([\n",
    "    tf.keras.layers.Conv2D(32, (3, 3), activation='relu', input_shape=(150, 150, 3)),    \n",
    "   # tf.keras.layers.BatchNormalization(),  # Add batch normalization layer\n",
    "    tf.keras.layers.MaxPooling2D(2, 2),\n",
    "    tf.keras.layers.Dropout(drop),\n",
    "    tf.keras.layers.Conv2D(64, (3, 3), activation='relu'),    \n",
    "   # tf.keras.layers.BatchNormalization(),  # Add batch normalization layer\n",
    "    tf.keras.layers.MaxPooling2D(2, 2),\n",
    "    tf.keras.layers.Dropout(drop),\n",
    "    tf.keras.layers.Conv2D(128, (3, 3), activation='relu'),\n",
    "   # tf.keras.layers.BatchNormalization(),  # Add batch normalization layer\n",
    "    tf.keras.layers.MaxPooling2D(2, 2),\n",
    "    tf.keras.layers.Dropout(drop),\n",
    "    tf.keras.layers.Flatten(),\n",
    "    tf.keras.layers.Dense(512, activation='relu'),\n",
    "   # tf.keras.layers.BatchNormalization(),  # Add batch normalization layer\n",
    "    tf.keras.layers.Dropout(drop),\n",
    "    tf.keras.layers.Dense(1, activation='sigmoid')  # for binary classification\n",
    "])\n",
    "\n",
    "# Compile the model\n",
    "model_gabor_thresh_gauss.compile(optimizer='adam',\n",
    "              loss='binary_crossentropy',\n",
    "              metrics=['accuracy'])\n",
    "model_gabor_thresh_gauss.summary()"
   ]
  },
  {
   "cell_type": "code",
   "execution_count": 102,
   "id": "e2306f8d",
   "metadata": {},
   "outputs": [],
   "source": [
    "#Add Callbacks, e.g. ModelCheckpoints, earlystopping, csvlogger.\n",
    "#ModelCheckpoint callback saves a model at some interval. \n",
    "\n",
    "#Give unique name to save all models as accuracy improves\n",
    "#filepath=\"D:\\\\Volvo\\\\Models\\\\weights-improvement-{epoch:02d}-{val_accuracy:.2f}.hdf5\" #File name includes epoch and validation accuracy.\n",
    "\n",
    "#Overwrite the model each time accuracy improves. Saves a lot of space. \n",
    "filepath=\"D:\\\\Volvo\\\\Models\\\\model_gabor_thresh_gauss.hdf5\" #File name includes epoch and validation accuracy.\n",
    "#Use Mode = max for accuracy and min for loss. \n",
    "checkpoint = ModelCheckpoint(filepath, monitor='val_accuracy', verbose=1, save_best_only=True, mode='max')\n",
    "\n",
    "#https://www.tensorflow.org/api_docs/python/tf/keras/callbacks/EarlyStopping\n",
    "early_stop = EarlyStopping(monitor='val_loss', patience=5, verbose=1)\n",
    "#This callback will stop the training when there is no improvement in\n",
    "# the validation loss for ten consecutive epochs.\n",
    "\n",
    "#CSVLogger logs epoch, accuracy, loss, val_accuracy, val_loss. So we can plot later.\n",
    "log_csv = CSVLogger('D:\\\\Volvo\\\\Logs\\\\model_gabor_thresh_gauss.csv', separator=',', append=False)\n",
    "\n",
    "callbacks_list_gabor_thresh_gauss = [checkpoint, early_stop, log_csv]"
   ]
  },
  {
   "cell_type": "code",
   "execution_count": 103,
   "id": "85d0660f",
   "metadata": {},
   "outputs": [
    {
     "name": "stdout",
     "output_type": "stream",
     "text": [
      "Epoch 1/100\n",
      "428/428 [==============================] - ETA: 0s - loss: 0.1494 - accuracy: 0.9566\n",
      "Epoch 1: val_accuracy improved from -inf to 0.98567, saving model to D:\\Volvo\\Models\\model_gabor_thresh_gauss.hdf5\n",
      "428/428 [==============================] - 855s 2s/step - loss: 0.1494 - accuracy: 0.9566 - val_loss: 0.0405 - val_accuracy: 0.9857\n",
      "Epoch 2/100\n",
      "428/428 [==============================] - ETA: 0s - loss: 0.0504 - accuracy: 0.9792\n",
      "Epoch 2: val_accuracy did not improve from 0.98567\n",
      "428/428 [==============================] - 390s 911ms/step - loss: 0.0504 - accuracy: 0.9792 - val_loss: 0.0499 - val_accuracy: 0.9795\n",
      "Epoch 3/100\n",
      "428/428 [==============================] - ETA: 0s - loss: 0.0454 - accuracy: 0.9816\n",
      "Epoch 3: val_accuracy did not improve from 0.98567\n",
      "428/428 [==============================] - 619s 1s/step - loss: 0.0454 - accuracy: 0.9816 - val_loss: 0.0396 - val_accuracy: 0.9829\n",
      "Epoch 4/100\n",
      "428/428 [==============================] - ETA: 0s - loss: 0.0441 - accuracy: 0.9815\n",
      "Epoch 4: val_accuracy improved from 0.98567 to 0.98704, saving model to D:\\Volvo\\Models\\model_gabor_thresh_gauss.hdf5\n",
      "428/428 [==============================] - 474s 1s/step - loss: 0.0441 - accuracy: 0.9815 - val_loss: 0.0326 - val_accuracy: 0.9870\n",
      "Epoch 5/100\n",
      "428/428 [==============================] - ETA: 0s - loss: 0.0386 - accuracy: 0.9849\n",
      "Epoch 5: val_accuracy did not improve from 0.98704\n",
      "428/428 [==============================] - 548s 1s/step - loss: 0.0386 - accuracy: 0.9849 - val_loss: 0.0349 - val_accuracy: 0.9870\n",
      "Epoch 6/100\n",
      "428/428 [==============================] - ETA: 0s - loss: 0.0363 - accuracy: 0.9852\n",
      "Epoch 6: val_accuracy did not improve from 0.98704\n",
      "428/428 [==============================] - 382s 894ms/step - loss: 0.0363 - accuracy: 0.9852 - val_loss: 0.0316 - val_accuracy: 0.9867\n",
      "Epoch 7/100\n",
      "428/428 [==============================] - ETA: 0s - loss: 0.0344 - accuracy: 0.9860\n",
      "Epoch 7: val_accuracy did not improve from 0.98704\n",
      "428/428 [==============================] - 470s 1s/step - loss: 0.0344 - accuracy: 0.9860 - val_loss: 0.0392 - val_accuracy: 0.9864\n",
      "Epoch 8/100\n",
      "428/428 [==============================] - ETA: 0s - loss: 0.0335 - accuracy: 0.9854\n",
      "Epoch 8: val_accuracy improved from 0.98704 to 0.98806, saving model to D:\\Volvo\\Models\\model_gabor_thresh_gauss.hdf5\n",
      "428/428 [==============================] - 821s 2s/step - loss: 0.0335 - accuracy: 0.9854 - val_loss: 0.0309 - val_accuracy: 0.9881\n",
      "Epoch 9/100\n",
      "428/428 [==============================] - ETA: 0s - loss: 0.0320 - accuracy: 0.9863\n",
      "Epoch 9: val_accuracy did not improve from 0.98806\n",
      "428/428 [==============================] - 1176s 3s/step - loss: 0.0320 - accuracy: 0.9863 - val_loss: 0.0343 - val_accuracy: 0.9853\n",
      "Epoch 10/100\n",
      "428/428 [==============================] - ETA: 0s - loss: 0.0264 - accuracy: 0.9891\n",
      "Epoch 10: val_accuracy improved from 0.98806 to 0.98942, saving model to D:\\Volvo\\Models\\model_gabor_thresh_gauss.hdf5\n",
      "428/428 [==============================] - 612s 1s/step - loss: 0.0264 - accuracy: 0.9891 - val_loss: 0.0282 - val_accuracy: 0.9894\n",
      "Epoch 11/100\n",
      "428/428 [==============================] - ETA: 0s - loss: 0.0260 - accuracy: 0.9889\n",
      "Epoch 11: val_accuracy did not improve from 0.98942\n",
      "428/428 [==============================] - 361s 844ms/step - loss: 0.0260 - accuracy: 0.9889 - val_loss: 0.0352 - val_accuracy: 0.9864\n",
      "Epoch 12/100\n",
      "428/428 [==============================] - ETA: 0s - loss: 0.0253 - accuracy: 0.9895\n",
      "Epoch 12: val_accuracy did not improve from 0.98942\n",
      "428/428 [==============================] - 471s 1s/step - loss: 0.0253 - accuracy: 0.9895 - val_loss: 0.0296 - val_accuracy: 0.9891\n",
      "Epoch 13/100\n",
      "428/428 [==============================] - ETA: 0s - loss: 0.0254 - accuracy: 0.9892\n",
      "Epoch 13: val_accuracy improved from 0.98942 to 0.99011, saving model to D:\\Volvo\\Models\\model_gabor_thresh_gauss.hdf5\n",
      "428/428 [==============================] - 725s 2s/step - loss: 0.0254 - accuracy: 0.9892 - val_loss: 0.0286 - val_accuracy: 0.9901\n",
      "Epoch 14/100\n",
      "428/428 [==============================] - ETA: 0s - loss: 0.0254 - accuracy: 0.9897\n",
      "Epoch 14: val_accuracy did not improve from 0.99011\n",
      "428/428 [==============================] - 360s 841ms/step - loss: 0.0254 - accuracy: 0.9897 - val_loss: 0.0268 - val_accuracy: 0.9894\n",
      "Epoch 15/100\n",
      "428/428 [==============================] - ETA: 0s - loss: 0.0206 - accuracy: 0.9916\n",
      "Epoch 15: val_accuracy did not improve from 0.99011\n",
      "428/428 [==============================] - 362s 846ms/step - loss: 0.0206 - accuracy: 0.9916 - val_loss: 0.0305 - val_accuracy: 0.9857\n",
      "Epoch 16/100\n",
      "428/428 [==============================] - ETA: 0s - loss: 0.0194 - accuracy: 0.9922\n",
      "Epoch 16: val_accuracy did not improve from 0.99011\n",
      "428/428 [==============================] - 693s 2s/step - loss: 0.0194 - accuracy: 0.9922 - val_loss: 0.0321 - val_accuracy: 0.9874\n",
      "Epoch 17/100\n",
      "428/428 [==============================] - ETA: 0s - loss: 0.0190 - accuracy: 0.9920\n",
      "Epoch 17: val_accuracy improved from 0.99011 to 0.99079, saving model to D:\\Volvo\\Models\\model_gabor_thresh_gauss.hdf5\n",
      "428/428 [==============================] - 362s 847ms/step - loss: 0.0190 - accuracy: 0.9920 - val_loss: 0.0278 - val_accuracy: 0.9908\n",
      "Epoch 18/100\n",
      "428/428 [==============================] - ETA: 0s - loss: 0.0196 - accuracy: 0.9920\n",
      "Epoch 18: val_accuracy did not improve from 0.99079\n",
      "428/428 [==============================] - 365s 854ms/step - loss: 0.0196 - accuracy: 0.9920 - val_loss: 0.0286 - val_accuracy: 0.9894\n",
      "Epoch 19/100\n",
      "428/428 [==============================] - ETA: 0s - loss: 0.0185 - accuracy: 0.9925\n",
      "Epoch 19: val_accuracy did not improve from 0.99079\n",
      "428/428 [==============================] - 372s 870ms/step - loss: 0.0185 - accuracy: 0.9925 - val_loss: 0.0337 - val_accuracy: 0.9884\n",
      "Epoch 19: early stopping\n"
     ]
    }
   ],
   "source": [
    "# Train the model\n",
    "history_gabor_thresh_gauss     = model_gabor_thresh_gauss.fit(\n",
    "                      train_generator_gabor_thresh_gauss,   \n",
    "    epochs           = 100,    \n",
    "    validation_data  = valid_generator_gabor_thresh_gauss,   \n",
    "    verbose          = 1,\n",
    "    callbacks        = callbacks_list_gabor_thresh_gauss\n",
    ")"
   ]
  },
  {
   "cell_type": "code",
   "execution_count": 104,
   "id": "b41ffd5b",
   "metadata": {},
   "outputs": [
    {
     "data": {
      "image/png": "[encoded data removed]",
      "text/plain": [
       "<Figure size 432x288 with 1 Axes>"
      ]
     },
     "metadata": {
      "needs_background": "light"
     },
     "output_type": "display_data"
    },
    {
     "data": {
      "image/png": "[encoded data removed]",
      "text/plain": [
       "<Figure size 432x288 with 1 Axes>"
      ]
     },
     "metadata": {
      "needs_background": "light"
     },
     "output_type": "display_data"
    }
   ],
   "source": [
    "#####################################################################\n",
    "#plot the training and validation accuracy and loss at each epoch\n",
    "#If validation loss is lower than training loss this could be becuase we are applying\n",
    "#regularization (Dropout) during training which won't be applied during validation. \n",
    "#Also, training loss is measured during each epoch while validation is done after the epoch.\n",
    "\n",
    "loss_gabor_thresh_gauss = history_gabor_thresh_gauss.history['loss']\n",
    "val_loss_gabor_thresh_gauss = history_gabor_thresh_gauss.history['val_loss']\n",
    "epochs = range(1, len(loss_gabor_thresh_gauss) + 1)\n",
    "plt.plot(epochs, loss_gabor_thresh_gauss, 'y', label='Training loss')\n",
    "plt.plot(epochs, val_loss_gabor_thresh_gauss, 'r', label='Validation loss')\n",
    "plt.title('Training and validation loss')\n",
    "plt.xlabel('Epochs')\n",
    "plt.ylabel('Loss')\n",
    "plt.legend()\n",
    "plt.show()\n",
    "\n",
    "\n",
    "acc_gabor_thresh_gauss = history_gabor_thresh_gauss.history['accuracy']\n",
    "val_acc_gabor_thresh_gauss = history_gabor_thresh_gauss.history['val_accuracy']\n",
    "plt.plot(epochs, acc_gabor_thresh_gauss, 'y', label='Training acc')\n",
    "plt.plot(epochs, val_acc_gabor_thresh_gauss, 'r', label='Validation acc')\n",
    "plt.title('Training and validation accuracy')\n",
    "plt.xlabel('Epochs')\n",
    "plt.ylabel('Accuracy')\n",
    "plt.legend()\n",
    "plt.show()"
   ]
  },
  {
   "cell_type": "code",
   "execution_count": 105,
   "id": "4b89e233",
   "metadata": {},
   "outputs": [
    {
     "name": "stdout",
     "output_type": "stream",
     "text": [
      "Model: \"sequential_4\"\n",
      "_________________________________________________________________\n",
      " Layer (type)                Output Shape              Param #   \n",
      "=================================================================\n",
      " conv2d_12 (Conv2D)          (None, 148, 148, 32)      896       \n",
      "                                                                 \n",
      " max_pooling2d_12 (MaxPoolin  (None, 74, 74, 32)       0         \n",
      " g2D)                                                            \n",
      "                                                                 \n",
      " dropout_16 (Dropout)        (None, 74, 74, 32)        0         \n",
      "                                                                 \n",
      " conv2d_13 (Conv2D)          (None, 72, 72, 64)        18496     \n",
      "                                                                 \n",
      " max_pooling2d_13 (MaxPoolin  (None, 36, 36, 64)       0         \n",
      " g2D)                                                            \n",
      "                                                                 \n",
      " dropout_17 (Dropout)        (None, 36, 36, 64)        0         \n",
      "                                                                 \n",
      " conv2d_14 (Conv2D)          (None, 34, 34, 128)       73856     \n",
      "                                                                 \n",
      " max_pooling2d_14 (MaxPoolin  (None, 17, 17, 128)      0         \n",
      " g2D)                                                            \n",
      "                                                                 \n",
      " dropout_18 (Dropout)        (None, 17, 17, 128)       0         \n",
      "                                                                 \n",
      " flatten_4 (Flatten)         (None, 36992)             0         \n",
      "                                                                 \n",
      " dense_8 (Dense)             (None, 512)               18940416  \n",
      "                                                                 \n",
      " dropout_19 (Dropout)        (None, 512)               0         \n",
      "                                                                 \n",
      " dense_9 (Dense)             (None, 1)                 513       \n",
      "                                                                 \n",
      "=================================================================\n",
      "Total params: 19,034,177\n",
      "Trainable params: 19,034,177\n",
      "Non-trainable params: 0\n",
      "_________________________________________________________________\n"
     ]
    }
   ],
   "source": [
    "model_gabor_thresh_gauss = tf.keras.models.load_model(\"D:\\\\Volvo\\\\Models\\\\model_gabor_thresh_gauss.hdf5\")\n",
    "history_gabor_thresh_gauss = pd.read_csv('D:\\\\Volvo\\\\Logs\\\\model_gabor_thresh_gauss.csv')\n",
    "model_gabor_thresh_gauss.summary()"
   ]
  },
  {
   "cell_type": "code",
   "execution_count": 106,
   "id": "d3e7214e",
   "metadata": {},
   "outputs": [
    {
     "name": "stdout",
     "output_type": "stream",
     "text": [
      "92/92 [==============================] - 268s 3s/step - loss: 0.0233 - accuracy: 0.9891\n"
     ]
    }
   ],
   "source": [
    "test_loss_gabor_thresh_gauss, test_accuracy_gabor_thresh_gauss = model_gabor_thresh_gauss.evaluate(test_generator_gabor_thresh_gauss)"
   ]
  },
  {
   "cell_type": "code",
   "execution_count": 107,
   "id": "cd5fc08c",
   "metadata": {},
   "outputs": [
    {
     "name": "stdout",
     "output_type": "stream",
     "text": [
      "92/92 [==============================] - 94s 994ms/step\n"
     ]
    }
   ],
   "source": [
    "# Predict probabilities for test data\n",
    "y_pred_prob_gabor_thresh_gauss = model_gabor_thresh_gauss.predict(test_generator_gabor_thresh_gauss)\n",
    "\n",
    "# Convert probabilities to class labels (if needed)\n",
    "# For binary classification:\n",
    "y_pred_gabor_thresh_gauss = (y_pred_prob_gabor_thresh_gauss > 0.5).astype(int)\n",
    "\n",
    "# For multiclass classification:\n",
    "#y_pred_gabor_thresh_gauss = np.argmax(y_pred_prob_gabor_thresh_gauss, axis=1)\n",
    "\n",
    "# Getting ground truth labels\n",
    "# For binary classification:\n",
    "ground_truth_gabor_thresh_gauss = test_generator_gabor_thresh_gauss.labels"
   ]
  },
  {
   "cell_type": "code",
   "execution_count": 108,
   "id": "62a51dd3",
   "metadata": {},
   "outputs": [
    {
     "name": "stdout",
     "output_type": "stream",
     "text": [
      "ROC for the test dataset 100.0%\n"
     ]
    },
    {
     "data": {
      "image/png": "[encoded data removed]",
      "text/plain": [
       "<Figure size 432x288 with 1 Axes>"
      ]
     },
     "metadata": {
      "needs_background": "light"
     },
     "output_type": "display_data"
    },
    {
     "name": "stderr",
     "output_type": "stream",
     "text": [
      "C:\\Users\\Sandeep\\AppData\\Local\\Temp\\ipykernel_5156\\3245499471.py:38: FutureWarning: The frame.append method is deprecated and will be removed from pandas in a future version. Use pandas.concat instead.\n",
      "  evaluation_results = evaluation_results.append(pd.DataFrame({'Model': model, 'Accuracy': Accuracy, 'Precision': Precision, 'TPR': TPR, 'TNR': TNR, 'F_Score': F_Score, 'ROC_Value': roc_value, 'MCC': MCC, 'Threshold': threshold}, index=[0]), ignore_index=True)\n"
     ]
    },
    {
     "data": {
      "text/html": [
       "<div>\n",
       "<style scoped>\n",
       "    .dataframe tbody tr th:only-of-type {\n",
       "        vertical-align: middle;\n",
       "    }\n",
       "\n",
       "    .dataframe tbody tr th {\n",
       "        vertical-align: top;\n",
       "    }\n",
       "\n",
       "    .dataframe thead th {\n",
       "        text-align: right;\n",
       "    }\n",
       "</style>\n",
       "<table border=\"1\" class=\"dataframe\">\n",
       "  <thead>\n",
       "    <tr style=\"text-align: right;\">\n",
       "      <th></th>\n",
       "      <th>Model</th>\n",
       "      <th>Accuracy</th>\n",
       "      <th>Precision</th>\n",
       "      <th>TPR</th>\n",
       "      <th>TNR</th>\n",
       "      <th>F_Score</th>\n",
       "      <th>ROC_Value</th>\n",
       "      <th>MCC</th>\n",
       "      <th>Threshold</th>\n",
       "    </tr>\n",
       "  </thead>\n",
       "  <tbody>\n",
       "    <tr>\n",
       "      <th>0</th>\n",
       "      <td>CNN with Original image</td>\n",
       "      <td>0.9884</td>\n",
       "      <td>0.982603</td>\n",
       "      <td>0.993666</td>\n",
       "      <td>0.983444</td>\n",
       "      <td>0.988104</td>\n",
       "      <td>0.999601</td>\n",
       "      <td>0.976844</td>\n",
       "      <td>0.673184</td>\n",
       "    </tr>\n",
       "    <tr>\n",
       "      <th>1</th>\n",
       "      <td>CNN with Image After Adaptive Gaussian Thresho...</td>\n",
       "      <td>0.9884</td>\n",
       "      <td>0.982603</td>\n",
       "      <td>0.993666</td>\n",
       "      <td>0.983444</td>\n",
       "      <td>0.988104</td>\n",
       "      <td>0.999222</td>\n",
       "      <td>0.976844</td>\n",
       "      <td>0.530475</td>\n",
       "    </tr>\n",
       "    <tr>\n",
       "      <th>2</th>\n",
       "      <td>CNN with Image After Adaptive Mean Thresholding</td>\n",
       "      <td>0.990106</td>\n",
       "      <td>0.98468</td>\n",
       "      <td>0.995074</td>\n",
       "      <td>0.98543</td>\n",
       "      <td>0.989849</td>\n",
       "      <td>0.999611</td>\n",
       "      <td>0.980251</td>\n",
       "      <td>0.724586</td>\n",
       "    </tr>\n",
       "    <tr>\n",
       "      <th>3</th>\n",
       "      <td>CNN with Image After Gabor Filter</td>\n",
       "      <td>0.990447</td>\n",
       "      <td>0.990148</td>\n",
       "      <td>0.990148</td>\n",
       "      <td>0.990728</td>\n",
       "      <td>0.990148</td>\n",
       "      <td>0.999688</td>\n",
       "      <td>0.980876</td>\n",
       "      <td>0.435529</td>\n",
       "    </tr>\n",
       "    <tr>\n",
       "      <th>4</th>\n",
       "      <td>CNN with Image After Gabor Filter and Adaptive...</td>\n",
       "      <td>0.989082</td>\n",
       "      <td>0.987368</td>\n",
       "      <td>0.990148</td>\n",
       "      <td>0.988079</td>\n",
       "      <td>0.988756</td>\n",
       "      <td>0.999671</td>\n",
       "      <td>0.97815</td>\n",
       "      <td>0.579517</td>\n",
       "    </tr>\n",
       "  </tbody>\n",
       "</table>\n",
       "</div>"
      ],
      "text/plain": [
       "                                               Model  Accuracy Precision  \\\n",
       "0                            CNN with Original image    0.9884  0.982603   \n",
       "1  CNN with Image After Adaptive Gaussian Thresho...    0.9884  0.982603   \n",
       "2    CNN with Image After Adaptive Mean Thresholding  0.990106   0.98468   \n",
       "3                  CNN with Image After Gabor Filter  0.990447  0.990148   \n",
       "4  CNN with Image After Gabor Filter and Adaptive...  0.989082  0.987368   \n",
       "\n",
       "        TPR       TNR   F_Score ROC_Value       MCC Threshold  \n",
       "0  0.993666  0.983444  0.988104  0.999601  0.976844  0.673184  \n",
       "1  0.993666  0.983444  0.988104  0.999222  0.976844  0.530475  \n",
       "2  0.995074   0.98543  0.989849  0.999611  0.980251  0.724586  \n",
       "3  0.990148  0.990728  0.990148  0.999688  0.980876  0.435529  \n",
       "4  0.990148  0.988079  0.988756  0.999671   0.97815  0.579517  "
      ]
     },
     "execution_count": 108,
     "metadata": {},
     "output_type": "execute_result"
    }
   ],
   "source": [
    "Calculate_Errors('CNN with Image After Gabor Filter and Adaptive Gaussian Thresholding', ground_truth_gabor_thresh_gauss, y_pred_gabor_thresh_gauss, y_pred_prob_gabor_thresh_gauss)\n",
    "evaluation_results"
   ]
  },
  {
   "cell_type": "code",
   "execution_count": 109,
   "id": "2bbefe76",
   "metadata": {},
   "outputs": [
    {
     "name": "stdout",
     "output_type": "stream",
     "text": [
      "Classification Report for CNN with Image After Gabor Filter and Adaptive Gaussian Thresholding\n",
      "              precision    recall  f1-score   support\n",
      "\n",
      "           0       0.99      0.99      0.99      1510\n",
      "           1       0.99      0.99      0.99      1421\n",
      "\n",
      "    accuracy                           0.99      2931\n",
      "   macro avg       0.99      0.99      0.99      2931\n",
      "weighted avg       0.99      0.99      0.99      2931\n",
      "\n"
     ]
    }
   ],
   "source": [
    "# Print Classification Report\n",
    "print(\"Classification Report for CNN with Image After Gabor Filter and Adaptive Gaussian Thresholding\")\n",
    "print(classification_report(ground_truth_gabor_thresh_gauss, y_pred_gabor_thresh_gauss))"
   ]
  },
  {
   "cell_type": "code",
   "execution_count": 110,
   "id": "33012d48",
   "metadata": {},
   "outputs": [
    {
     "name": "stdout",
     "output_type": "stream",
     "text": [
      "Confusion Matrix for CNN with Image After Gabor Filter and Adaptive Gaussian Thresholding\n"
     ]
    },
    {
     "data": {
      "image/png": "[encoded data removed]",
      "text/plain": [
       "<Figure size 432x288 with 1 Axes>"
      ]
     },
     "metadata": {
      "needs_background": "light"
     },
     "output_type": "display_data"
    }
   ],
   "source": [
    "# Plot Confusion Matrix\n",
    "print(\"Confusion Matrix for CNN with Image After Gabor Filter and Adaptive Gaussian Thresholding\")\n",
    "Plot_Confusion_Matrix(ground_truth_gabor_thresh_gauss, y_pred_gabor_thresh_gauss)"
   ]
  },
  {
   "cell_type": "markdown",
   "id": "fa079fcb",
   "metadata": {},
   "source": [
    "# Build CNN Model with Image After Gabor Filter And Adaptive Mean Thresholding"
   ]
  },
  {
   "cell_type": "code",
   "execution_count": 111,
   "id": "b376eb72",
   "metadata": {},
   "outputs": [
    {
     "name": "stdout",
     "output_type": "stream",
     "text": [
      "Model: \"sequential_5\"\n",
      "_________________________________________________________________\n",
      " Layer (type)                Output Shape              Param #   \n",
      "=================================================================\n",
      " conv2d_15 (Conv2D)          (None, 148, 148, 32)      896       \n",
      "                                                                 \n",
      " max_pooling2d_15 (MaxPoolin  (None, 74, 74, 32)       0         \n",
      " g2D)                                                            \n",
      "                                                                 \n",
      " dropout_20 (Dropout)        (None, 74, 74, 32)        0         \n",
      "                                                                 \n",
      " conv2d_16 (Conv2D)          (None, 72, 72, 64)        18496     \n",
      "                                                                 \n",
      " max_pooling2d_16 (MaxPoolin  (None, 36, 36, 64)       0         \n",
      " g2D)                                                            \n",
      "                                                                 \n",
      " dropout_21 (Dropout)        (None, 36, 36, 64)        0         \n",
      "                                                                 \n",
      " conv2d_17 (Conv2D)          (None, 34, 34, 128)       73856     \n",
      "                                                                 \n",
      " max_pooling2d_17 (MaxPoolin  (None, 17, 17, 128)      0         \n",
      " g2D)                                                            \n",
      "                                                                 \n",
      " dropout_22 (Dropout)        (None, 17, 17, 128)       0         \n",
      "                                                                 \n",
      " flatten_5 (Flatten)         (None, 36992)             0         \n",
      "                                                                 \n",
      " dense_10 (Dense)            (None, 512)               18940416  \n",
      "                                                                 \n",
      " dropout_23 (Dropout)        (None, 512)               0         \n",
      "                                                                 \n",
      " dense_11 (Dense)            (None, 1)                 513       \n",
      "                                                                 \n",
      "=================================================================\n",
      "Total params: 19,034,177\n",
      "Trainable params: 19,034,177\n",
      "Non-trainable params: 0\n",
      "_________________________________________________________________\n"
     ]
    }
   ],
   "source": [
    "drop=0.25\n",
    "# kernel_initializer =  'he_uniform'  #Also try 'zeros', 'random_uniform', 'he_uniform', 'glorot_uniform'\n",
    "\n",
    "model_gabor_thresh_mean = tf.keras.Sequential([\n",
    "    tf.keras.layers.Conv2D(32, (3, 3), activation='relu', input_shape=(150, 150, 3)),    \n",
    "   # tf.keras.layers.BatchNormalization(),  # Add batch normalization layer\n",
    "    tf.keras.layers.MaxPooling2D(2, 2),\n",
    "    tf.keras.layers.Dropout(drop),\n",
    "    tf.keras.layers.Conv2D(64, (3, 3), activation='relu'),    \n",
    "   # tf.keras.layers.BatchNormalization(),  # Add batch normalization layer\n",
    "    tf.keras.layers.MaxPooling2D(2, 2),\n",
    "    tf.keras.layers.Dropout(drop),\n",
    "    tf.keras.layers.Conv2D(128, (3, 3), activation='relu'),\n",
    "   # tf.keras.layers.BatchNormalization(),  # Add batch normalization layer\n",
    "    tf.keras.layers.MaxPooling2D(2, 2),\n",
    "    tf.keras.layers.Dropout(drop),\n",
    "    tf.keras.layers.Flatten(),\n",
    "    tf.keras.layers.Dense(512, activation='relu'),\n",
    "   # tf.keras.layers.BatchNormalization(),  # Add batch normalization layer\n",
    "    tf.keras.layers.Dropout(drop),\n",
    "    tf.keras.layers.Dense(1, activation='sigmoid')  # for binary classification\n",
    "])\n",
    "\n",
    "# Compile the model\n",
    "model_gabor_thresh_mean.compile(optimizer='adam',\n",
    "              loss='binary_crossentropy',\n",
    "              metrics=['accuracy'])\n",
    "model_gabor_thresh_mean.summary()"
   ]
  },
  {
   "cell_type": "code",
   "execution_count": 112,
   "id": "e24425c3",
   "metadata": {},
   "outputs": [],
   "source": [
    "#Add Callbacks, e.g. ModelCheckpoints, earlystopping, csvlogger.\n",
    "#ModelCheckpoint callback saves a model at some interval. \n",
    "\n",
    "#Give unique name to save all models as accuracy improves\n",
    "#filepath=\"D:\\\\Volvo\\\\Models\\\\weights-improvement-{epoch:02d}-{val_accuracy:.2f}.hdf5\" #File name includes epoch and validation accuracy.\n",
    "\n",
    "#Overwrite the model each time accuracy improves. Saves a lot of space. \n",
    "filepath=\"D:\\\\Volvo\\\\Models\\\\model_gabor_thresh_mean.hdf5\" #File name includes epoch and validation accuracy.\n",
    "#Use Mode = max for accuracy and min for loss. \n",
    "checkpoint = ModelCheckpoint(filepath, monitor='val_accuracy', verbose=1, save_best_only=True, mode='max')\n",
    "\n",
    "#https://www.tensorflow.org/api_docs/python/tf/keras/callbacks/EarlyStopping\n",
    "early_stop = EarlyStopping(monitor='val_loss', patience=5, verbose=1)\n",
    "#This callback will stop the training when there is no improvement in\n",
    "# the validation loss for ten consecutive epochs.\n",
    "\n",
    "#CSVLogger logs epoch, accuracy, loss, val_accuracy, val_loss. So we can plot later.\n",
    "log_csv = CSVLogger('D:\\\\Volvo\\\\Logs\\\\model_gabor_thresh_mean.csv', separator=',', append=False)\n",
    "\n",
    "callbacks_list_gabor_thresh_mean = [checkpoint, early_stop, log_csv]"
   ]
  },
  {
   "cell_type": "code",
   "execution_count": 113,
   "id": "e9ef4ce0",
   "metadata": {},
   "outputs": [
    {
     "name": "stdout",
     "output_type": "stream",
     "text": [
      "Epoch 1/100\n",
      "428/428 [==============================] - ETA: 0s - loss: 0.1112 - accuracy: 0.9635\n",
      "Epoch 1: val_accuracy improved from -inf to 0.98226, saving model to D:\\Volvo\\Models\\model_gabor_thresh_mean.hdf5\n",
      "428/428 [==============================] - 1589s 4s/step - loss: 0.1112 - accuracy: 0.9635 - val_loss: 0.0462 - val_accuracy: 0.9823\n",
      "Epoch 2/100\n",
      "428/428 [==============================] - ETA: 0s - loss: 0.0447 - accuracy: 0.9818\n",
      "Epoch 2: val_accuracy improved from 0.98226 to 0.98669, saving model to D:\\Volvo\\Models\\model_gabor_thresh_mean.hdf5\n",
      "428/428 [==============================] - 384s 898ms/step - loss: 0.0447 - accuracy: 0.9818 - val_loss: 0.0317 - val_accuracy: 0.9867\n",
      "Epoch 3/100\n",
      "428/428 [==============================] - ETA: 0s - loss: 0.0405 - accuracy: 0.9836\n",
      "Epoch 3: val_accuracy did not improve from 0.98669\n",
      "428/428 [==============================] - 372s 870ms/step - loss: 0.0405 - accuracy: 0.9836 - val_loss: 0.0648 - val_accuracy: 0.9717\n",
      "Epoch 4/100\n",
      "428/428 [==============================] - ETA: 0s - loss: 0.0375 - accuracy: 0.9852\n",
      "Epoch 4: val_accuracy improved from 0.98669 to 0.98840, saving model to D:\\Volvo\\Models\\model_gabor_thresh_mean.hdf5\n",
      "428/428 [==============================] - 835s 2s/step - loss: 0.0375 - accuracy: 0.9852 - val_loss: 0.0296 - val_accuracy: 0.9884\n",
      "Epoch 5/100\n",
      "428/428 [==============================] - ETA: 0s - loss: 0.0353 - accuracy: 0.9865\n",
      "Epoch 5: val_accuracy improved from 0.98840 to 0.98874, saving model to D:\\Volvo\\Models\\model_gabor_thresh_mean.hdf5\n",
      "428/428 [==============================] - 363s 848ms/step - loss: 0.0353 - accuracy: 0.9865 - val_loss: 0.0284 - val_accuracy: 0.9887\n",
      "Epoch 6/100\n",
      "428/428 [==============================] - ETA: 0s - loss: 0.0309 - accuracy: 0.9870\n",
      "Epoch 6: val_accuracy improved from 0.98874 to 0.98942, saving model to D:\\Volvo\\Models\\model_gabor_thresh_mean.hdf5\n",
      "428/428 [==============================] - 361s 844ms/step - loss: 0.0309 - accuracy: 0.9870 - val_loss: 0.0275 - val_accuracy: 0.9894\n",
      "Epoch 7/100\n",
      "428/428 [==============================] - ETA: 0s - loss: 0.0311 - accuracy: 0.9880\n",
      "Epoch 7: val_accuracy did not improve from 0.98942\n",
      "428/428 [==============================] - 363s 849ms/step - loss: 0.0311 - accuracy: 0.9880 - val_loss: 0.0270 - val_accuracy: 0.9884\n",
      "Epoch 8/100\n",
      "428/428 [==============================] - ETA: 0s - loss: 0.0289 - accuracy: 0.9887\n",
      "Epoch 8: val_accuracy did not improve from 0.98942\n",
      "428/428 [==============================] - 775s 2s/step - loss: 0.0289 - accuracy: 0.9887 - val_loss: 0.0263 - val_accuracy: 0.9881\n",
      "Epoch 9/100\n",
      "428/428 [==============================] - ETA: 0s - loss: 0.0271 - accuracy: 0.9892\n",
      "Epoch 9: val_accuracy did not improve from 0.98942\n",
      "428/428 [==============================] - 370s 864ms/step - loss: 0.0271 - accuracy: 0.9892 - val_loss: 0.0251 - val_accuracy: 0.9887\n",
      "Epoch 10/100\n",
      "428/428 [==============================] - ETA: 0s - loss: 0.0241 - accuracy: 0.9900\n",
      "Epoch 10: val_accuracy did not improve from 0.98942\n",
      "428/428 [==============================] - 357s 835ms/step - loss: 0.0241 - accuracy: 0.9900 - val_loss: 0.0215 - val_accuracy: 0.9887\n",
      "Epoch 11/100\n",
      "428/428 [==============================] - ETA: 0s - loss: 0.0256 - accuracy: 0.9893\n",
      "Epoch 11: val_accuracy did not improve from 0.98942\n",
      "428/428 [==============================] - 360s 840ms/step - loss: 0.0256 - accuracy: 0.9893 - val_loss: 0.0255 - val_accuracy: 0.9874\n",
      "Epoch 12/100\n",
      "428/428 [==============================] - ETA: 0s - loss: 0.0238 - accuracy: 0.9898\n",
      "Epoch 12: val_accuracy did not improve from 0.98942\n",
      "428/428 [==============================] - 711s 2s/step - loss: 0.0238 - accuracy: 0.9898 - val_loss: 0.0326 - val_accuracy: 0.9870\n",
      "Epoch 13/100\n",
      "428/428 [==============================] - ETA: 0s - loss: 0.0199 - accuracy: 0.9920\n",
      "Epoch 13: val_accuracy improved from 0.98942 to 0.99045, saving model to D:\\Volvo\\Models\\model_gabor_thresh_mean.hdf5\n",
      "428/428 [==============================] - 372s 868ms/step - loss: 0.0199 - accuracy: 0.9920 - val_loss: 0.0281 - val_accuracy: 0.9904\n",
      "Epoch 14/100\n",
      "428/428 [==============================] - ETA: 0s - loss: 0.0211 - accuracy: 0.9911\n",
      "Epoch 14: val_accuracy did not improve from 0.99045\n",
      "428/428 [==============================] - 647s 2s/step - loss: 0.0211 - accuracy: 0.9911 - val_loss: 0.0278 - val_accuracy: 0.9891\n",
      "Epoch 15/100\n",
      "428/428 [==============================] - ETA: 0s - loss: 0.0207 - accuracy: 0.9915\n",
      "Epoch 15: val_accuracy did not improve from 0.99045\n",
      "428/428 [==============================] - 361s 844ms/step - loss: 0.0207 - accuracy: 0.9915 - val_loss: 0.0222 - val_accuracy: 0.9884\n",
      "Epoch 15: early stopping\n"
     ]
    }
   ],
   "source": [
    "# Train the model\n",
    "history_gabor_thresh_mean     = model_gabor_thresh_mean.fit(\n",
    "                      train_generator_gabor_thresh_mean,   \n",
    "    epochs           = 100,    \n",
    "    validation_data  = valid_generator_gabor_thresh_mean,   \n",
    "    verbose          = 1,\n",
    "    callbacks        = callbacks_list_gabor_thresh_mean\n",
    ")"
   ]
  },
  {
   "cell_type": "code",
   "execution_count": 114,
   "id": "a8b2249d",
   "metadata": {},
   "outputs": [
    {
     "data": {
      "image/png": "[encoded data removed]",
      "text/plain": [
       "<Figure size 432x288 with 1 Axes>"
      ]
     },
     "metadata": {
      "needs_background": "light"
     },
     "output_type": "display_data"
    },
    {
     "data": {
      "image/png": "[encoded data removed]",
      "text/plain": [
       "<Figure size 432x288 with 1 Axes>"
      ]
     },
     "metadata": {
      "needs_background": "light"
     },
     "output_type": "display_data"
    }
   ],
   "source": [
    "#####################################################################\n",
    "#plot the training and validation accuracy and loss at each epoch\n",
    "#If validation loss is lower than training loss this could be becuase we are applying\n",
    "#regularization (Dropout) during training which won't be applied during validation. \n",
    "#Also, training loss is measured during each epoch while validation is done after the epoch.\n",
    "\n",
    "loss_gabor_thresh_mean = history_gabor_thresh_mean.history['loss']\n",
    "val_loss_gabor_thresh_mean = history_gabor_thresh_mean.history['val_loss']\n",
    "epochs = range(1, len(loss_gabor_thresh_mean) + 1)\n",
    "plt.plot(epochs, loss_gabor_thresh_mean, 'y', label='Training loss')\n",
    "plt.plot(epochs, val_loss_gabor_thresh_mean, 'r', label='Validation loss')\n",
    "plt.title('Training and validation loss')\n",
    "plt.xlabel('Epochs')\n",
    "plt.ylabel('Loss')\n",
    "plt.legend()\n",
    "plt.show()\n",
    "\n",
    "\n",
    "acc_gabor_thresh_mean = history_gabor_thresh_mean.history['accuracy']\n",
    "val_acc_gabor_thresh_mean = history_gabor_thresh_mean.history['val_accuracy']\n",
    "plt.plot(epochs, acc_gabor_thresh_mean, 'y', label='Training acc')\n",
    "plt.plot(epochs, val_acc_gabor_thresh_mean, 'r', label='Validation acc')\n",
    "plt.title('Training and validation accuracy')\n",
    "plt.xlabel('Epochs')\n",
    "plt.ylabel('Accuracy')\n",
    "plt.legend()\n",
    "plt.show()"
   ]
  },
  {
   "cell_type": "code",
   "execution_count": 115,
   "id": "d6de6700",
   "metadata": {},
   "outputs": [
    {
     "name": "stdout",
     "output_type": "stream",
     "text": [
      "Model: \"sequential_5\"\n",
      "_________________________________________________________________\n",
      " Layer (type)                Output Shape              Param #   \n",
      "=================================================================\n",
      " conv2d_15 (Conv2D)          (None, 148, 148, 32)      896       \n",
      "                                                                 \n",
      " max_pooling2d_15 (MaxPoolin  (None, 74, 74, 32)       0         \n",
      " g2D)                                                            \n",
      "                                                                 \n",
      " dropout_20 (Dropout)        (None, 74, 74, 32)        0         \n",
      "                                                                 \n",
      " conv2d_16 (Conv2D)          (None, 72, 72, 64)        18496     \n",
      "                                                                 \n",
      " max_pooling2d_16 (MaxPoolin  (None, 36, 36, 64)       0         \n",
      " g2D)                                                            \n",
      "                                                                 \n",
      " dropout_21 (Dropout)        (None, 36, 36, 64)        0         \n",
      "                                                                 \n",
      " conv2d_17 (Conv2D)          (None, 34, 34, 128)       73856     \n",
      "                                                                 \n",
      " max_pooling2d_17 (MaxPoolin  (None, 17, 17, 128)      0         \n",
      " g2D)                                                            \n",
      "                                                                 \n",
      " dropout_22 (Dropout)        (None, 17, 17, 128)       0         \n",
      "                                                                 \n",
      " flatten_5 (Flatten)         (None, 36992)             0         \n",
      "                                                                 \n",
      " dense_10 (Dense)            (None, 512)               18940416  \n",
      "                                                                 \n",
      " dropout_23 (Dropout)        (None, 512)               0         \n",
      "                                                                 \n",
      " dense_11 (Dense)            (None, 1)                 513       \n",
      "                                                                 \n",
      "=================================================================\n",
      "Total params: 19,034,177\n",
      "Trainable params: 19,034,177\n",
      "Non-trainable params: 0\n",
      "_________________________________________________________________\n"
     ]
    }
   ],
   "source": [
    "model_gabor_thresh_mean = tf.keras.models.load_model(\"D:\\\\Volvo\\\\Models\\\\model_gabor_thresh_mean.hdf5\")\n",
    "history_gabor_thresh_mean = pd.read_csv('D:\\\\Volvo\\\\Logs\\\\model_gabor_thresh_mean.csv')\n",
    "model_gabor_thresh_mean.summary()"
   ]
  },
  {
   "cell_type": "code",
   "execution_count": 116,
   "id": "8aea4485",
   "metadata": {},
   "outputs": [
    {
     "name": "stdout",
     "output_type": "stream",
     "text": [
      "92/92 [==============================] - 244s 3s/step - loss: 0.0292 - accuracy: 0.9887\n"
     ]
    }
   ],
   "source": [
    "test_loss_gabor_thresh_mean, test_accuracy_gabor_thresh_mean = model_gabor_thresh_mean.evaluate(test_generator_gabor_thresh_mean)"
   ]
  },
  {
   "cell_type": "code",
   "execution_count": 117,
   "id": "d012306f",
   "metadata": {},
   "outputs": [
    {
     "name": "stdout",
     "output_type": "stream",
     "text": [
      "92/92 [==============================] - 97s 1s/step\n"
     ]
    }
   ],
   "source": [
    "# Predict probabilities for test data\n",
    "y_pred_prob_gabor_thresh_mean = model_gabor_thresh_mean.predict(test_generator_gabor_thresh_mean)\n",
    "\n",
    "# Convert probabilities to class labels (if needed)\n",
    "# For binary classification:\n",
    "y_pred_gabor_thresh_mean = (y_pred_prob_gabor_thresh_mean > 0.5).astype(int)\n",
    "\n",
    "# For multiclass classification:\n",
    "#y_pred_gabor_thresh_mean = np.argmax(y_pred_prob_gabor_thresh_mean, axis=1)\n",
    "\n",
    "# Getting ground truth labels\n",
    "# For binary classification:\n",
    "ground_truth_gabor_thresh_mean = test_generator_gabor_thresh_mean.labels"
   ]
  },
  {
   "cell_type": "code",
   "execution_count": 118,
   "id": "31e23594",
   "metadata": {},
   "outputs": [
    {
     "name": "stdout",
     "output_type": "stream",
     "text": [
      "ROC for the test dataset 99.9%\n"
     ]
    },
    {
     "data": {
      "image/png": "[encoded data removed]",
      "text/plain": [
       "<Figure size 432x288 with 1 Axes>"
      ]
     },
     "metadata": {
      "needs_background": "light"
     },
     "output_type": "display_data"
    },
    {
     "name": "stderr",
     "output_type": "stream",
     "text": [
      "C:\\Users\\Sandeep\\AppData\\Local\\Temp\\ipykernel_5156\\3245499471.py:38: FutureWarning: The frame.append method is deprecated and will be removed from pandas in a future version. Use pandas.concat instead.\n",
      "  evaluation_results = evaluation_results.append(pd.DataFrame({'Model': model, 'Accuracy': Accuracy, 'Precision': Precision, 'TPR': TPR, 'TNR': TNR, 'F_Score': F_Score, 'ROC_Value': roc_value, 'MCC': MCC, 'Threshold': threshold}, index=[0]), ignore_index=True)\n"
     ]
    },
    {
     "data": {
      "text/html": [
       "<div>\n",
       "<style scoped>\n",
       "    .dataframe tbody tr th:only-of-type {\n",
       "        vertical-align: middle;\n",
       "    }\n",
       "\n",
       "    .dataframe tbody tr th {\n",
       "        vertical-align: top;\n",
       "    }\n",
       "\n",
       "    .dataframe thead th {\n",
       "        text-align: right;\n",
       "    }\n",
       "</style>\n",
       "<table border=\"1\" class=\"dataframe\">\n",
       "  <thead>\n",
       "    <tr style=\"text-align: right;\">\n",
       "      <th></th>\n",
       "      <th>Model</th>\n",
       "      <th>Accuracy</th>\n",
       "      <th>Precision</th>\n",
       "      <th>TPR</th>\n",
       "      <th>TNR</th>\n",
       "      <th>F_Score</th>\n",
       "      <th>ROC_Value</th>\n",
       "      <th>MCC</th>\n",
       "      <th>Threshold</th>\n",
       "    </tr>\n",
       "  </thead>\n",
       "  <tbody>\n",
       "    <tr>\n",
       "      <th>0</th>\n",
       "      <td>CNN with Original image</td>\n",
       "      <td>0.9884</td>\n",
       "      <td>0.982603</td>\n",
       "      <td>0.993666</td>\n",
       "      <td>0.983444</td>\n",
       "      <td>0.988104</td>\n",
       "      <td>0.999601</td>\n",
       "      <td>0.976844</td>\n",
       "      <td>0.673184</td>\n",
       "    </tr>\n",
       "    <tr>\n",
       "      <th>1</th>\n",
       "      <td>CNN with Image After Adaptive Gaussian Thresho...</td>\n",
       "      <td>0.9884</td>\n",
       "      <td>0.982603</td>\n",
       "      <td>0.993666</td>\n",
       "      <td>0.983444</td>\n",
       "      <td>0.988104</td>\n",
       "      <td>0.999222</td>\n",
       "      <td>0.976844</td>\n",
       "      <td>0.530475</td>\n",
       "    </tr>\n",
       "    <tr>\n",
       "      <th>2</th>\n",
       "      <td>CNN with Image After Adaptive Mean Thresholding</td>\n",
       "      <td>0.990106</td>\n",
       "      <td>0.98468</td>\n",
       "      <td>0.995074</td>\n",
       "      <td>0.98543</td>\n",
       "      <td>0.989849</td>\n",
       "      <td>0.999611</td>\n",
       "      <td>0.980251</td>\n",
       "      <td>0.724586</td>\n",
       "    </tr>\n",
       "    <tr>\n",
       "      <th>3</th>\n",
       "      <td>CNN with Image After Gabor Filter</td>\n",
       "      <td>0.990447</td>\n",
       "      <td>0.990148</td>\n",
       "      <td>0.990148</td>\n",
       "      <td>0.990728</td>\n",
       "      <td>0.990148</td>\n",
       "      <td>0.999688</td>\n",
       "      <td>0.980876</td>\n",
       "      <td>0.435529</td>\n",
       "    </tr>\n",
       "    <tr>\n",
       "      <th>4</th>\n",
       "      <td>CNN with Image After Gabor Filter and Adaptive...</td>\n",
       "      <td>0.989082</td>\n",
       "      <td>0.987368</td>\n",
       "      <td>0.990148</td>\n",
       "      <td>0.988079</td>\n",
       "      <td>0.988756</td>\n",
       "      <td>0.999671</td>\n",
       "      <td>0.97815</td>\n",
       "      <td>0.579517</td>\n",
       "    </tr>\n",
       "    <tr>\n",
       "      <th>5</th>\n",
       "      <td>CNN with Image After Gabor Filter and Adaptive...</td>\n",
       "      <td>0.988741</td>\n",
       "      <td>0.990806</td>\n",
       "      <td>0.985925</td>\n",
       "      <td>0.991391</td>\n",
       "      <td>0.98836</td>\n",
       "      <td>0.999424</td>\n",
       "      <td>0.977469</td>\n",
       "      <td>0.362923</td>\n",
       "    </tr>\n",
       "  </tbody>\n",
       "</table>\n",
       "</div>"
      ],
      "text/plain": [
       "                                               Model  Accuracy Precision  \\\n",
       "0                            CNN with Original image    0.9884  0.982603   \n",
       "1  CNN with Image After Adaptive Gaussian Thresho...    0.9884  0.982603   \n",
       "2    CNN with Image After Adaptive Mean Thresholding  0.990106   0.98468   \n",
       "3                  CNN with Image After Gabor Filter  0.990447  0.990148   \n",
       "4  CNN with Image After Gabor Filter and Adaptive...  0.989082  0.987368   \n",
       "5  CNN with Image After Gabor Filter and Adaptive...  0.988741  0.990806   \n",
       "\n",
       "        TPR       TNR   F_Score ROC_Value       MCC Threshold  \n",
       "0  0.993666  0.983444  0.988104  0.999601  0.976844  0.673184  \n",
       "1  0.993666  0.983444  0.988104  0.999222  0.976844  0.530475  \n",
       "2  0.995074   0.98543  0.989849  0.999611  0.980251  0.724586  \n",
       "3  0.990148  0.990728  0.990148  0.999688  0.980876  0.435529  \n",
       "4  0.990148  0.988079  0.988756  0.999671   0.97815  0.579517  \n",
       "5  0.985925  0.991391   0.98836  0.999424  0.977469  0.362923  "
      ]
     },
     "execution_count": 118,
     "metadata": {},
     "output_type": "execute_result"
    }
   ],
   "source": [
    "Calculate_Errors('CNN with Image After Gabor Filter and Adaptive Mean Thresholding', ground_truth_gabor_thresh_mean, y_pred_gabor_thresh_mean, y_pred_prob_gabor_thresh_mean)\n",
    "evaluation_results"
   ]
  },
  {
   "cell_type": "code",
   "execution_count": 119,
   "id": "d1b8f8ca",
   "metadata": {},
   "outputs": [
    {
     "name": "stdout",
     "output_type": "stream",
     "text": [
      "Classification Report for CNN with Image After Gabor Filter and Adaptive Mean Thresholding\n",
      "              precision    recall  f1-score   support\n",
      "\n",
      "           0       0.99      0.99      0.99      1510\n",
      "           1       0.99      0.99      0.99      1421\n",
      "\n",
      "    accuracy                           0.99      2931\n",
      "   macro avg       0.99      0.99      0.99      2931\n",
      "weighted avg       0.99      0.99      0.99      2931\n",
      "\n"
     ]
    }
   ],
   "source": [
    "# Print Classification Report\n",
    "print(\"Classification Report for CNN with Image After Gabor Filter and Adaptive Mean Thresholding\")\n",
    "print(classification_report(ground_truth_gabor_thresh_mean, y_pred_gabor_thresh_mean))"
   ]
  },
  {
   "cell_type": "code",
   "execution_count": 120,
   "id": "f7fbd2a0",
   "metadata": {},
   "outputs": [
    {
     "name": "stdout",
     "output_type": "stream",
     "text": [
      "Confusion Matrix for CNN with Image After Gabor Filter and Adaptive Mean Thresholding\n"
     ]
    },
    {
     "data": {
      "image/png": "[encoded data removed]",
      "text/plain": [
       "<Figure size 432x288 with 1 Axes>"
      ]
     },
     "metadata": {
      "needs_background": "light"
     },
     "output_type": "display_data"
    }
   ],
   "source": [
    "# Plot Confusion Matrix\n",
    "print(\"Confusion Matrix for CNN with Image After Gabor Filter and Adaptive Mean Thresholding\")\n",
    "Plot_Confusion_Matrix(ground_truth_gabor_thresh_mean, y_pred_gabor_thresh_mean)"
   ]
  },
  {
   "cell_type": "code",
   "execution_count": 121,
   "id": "bff3a6fd",
   "metadata": {},
   "outputs": [],
   "source": [
    "evaluation_results.to_csv('D:\\\\Volvo\\\\EvaluationResults.csv')"
   ]
  }
 ],
 "metadata": {
  "kernelspec": {
   "display_name": "Python 3 (ipykernel)",
   "language": "python",
   "name": "python3"
  },
  "language_info": {
   "codemirror_mode": {
    "name": "ipython",
    "version": 3
   },
   "file_extension": ".py",
   "mimetype": "text/x-python",
   "name": "python",
   "nbconvert_exporter": "python",
   "pygments_lexer": "ipython3",
   "version": "3.9.12"
  }
 },
 "nbformat": 4,
 "nbformat_minor": 5
}
